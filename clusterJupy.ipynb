{
 "cells": [
  {
   "cell_type": "markdown",
   "metadata": {},
   "source": [
    "# In questo file andiamo a fare il task di clusterizzazione"
   ]
  },
  {
   "cell_type": "code",
   "execution_count": 12,
   "metadata": {},
   "outputs": [],
   "source": [
    "# for basic mathematics operation \n",
    "import numpy as np\n",
    "import pandas as pd\n",
    "\n",
    "# for visualizations\n",
    "import matplotlib.pyplot as plt\n",
    "import seaborn as sns\n",
    "from sklearn.cluster import KMeans\n",
    "\n",
    "from IPython.core.interactiveshell import InteractiveShell\n",
    "InteractiveShell.ast_node_interactivity = \"none\"\n"
   ]
  },
  {
   "cell_type": "markdown",
   "metadata": {},
   "source": [
    "# Adesso vado a caricare il dataset ma solo con le due colonne d'interesse"
   ]
  },
  {
   "cell_type": "code",
   "execution_count": 13,
   "metadata": {},
   "outputs": [
    {
     "name": "stdout",
     "output_type": "stream",
     "text": [
      "(2190888, 4)\n"
     ]
    }
   ],
   "source": [
    "data = pd.read_csv('DataSet\\out.csv')\n",
    "#display(data.head())\n",
    "\n",
    "# take only annual income and spending score\n",
    "x = data.iloc[:, [0,8,9,13]].values\n",
    "\n",
    "# let's check the shape of x\n",
    "print(x.shape)\n"
   ]
  },
  {
   "cell_type": "markdown",
   "metadata": {},
   "source": [
    "# Devo fare ETL, devo eliminare i valore Nan nel dataset"
   ]
  },
  {
   "cell_type": "code",
   "execution_count": 14,
   "metadata": {},
   "outputs": [
    {
     "name": "stdout",
     "output_type": "stream",
     "text": [
      "c:\\Users\\pc\\Desktop\\Università\\Data science\\Progetti\\ProgettoPython\\DataScience2Project\n"
     ]
    }
   ],
   "source": [
    "import os\n",
    "from scipy import stats\n",
    "import math\n",
    "\n",
    "# Cambio della cartella attuale nella cartella in cui si trova il file .py\n",
    "path_file = os.path.abspath(os.getcwd())\n",
    "print(path_file)\n",
    "os.chdir(path_file)\n",
    "\n",
    "path_cartella = r\"\\archive\\csvs_per_year\\csvs_per_year\"\n",
    "\n",
    "path = path_file + path_cartella"
   ]
  },
  {
   "cell_type": "markdown",
   "metadata": {},
   "source": [
    "# Per comodità carico direttamente tutti i file"
   ]
  },
  {
   "cell_type": "code",
   "execution_count": 34,
   "metadata": {},
   "outputs": [
    {
     "name": "stdout",
     "output_type": "stream",
     "text": [
      "<class 'pandas.core.frame.DataFrame'>\n",
      "RangeIndex: 2190888 entries, 0 to 2190887\n",
      "Data columns (total 14 columns):\n",
      " #   Column   Dtype  \n",
      "---  ------   -----  \n",
      " 0   date     object \n",
      " 1   BEN      float64\n",
      " 2   CO       float64\n",
      " 3   EBE      float64\n",
      " 4   NMHC     float64\n",
      " 5   NO       float64\n",
      " 6   NO_2     float64\n",
      " 7   O_3      float64\n",
      " 8   PM10     float64\n",
      " 9   PM25     float64\n",
      " 10  SO_2     float64\n",
      " 11  TCH      float64\n",
      " 12  TOL      float64\n",
      " 13  station  int64  \n",
      "dtypes: float64(12), int64(1), object(1)\n",
      "memory usage: 234.0+ MB\n"
     ]
    },
    {
     "data": {
      "text/plain": [
       "None"
      ]
     },
     "metadata": {},
     "output_type": "display_data"
    }
   ],
   "source": [
    "# Vado a caricare tutte le tabelle del mio dataset\n",
    "\n",
    "madrid2008 = pd.read_csv(path+\"\\madrid_2008.csv\")\n",
    "madrid2009 = pd.read_csv(path+\"\\madrid_2009.csv\")\n",
    "madrid2010 = pd.read_csv(path+\"\\madrid_2010.csv\")\n",
    "madrid2011 = pd.read_csv(path+\"\\madrid_2011.csv\")\n",
    "madrid2012 = pd.read_csv(path+\"\\madrid_2012.csv\")\n",
    "madrid2013 = pd.read_csv(path+\"\\madrid_2013.csv\")\n",
    "madrid2014 = pd.read_csv(path+\"\\madrid_2014.csv\")\n",
    "madrid2015 = pd.read_csv(path+\"\\madrid_2015.csv\")\n",
    "madrid2016 = pd.read_csv(path+\"\\madrid_2016.csv\")\n",
    "madrid2017 = pd.read_csv(path+\"\\madrid_2017.csv\")\n",
    "madrid2018 = pd.read_csv(path+\"\\madrid_2018.csv\")\n",
    "station = pd.read_csv('DataSet\\stations.csv')\n",
    "out = pd.read_csv('DataSet\\out.csv')\n",
    "display(out.info())"
   ]
  },
  {
   "cell_type": "markdown",
   "metadata": {},
   "source": [
    "# Per ogni anno e per ogni stazione calcolo la media troncata e la sostituisco ai valori Nan"
   ]
  },
  {
   "cell_type": "code",
   "execution_count": 48,
   "metadata": {},
   "outputs": [
    {
     "name": "stderr",
     "output_type": "stream",
     "text": [
      "C:\\Users\\pc\\AppData\\Local\\Temp\\ipykernel_10476\\3578172549.py:1: FutureWarning: The default dtype for empty Series will be 'object' instead of 'float64' in a future version. Specify a dtype explicitly to silence this warning.\n",
      "  full = pd.Series()\n",
      "C:\\Users\\pc\\AppData\\Local\\Temp\\ipykernel_10476\\3578172549.py:4: FutureWarning: The default dtype for empty Series will be 'object' instead of 'float64' in a future version. Specify a dtype explicitly to silence this warning.\n",
      "  fullYear = pd.Series()\n",
      "C:\\Users\\pc\\AppData\\Local\\Temp\\ipykernel_10476\\3578172549.py:4: FutureWarning: The default dtype for empty Series will be 'object' instead of 'float64' in a future version. Specify a dtype explicitly to silence this warning.\n",
      "  fullYear = pd.Series()\n",
      "C:\\Users\\pc\\AppData\\Local\\Temp\\ipykernel_10476\\3578172549.py:4: FutureWarning: The default dtype for empty Series will be 'object' instead of 'float64' in a future version. Specify a dtype explicitly to silence this warning.\n",
      "  fullYear = pd.Series()\n",
      "C:\\Users\\pc\\AppData\\Local\\Temp\\ipykernel_10476\\3578172549.py:4: FutureWarning: The default dtype for empty Series will be 'object' instead of 'float64' in a future version. Specify a dtype explicitly to silence this warning.\n",
      "  fullYear = pd.Series()\n",
      "C:\\Users\\pc\\AppData\\Local\\Temp\\ipykernel_10476\\3578172549.py:4: FutureWarning: The default dtype for empty Series will be 'object' instead of 'float64' in a future version. Specify a dtype explicitly to silence this warning.\n",
      "  fullYear = pd.Series()\n",
      "C:\\Users\\pc\\AppData\\Local\\Temp\\ipykernel_10476\\3578172549.py:4: FutureWarning: The default dtype for empty Series will be 'object' instead of 'float64' in a future version. Specify a dtype explicitly to silence this warning.\n",
      "  fullYear = pd.Series()\n",
      "C:\\Users\\pc\\AppData\\Local\\Temp\\ipykernel_10476\\3578172549.py:4: FutureWarning: The default dtype for empty Series will be 'object' instead of 'float64' in a future version. Specify a dtype explicitly to silence this warning.\n",
      "  fullYear = pd.Series()\n",
      "C:\\Users\\pc\\AppData\\Local\\Temp\\ipykernel_10476\\3578172549.py:4: FutureWarning: The default dtype for empty Series will be 'object' instead of 'float64' in a future version. Specify a dtype explicitly to silence this warning.\n",
      "  fullYear = pd.Series()\n",
      "C:\\Users\\pc\\AppData\\Local\\Temp\\ipykernel_10476\\3578172549.py:4: FutureWarning: The default dtype for empty Series will be 'object' instead of 'float64' in a future version. Specify a dtype explicitly to silence this warning.\n",
      "  fullYear = pd.Series()\n",
      "C:\\Users\\pc\\AppData\\Local\\Temp\\ipykernel_10476\\3578172549.py:4: FutureWarning: The default dtype for empty Series will be 'object' instead of 'float64' in a future version. Specify a dtype explicitly to silence this warning.\n",
      "  fullYear = pd.Series()\n",
      "C:\\Users\\pc\\AppData\\Local\\Temp\\ipykernel_10476\\3578172549.py:4: FutureWarning: The default dtype for empty Series will be 'object' instead of 'float64' in a future version. Specify a dtype explicitly to silence this warning.\n",
      "  fullYear = pd.Series()\n"
     ]
    },
    {
     "data": {
      "text/plain": [
       "PM10    0\n",
       "dtype: int64"
      ]
     },
     "metadata": {},
     "output_type": "display_data"
    },
    {
     "data": {
      "text/plain": [
       "PM10    2190888\n",
       "dtype: int64"
      ]
     },
     "metadata": {},
     "output_type": "display_data"
    },
    {
     "data": {
      "text/html": [
       "<div>\n",
       "<style scoped>\n",
       "    .dataframe tbody tr th:only-of-type {\n",
       "        vertical-align: middle;\n",
       "    }\n",
       "\n",
       "    .dataframe tbody tr th {\n",
       "        vertical-align: top;\n",
       "    }\n",
       "\n",
       "    .dataframe thead th {\n",
       "        text-align: right;\n",
       "    }\n",
       "</style>\n",
       "<table border=\"1\" class=\"dataframe\">\n",
       "  <thead>\n",
       "    <tr style=\"text-align: right;\">\n",
       "      <th></th>\n",
       "      <th>PM10</th>\n",
       "    </tr>\n",
       "  </thead>\n",
       "  <tbody>\n",
       "    <tr>\n",
       "      <th>0</th>\n",
       "      <td>16.889999</td>\n",
       "    </tr>\n",
       "    <tr>\n",
       "      <th>26</th>\n",
       "      <td>23.740000</td>\n",
       "    </tr>\n",
       "    <tr>\n",
       "      <th>52</th>\n",
       "      <td>21.379999</td>\n",
       "    </tr>\n",
       "    <tr>\n",
       "      <th>78</th>\n",
       "      <td>8.330000</td>\n",
       "    </tr>\n",
       "    <tr>\n",
       "      <th>104</th>\n",
       "      <td>21.520000</td>\n",
       "    </tr>\n",
       "    <tr>\n",
       "      <th>130</th>\n",
       "      <td>12.600000</td>\n",
       "    </tr>\n",
       "    <tr>\n",
       "      <th>156</th>\n",
       "      <td>10.920000</td>\n",
       "    </tr>\n",
       "    <tr>\n",
       "      <th>182</th>\n",
       "      <td>13.130000</td>\n",
       "    </tr>\n",
       "    <tr>\n",
       "      <th>208</th>\n",
       "      <td>10.710000</td>\n",
       "    </tr>\n",
       "    <tr>\n",
       "      <th>234</th>\n",
       "      <td>8.740000</td>\n",
       "    </tr>\n",
       "  </tbody>\n",
       "</table>\n",
       "</div>"
      ],
      "text/plain": [
       "          PM10\n",
       "0    16.889999\n",
       "26   23.740000\n",
       "52   21.379999\n",
       "78    8.330000\n",
       "104  21.520000\n",
       "130  12.600000\n",
       "156  10.920000\n",
       "182  13.130000\n",
       "208  10.710000\n",
       "234   8.740000"
      ]
     },
     "metadata": {},
     "output_type": "display_data"
    }
   ],
   "source": [
    "full = pd.Series()\n",
    "time=['2008','2009','2010','2011','2012','2013','2014','2015','2016','2017','2018']\n",
    "for d in time:\n",
    "    fullYear = pd.Series()\n",
    "    madrid = pd.read_csv(path+\"\\madrid_\"+d+\".csv\")\n",
    "    stazioni = madrid['station'].unique()\n",
    "    #display(stazioni)\n",
    "    for y in stazioni:\n",
    "        onlyOne=madrid[madrid[\"station\"].astype(str).str.contains(str(y))]\n",
    "        copy = onlyOne.copy()\n",
    "        newValue= stats.trim_mean(copy['PM10'].dropna().values,0.05) # La faccio qui\n",
    "        onlyOne = onlyOne['PM10'].fillna(newValue) # Questo mette la media al posto dei nulli\n",
    "        fullYear = pd.concat([fullYear,onlyOne])\n",
    "    if(fullYear.isna().sum() != 0):\n",
    "        copy = fullYear.copy()\n",
    "        newValue= stats.trim_mean(copy.dropna().values,0.05)\n",
    "        fullYear = fullYear.fillna(newValue)\n",
    "        full = pd.concat([full,fullYear])\n",
    "    else:\n",
    "        full = pd.concat([full,fullYear])\n",
    "\n",
    "df = full.to_frame(name='PM10')\n",
    "display(df.isna().sum())\n",
    "display(df.count())\n",
    "\n",
    "display(df.head(10))"
   ]
  },
  {
   "cell_type": "markdown",
   "metadata": {},
   "source": [
    "# Lavoro sul secondo eleemento"
   ]
  },
  {
   "cell_type": "code",
   "execution_count": 49,
   "metadata": {},
   "outputs": [
    {
     "name": "stderr",
     "output_type": "stream",
     "text": [
      "C:\\Users\\pc\\AppData\\Local\\Temp\\ipykernel_10476\\1046151320.py:1: FutureWarning: The default dtype for empty Series will be 'object' instead of 'float64' in a future version. Specify a dtype explicitly to silence this warning.\n",
      "  full = pd.Series()\n",
      "C:\\Users\\pc\\AppData\\Local\\Temp\\ipykernel_10476\\1046151320.py:4: FutureWarning: The default dtype for empty Series will be 'object' instead of 'float64' in a future version. Specify a dtype explicitly to silence this warning.\n",
      "  fullYear = pd.Series()\n",
      "C:\\Users\\pc\\AppData\\Local\\Temp\\ipykernel_10476\\1046151320.py:4: FutureWarning: The default dtype for empty Series will be 'object' instead of 'float64' in a future version. Specify a dtype explicitly to silence this warning.\n",
      "  fullYear = pd.Series()\n",
      "C:\\Users\\pc\\AppData\\Local\\Temp\\ipykernel_10476\\1046151320.py:4: FutureWarning: The default dtype for empty Series will be 'object' instead of 'float64' in a future version. Specify a dtype explicitly to silence this warning.\n",
      "  fullYear = pd.Series()\n",
      "C:\\Users\\pc\\AppData\\Local\\Temp\\ipykernel_10476\\1046151320.py:4: FutureWarning: The default dtype for empty Series will be 'object' instead of 'float64' in a future version. Specify a dtype explicitly to silence this warning.\n",
      "  fullYear = pd.Series()\n",
      "C:\\Users\\pc\\AppData\\Local\\Temp\\ipykernel_10476\\1046151320.py:4: FutureWarning: The default dtype for empty Series will be 'object' instead of 'float64' in a future version. Specify a dtype explicitly to silence this warning.\n",
      "  fullYear = pd.Series()\n",
      "C:\\Users\\pc\\AppData\\Local\\Temp\\ipykernel_10476\\1046151320.py:4: FutureWarning: The default dtype for empty Series will be 'object' instead of 'float64' in a future version. Specify a dtype explicitly to silence this warning.\n",
      "  fullYear = pd.Series()\n",
      "C:\\Users\\pc\\AppData\\Local\\Temp\\ipykernel_10476\\1046151320.py:4: FutureWarning: The default dtype for empty Series will be 'object' instead of 'float64' in a future version. Specify a dtype explicitly to silence this warning.\n",
      "  fullYear = pd.Series()\n",
      "C:\\Users\\pc\\AppData\\Local\\Temp\\ipykernel_10476\\1046151320.py:4: FutureWarning: The default dtype for empty Series will be 'object' instead of 'float64' in a future version. Specify a dtype explicitly to silence this warning.\n",
      "  fullYear = pd.Series()\n",
      "C:\\Users\\pc\\AppData\\Local\\Temp\\ipykernel_10476\\1046151320.py:4: FutureWarning: The default dtype for empty Series will be 'object' instead of 'float64' in a future version. Specify a dtype explicitly to silence this warning.\n",
      "  fullYear = pd.Series()\n",
      "C:\\Users\\pc\\AppData\\Local\\Temp\\ipykernel_10476\\1046151320.py:4: FutureWarning: The default dtype for empty Series will be 'object' instead of 'float64' in a future version. Specify a dtype explicitly to silence this warning.\n",
      "  fullYear = pd.Series()\n",
      "C:\\Users\\pc\\AppData\\Local\\Temp\\ipykernel_10476\\1046151320.py:4: FutureWarning: The default dtype for empty Series will be 'object' instead of 'float64' in a future version. Specify a dtype explicitly to silence this warning.\n",
      "  fullYear = pd.Series()\n"
     ]
    },
    {
     "data": {
      "text/plain": [
       "PM25    0\n",
       "dtype: int64"
      ]
     },
     "metadata": {},
     "output_type": "display_data"
    },
    {
     "data": {
      "text/plain": [
       "PM25    2190888\n",
       "dtype: int64"
      ]
     },
     "metadata": {},
     "output_type": "display_data"
    },
    {
     "data": {
      "text/html": [
       "<div>\n",
       "<style scoped>\n",
       "    .dataframe tbody tr th:only-of-type {\n",
       "        vertical-align: middle;\n",
       "    }\n",
       "\n",
       "    .dataframe tbody tr th {\n",
       "        vertical-align: top;\n",
       "    }\n",
       "\n",
       "    .dataframe thead th {\n",
       "        text-align: right;\n",
       "    }\n",
       "</style>\n",
       "<table border=\"1\" class=\"dataframe\">\n",
       "  <thead>\n",
       "    <tr style=\"text-align: right;\">\n",
       "      <th></th>\n",
       "      <th>PM25</th>\n",
       "    </tr>\n",
       "  </thead>\n",
       "  <tbody>\n",
       "    <tr>\n",
       "      <th>0</th>\n",
       "      <td>10.40</td>\n",
       "    </tr>\n",
       "    <tr>\n",
       "      <th>26</th>\n",
       "      <td>13.69</td>\n",
       "    </tr>\n",
       "    <tr>\n",
       "      <th>52</th>\n",
       "      <td>12.16</td>\n",
       "    </tr>\n",
       "    <tr>\n",
       "      <th>78</th>\n",
       "      <td>5.69</td>\n",
       "    </tr>\n",
       "    <tr>\n",
       "      <th>104</th>\n",
       "      <td>12.93</td>\n",
       "    </tr>\n",
       "    <tr>\n",
       "      <th>130</th>\n",
       "      <td>7.37</td>\n",
       "    </tr>\n",
       "    <tr>\n",
       "      <th>156</th>\n",
       "      <td>7.46</td>\n",
       "    </tr>\n",
       "    <tr>\n",
       "      <th>182</th>\n",
       "      <td>8.87</td>\n",
       "    </tr>\n",
       "    <tr>\n",
       "      <th>208</th>\n",
       "      <td>6.66</td>\n",
       "    </tr>\n",
       "    <tr>\n",
       "      <th>234</th>\n",
       "      <td>4.79</td>\n",
       "    </tr>\n",
       "  </tbody>\n",
       "</table>\n",
       "</div>"
      ],
      "text/plain": [
       "      PM25\n",
       "0    10.40\n",
       "26   13.69\n",
       "52   12.16\n",
       "78    5.69\n",
       "104  12.93\n",
       "130   7.37\n",
       "156   7.46\n",
       "182   8.87\n",
       "208   6.66\n",
       "234   4.79"
      ]
     },
     "metadata": {},
     "output_type": "display_data"
    }
   ],
   "source": [
    "full = pd.Series()\n",
    "time=['2008','2009','2010','2011','2012','2013','2014','2015','2016','2017','2018']\n",
    "for d in time:\n",
    "    fullYear = pd.Series()\n",
    "    madrid = pd.read_csv(path+\"\\madrid_\"+d+\".csv\")\n",
    "    stazioni = madrid['station'].unique()\n",
    "    #display(stazioni)\n",
    "    for y in stazioni:\n",
    "        onlyOne=madrid[madrid[\"station\"].astype(str).str.contains(str(y))]\n",
    "        copy = onlyOne.copy()\n",
    "        newValue= stats.trim_mean(copy['PM25'].dropna().values,0.05) # La faccio qui\n",
    "        onlyOne = onlyOne['PM25'].fillna(newValue) # Questo mette la media al posto dei nulli\n",
    "        fullYear = pd.concat([fullYear,onlyOne])\n",
    "    if(fullYear.isna().sum() != 0):\n",
    "        copy = fullYear.copy()\n",
    "        newValue= stats.trim_mean(copy.dropna().values,0.05)\n",
    "        fullYear = fullYear.fillna(newValue)\n",
    "        full = pd.concat([full,fullYear])\n",
    "    else:\n",
    "        full = pd.concat([full,fullYear])\n",
    "\n",
    "df2 = full.to_frame(name='PM25')\n",
    "display(df2.isna().sum())\n",
    "display(df2.count())\n",
    "\n",
    "display(df2.head(10))"
   ]
  },
  {
   "cell_type": "markdown",
   "metadata": {},
   "source": [
    "# Qui vado a fare le operazioni per calcolare il K migliore"
   ]
  },
  {
   "cell_type": "code",
   "execution_count": 65,
   "metadata": {},
   "outputs": [],
   "source": [
    "distortions = []\n",
    "x = pd.DataFrame(data={'PM10':df['PM10'],'PM25':df2['PM25']})\n",
    "\n",
    "for i in range(1, 11):\n",
    "    km = KMeans(n_clusters = i, init = 'k-means++', max_iter = 300, n_init = 10, random_state = 0)\n",
    "    km.fit(x)\n",
    "    distortions.append(km.inertia_)"
   ]
  },
  {
   "cell_type": "markdown",
   "metadata": {},
   "source": [
    "# Stampo il grafico"
   ]
  },
  {
   "cell_type": "code",
   "execution_count": 66,
   "metadata": {},
   "outputs": [
    {
     "data": {
      "image/png": "[encoded data removed]",
      "text/plain": [
       "<Figure size 1500x500 with 1 Axes>"
      ]
     },
     "metadata": {},
     "output_type": "display_data"
    }
   ],
   "source": [
    "plt.figure(figsize=(15,5))\n",
    "plt.plot(range(1, 11), distortions)\n",
    "plt.title('K-Means Clustering(The Elbow Method)', fontsize = 20)\n",
    "plt.xlabel('k')\n",
    "plt.ylabel('Distortion')\n",
    "plt.show()"
   ]
  }
 ],
 "metadata": {
  "kernelspec": {
   "display_name": "Python 3.11.0 64-bit (microsoft store)",
   "language": "python",
   "name": "python3"
  },
  "language_info": {
   "codemirror_mode": {
    "name": "ipython",
    "version": 3
   },
   "file_extension": ".py",
   "mimetype": "text/x-python",
   "name": "python",
   "nbconvert_exporter": "python",
   "pygments_lexer": "ipython3",
   "version": "3.11.0"
  },
  "orig_nbformat": 4,
  "vscode": {
   "interpreter": {
    "hash": "919c18adca473b496926cbcc6d5129551fb55bb1642c0f0de4be834ae80622d5"
   }
  }
 },
 "nbformat": 4,
 "nbformat_minor": 2
}
