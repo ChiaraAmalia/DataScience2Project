{
 "cells": [
  {
   "cell_type": "markdown",
   "metadata": {},
   "source": [
    "# In questo file andiamo a fare il task di clusterizzazione"
   ]
  },
  {
   "cell_type": "code",
   "execution_count": 14,
   "metadata": {},
   "outputs": [],
   "source": [
    "# for basic mathematics operation \n",
    "import numpy as np\n",
    "import pandas as pd\n",
    "\n",
    "# for visualizations\n",
    "import matplotlib.pyplot as plt\n",
    "import seaborn as sns\n",
    "from sklearn.cluster import KMeans\n",
    "from sklearn.preprocessing import StandardScaler\n",
    "\n",
    "from yellowbrick.cluster import SilhouetteVisualizer\n",
    "\n",
    "from IPython.core.interactiveshell import InteractiveShell\n",
    "InteractiveShell.ast_node_interactivity = \"none\"\n"
   ]
  },
  {
   "cell_type": "markdown",
   "metadata": {},
   "source": [
    "# Adesso vado a caricare il dataset ma solo con le due colonne d'interesse"
   ]
  },
  {
   "cell_type": "code",
   "execution_count": 15,
   "metadata": {},
   "outputs": [
    {
     "name": "stdout",
     "output_type": "stream",
     "text": [
      "(2190888, 4)\n"
     ]
    }
   ],
   "source": [
    "data = pd.read_csv('DataSet\\out.csv')\n",
    "#display(data.head())\n",
    "\n",
    "# take only annual income and spending score\n",
    "x = data.iloc[:, [0,8,9,13]].values\n",
    "\n",
    "# let's check the shape of x\n",
    "print(x.shape)\n"
   ]
  },
  {
   "cell_type": "markdown",
   "metadata": {},
   "source": [
    "# Devo fare ETL, devo eliminare i valore Nan nel dataset"
   ]
  },
  {
   "cell_type": "code",
   "execution_count": 16,
   "metadata": {},
   "outputs": [
    {
     "name": "stdout",
     "output_type": "stream",
     "text": [
      "d:\\univpm\\DataScience\\Code\n"
     ]
    }
   ],
   "source": [
    "import os\n",
    "from scipy import stats\n",
    "import math\n",
    "\n",
    "# Cambio della cartella attuale nella cartella in cui si trova il file .py\n",
    "path_file = os.path.abspath(os.getcwd())\n",
    "print(path_file)\n",
    "os.chdir(path_file)\n",
    "\n",
    "path_cartella = r\"\\archive\\csvs_per_year\\csvs_per_year\"\n",
    "\n",
    "path = path_file + path_cartella"
   ]
  },
  {
   "cell_type": "markdown",
   "metadata": {},
   "source": [
    "# Per comodità carico direttamente tutti i file"
   ]
  },
  {
   "cell_type": "code",
   "execution_count": 17,
   "metadata": {},
   "outputs": [
    {
     "name": "stdout",
     "output_type": "stream",
     "text": [
      "<class 'pandas.core.frame.DataFrame'>\n",
      "RangeIndex: 2190888 entries, 0 to 2190887\n",
      "Data columns (total 14 columns):\n",
      " #   Column   Dtype  \n",
      "---  ------   -----  \n",
      " 0   date     object \n",
      " 1   BEN      float64\n",
      " 2   CO       float64\n",
      " 3   EBE      float64\n",
      " 4   NMHC     float64\n",
      " 5   NO       float64\n",
      " 6   NO_2     float64\n",
      " 7   O_3      float64\n",
      " 8   PM10     float64\n",
      " 9   PM25     float64\n",
      " 10  SO_2     float64\n",
      " 11  TCH      float64\n",
      " 12  TOL      float64\n",
      " 13  station  int64  \n",
      "dtypes: float64(12), int64(1), object(1)\n",
      "memory usage: 234.0+ MB\n"
     ]
    },
    {
     "data": {
      "text/plain": [
       "None"
      ]
     },
     "metadata": {},
     "output_type": "display_data"
    }
   ],
   "source": [
    "# Vado a caricare tutte le tabelle del mio dataset\n",
    "\n",
    "madrid2008 = pd.read_csv(path+\"\\madrid_2008.csv\")\n",
    "madrid2009 = pd.read_csv(path+\"\\madrid_2009.csv\")\n",
    "madrid2010 = pd.read_csv(path+\"\\madrid_2010.csv\")\n",
    "madrid2011 = pd.read_csv(path+\"\\madrid_2011.csv\")\n",
    "madrid2012 = pd.read_csv(path+\"\\madrid_2012.csv\")\n",
    "madrid2013 = pd.read_csv(path+\"\\madrid_2013.csv\")\n",
    "madrid2014 = pd.read_csv(path+\"\\madrid_2014.csv\")\n",
    "madrid2015 = pd.read_csv(path+\"\\madrid_2015.csv\")\n",
    "madrid2016 = pd.read_csv(path+\"\\madrid_2016.csv\")\n",
    "madrid2017 = pd.read_csv(path+\"\\madrid_2017.csv\")\n",
    "madrid2018 = pd.read_csv(path+\"\\madrid_2018.csv\")\n",
    "station = pd.read_csv('DataSet\\stations.csv')\n",
    "out = pd.read_csv('DataSet\\out.csv')\n",
    "display(out.info())"
   ]
  },
  {
   "cell_type": "markdown",
   "metadata": {},
   "source": [
    "# Per ogni anno e per ogni stazione calcolo la media troncata e la sostituisco ai valori Nan"
   ]
  },
  {
   "cell_type": "code",
   "execution_count": 18,
   "metadata": {},
   "outputs": [
    {
     "name": "stderr",
     "output_type": "stream",
     "text": [
      "C:\\Users\\Leo\\AppData\\Local\\Temp\\ipykernel_14340\\676981790.py:1: FutureWarning: The default dtype for empty Series will be 'object' instead of 'float64' in a future version. Specify a dtype explicitly to silence this warning.\n",
      "  full1 = pd.Series()\n",
      "C:\\Users\\Leo\\AppData\\Local\\Temp\\ipykernel_14340\\676981790.py:4: FutureWarning: The default dtype for empty Series will be 'object' instead of 'float64' in a future version. Specify a dtype explicitly to silence this warning.\n",
      "  full1Year = pd.Series()\n",
      "C:\\Users\\Leo\\AppData\\Local\\Temp\\ipykernel_14340\\676981790.py:4: FutureWarning: The default dtype for empty Series will be 'object' instead of 'float64' in a future version. Specify a dtype explicitly to silence this warning.\n",
      "  full1Year = pd.Series()\n",
      "C:\\Users\\Leo\\AppData\\Local\\Temp\\ipykernel_14340\\676981790.py:4: FutureWarning: The default dtype for empty Series will be 'object' instead of 'float64' in a future version. Specify a dtype explicitly to silence this warning.\n",
      "  full1Year = pd.Series()\n",
      "C:\\Users\\Leo\\AppData\\Local\\Temp\\ipykernel_14340\\676981790.py:4: FutureWarning: The default dtype for empty Series will be 'object' instead of 'float64' in a future version. Specify a dtype explicitly to silence this warning.\n",
      "  full1Year = pd.Series()\n",
      "C:\\Users\\Leo\\AppData\\Local\\Temp\\ipykernel_14340\\676981790.py:4: FutureWarning: The default dtype for empty Series will be 'object' instead of 'float64' in a future version. Specify a dtype explicitly to silence this warning.\n",
      "  full1Year = pd.Series()\n",
      "C:\\Users\\Leo\\AppData\\Local\\Temp\\ipykernel_14340\\676981790.py:4: FutureWarning: The default dtype for empty Series will be 'object' instead of 'float64' in a future version. Specify a dtype explicitly to silence this warning.\n",
      "  full1Year = pd.Series()\n",
      "C:\\Users\\Leo\\AppData\\Local\\Temp\\ipykernel_14340\\676981790.py:4: FutureWarning: The default dtype for empty Series will be 'object' instead of 'float64' in a future version. Specify a dtype explicitly to silence this warning.\n",
      "  full1Year = pd.Series()\n",
      "C:\\Users\\Leo\\AppData\\Local\\Temp\\ipykernel_14340\\676981790.py:4: FutureWarning: The default dtype for empty Series will be 'object' instead of 'float64' in a future version. Specify a dtype explicitly to silence this warning.\n",
      "  full1Year = pd.Series()\n",
      "C:\\Users\\Leo\\AppData\\Local\\Temp\\ipykernel_14340\\676981790.py:4: FutureWarning: The default dtype for empty Series will be 'object' instead of 'float64' in a future version. Specify a dtype explicitly to silence this warning.\n",
      "  full1Year = pd.Series()\n",
      "C:\\Users\\Leo\\AppData\\Local\\Temp\\ipykernel_14340\\676981790.py:4: FutureWarning: The default dtype for empty Series will be 'object' instead of 'float64' in a future version. Specify a dtype explicitly to silence this warning.\n",
      "  full1Year = pd.Series()\n",
      "C:\\Users\\Leo\\AppData\\Local\\Temp\\ipykernel_14340\\676981790.py:4: FutureWarning: The default dtype for empty Series will be 'object' instead of 'float64' in a future version. Specify a dtype explicitly to silence this warning.\n",
      "  full1Year = pd.Series()\n"
     ]
    },
    {
     "data": {
      "text/plain": [
       "NO_2    0\n",
       "dtype: int64"
      ]
     },
     "metadata": {},
     "output_type": "display_data"
    },
    {
     "data": {
      "text/plain": [
       "NO_2    2190888\n",
       "dtype: int64"
      ]
     },
     "metadata": {},
     "output_type": "display_data"
    },
    {
     "data": {
      "text/html": [
       "<div>\n",
       "<style scoped>\n",
       "    .dataframe tbody tr th:only-of-type {\n",
       "        vertical-align: middle;\n",
       "    }\n",
       "\n",
       "    .dataframe tbody tr th {\n",
       "        vertical-align: top;\n",
       "    }\n",
       "\n",
       "    .dataframe thead th {\n",
       "        text-align: right;\n",
       "    }\n",
       "</style>\n",
       "<table border=\"1\" class=\"dataframe\">\n",
       "  <thead>\n",
       "    <tr style=\"text-align: right;\">\n",
       "      <th></th>\n",
       "      <th>NO_2</th>\n",
       "    </tr>\n",
       "  </thead>\n",
       "  <tbody>\n",
       "    <tr>\n",
       "      <th>0</th>\n",
       "      <td>83.089996</td>\n",
       "    </tr>\n",
       "    <tr>\n",
       "      <th>26</th>\n",
       "      <td>86.209999</td>\n",
       "    </tr>\n",
       "    <tr>\n",
       "      <th>52</th>\n",
       "      <td>82.279999</td>\n",
       "    </tr>\n",
       "    <tr>\n",
       "      <th>78</th>\n",
       "      <td>63.790001</td>\n",
       "    </tr>\n",
       "    <tr>\n",
       "      <th>104</th>\n",
       "      <td>59.349998</td>\n",
       "    </tr>\n",
       "    <tr>\n",
       "      <th>130</th>\n",
       "      <td>48.480000</td>\n",
       "    </tr>\n",
       "    <tr>\n",
       "      <th>156</th>\n",
       "      <td>43.310001</td>\n",
       "    </tr>\n",
       "    <tr>\n",
       "      <th>182</th>\n",
       "      <td>44.810001</td>\n",
       "    </tr>\n",
       "    <tr>\n",
       "      <th>208</th>\n",
       "      <td>36.599998</td>\n",
       "    </tr>\n",
       "    <tr>\n",
       "      <th>234</th>\n",
       "      <td>31.120001</td>\n",
       "    </tr>\n",
       "  </tbody>\n",
       "</table>\n",
       "</div>"
      ],
      "text/plain": [
       "          NO_2\n",
       "0    83.089996\n",
       "26   86.209999\n",
       "52   82.279999\n",
       "78   63.790001\n",
       "104  59.349998\n",
       "130  48.480000\n",
       "156  43.310001\n",
       "182  44.810001\n",
       "208  36.599998\n",
       "234  31.120001"
      ]
     },
     "metadata": {},
     "output_type": "display_data"
    }
   ],
   "source": [
    "full1 = pd.Series()\n",
    "time=['2008','2009','2010','2011','2012','2013','2014','2015','2016','2017','2018']\n",
    "for d in time:\n",
    "    full1Year = pd.Series()\n",
    "    madrid = pd.read_csv(path+\"\\madrid_\"+d+\".csv\")\n",
    "    stazioni = madrid['station'].unique()\n",
    "    #display(stazioni)\n",
    "    for y in stazioni:\n",
    "        onlyOne=madrid[madrid[\"station\"].astype(str).str.contains(str(y))]\n",
    "        copy = onlyOne.copy()\n",
    "        newValue= stats.trim_mean(copy['NO_2'].dropna().values,0.05) # La faccio qui\n",
    "        onlyOne = onlyOne['NO_2'].fillna(newValue) # Questo mette la media al posto dei nulli\n",
    "\n",
    "        '''if(not math.isnan(newValue)):\n",
    "             full1 = pd.concat([full1,onlyOne])'''\n",
    "        if(True):\n",
    "            full1Year = pd.concat([full1Year,onlyOne])\n",
    "    if(full1Year.isna().sum() != 0):\n",
    "        copy = full1Year.copy()\n",
    "        newValue= stats.trim_mean(copy.dropna().values,0.05)\n",
    "        full1Year = full1Year.fillna(newValue)\n",
    "        full1 = pd.concat([full1,full1Year])\n",
    "    else:\n",
    "        full1 = pd.concat([full1,full1Year])\n",
    "\n",
    "    #full1 = pd.concat([full1,full1Year])\n",
    "    \n",
    "\n",
    "df = full1.to_frame(name='NO_2')\n",
    "display(df.isna().sum())\n",
    "display(df.count())\n",
    "\n",
    "display(df.head(10))"
   ]
  },
  {
   "cell_type": "markdown",
   "metadata": {},
   "source": [
    "# Lavoro sul secondo eleemento"
   ]
  },
  {
   "cell_type": "code",
   "execution_count": 27,
   "metadata": {},
   "outputs": [
    {
     "data": {
      "text/plain": [
       "NO_2    0\n",
       "SO_2    0\n",
       "dtype: int64"
      ]
     },
     "metadata": {},
     "output_type": "display_data"
    },
    {
     "data": {
      "text/plain": [
       "NO_2    1174296\n",
       "SO_2    1174296\n",
       "dtype: int64"
      ]
     },
     "metadata": {},
     "output_type": "display_data"
    },
    {
     "data": {
      "text/html": [
       "<div>\n",
       "<style scoped>\n",
       "    .dataframe tbody tr th:only-of-type {\n",
       "        vertical-align: middle;\n",
       "    }\n",
       "\n",
       "    .dataframe tbody tr th {\n",
       "        vertical-align: top;\n",
       "    }\n",
       "\n",
       "    .dataframe thead th {\n",
       "        text-align: right;\n",
       "    }\n",
       "</style>\n",
       "<table border=\"1\" class=\"dataframe\">\n",
       "  <thead>\n",
       "    <tr style=\"text-align: right;\">\n",
       "      <th></th>\n",
       "      <th>NO_2</th>\n",
       "      <th>SO_2</th>\n",
       "    </tr>\n",
       "  </thead>\n",
       "  <tbody>\n",
       "    <tr>\n",
       "      <th>0</th>\n",
       "      <td>83.089996</td>\n",
       "      <td>8.98</td>\n",
       "    </tr>\n",
       "    <tr>\n",
       "      <th>1</th>\n",
       "      <td>86.209999</td>\n",
       "      <td>10.12</td>\n",
       "    </tr>\n",
       "    <tr>\n",
       "      <th>2</th>\n",
       "      <td>82.279999</td>\n",
       "      <td>9.79</td>\n",
       "    </tr>\n",
       "    <tr>\n",
       "      <th>3</th>\n",
       "      <td>63.790001</td>\n",
       "      <td>8.26</td>\n",
       "    </tr>\n",
       "    <tr>\n",
       "      <th>4</th>\n",
       "      <td>59.349998</td>\n",
       "      <td>8.94</td>\n",
       "    </tr>\n",
       "    <tr>\n",
       "      <th>5</th>\n",
       "      <td>48.480000</td>\n",
       "      <td>8.47</td>\n",
       "    </tr>\n",
       "    <tr>\n",
       "      <th>6</th>\n",
       "      <td>43.310001</td>\n",
       "      <td>8.20</td>\n",
       "    </tr>\n",
       "    <tr>\n",
       "      <th>7</th>\n",
       "      <td>44.810001</td>\n",
       "      <td>8.45</td>\n",
       "    </tr>\n",
       "    <tr>\n",
       "      <th>8</th>\n",
       "      <td>36.599998</td>\n",
       "      <td>8.28</td>\n",
       "    </tr>\n",
       "    <tr>\n",
       "      <th>9</th>\n",
       "      <td>31.120001</td>\n",
       "      <td>7.88</td>\n",
       "    </tr>\n",
       "  </tbody>\n",
       "</table>\n",
       "</div>"
      ],
      "text/plain": [
       "        NO_2   SO_2\n",
       "0  83.089996   8.98\n",
       "1  86.209999  10.12\n",
       "2  82.279999   9.79\n",
       "3  63.790001   8.26\n",
       "4  59.349998   8.94\n",
       "5  48.480000   8.47\n",
       "6  43.310001   8.20\n",
       "7  44.810001   8.45\n",
       "8  36.599998   8.28\n",
       "9  31.120001   7.88"
      ]
     },
     "metadata": {},
     "output_type": "display_data"
    }
   ],
   "source": [
    "full2 = pd.DataFrame()\n",
    "time=['2008','2009','2010','2011','2012','2013','2014','2015','2016','2017','2018']#,'2009','2010','2011','2012','2013','2014','2015','2016','2017','2018'\n",
    "for d in time:\n",
    "    if(['2008','2009','2010'].__contains__(d)):\n",
    "        a=6\n",
    "        b=13\n",
    "    if(['2011','2012','2013','2014','2015','2016'].__contains__(d)):\n",
    "        a=6\n",
    "        b=10\n",
    "    if(['2017','2018'].__contains__(d)):\n",
    "        a=7\n",
    "        b=12\n",
    "    full2Year = pd.DataFrame()\n",
    "    madrid = pd.read_csv(path+\"\\madrid_\"+d+\".csv\")\n",
    "    stazioni = madrid['station'].unique()\n",
    "    #display(stazioni)\n",
    "    for y in stazioni:\n",
    "        onlyOne=madrid[madrid[\"station\"].astype(str).str.contains(str(y))].iloc[:,[a,b]]\n",
    "        copy = onlyOne.copy()\n",
    "        newValue1= stats.trim_mean(copy['SO_2'].dropna().values,0.05) # La faccio qui\n",
    "        newValue2= stats.trim_mean(copy['NO_2'].dropna().values,0.05)\n",
    "        onlyOne['SO_2'] = onlyOne['SO_2'].fillna(newValue1) # Questo mette la media al posto dei nulli\n",
    "        onlyOne['NO_2'] = onlyOne['NO_2'].fillna(newValue2) # Questo mette la media al posto dei nulli\n",
    "\n",
    "        '''if(not math.isnan(newValue)):\n",
    "            full2 = pd.concat([full2,onlyOne])'''\n",
    "        if(onlyOne['NO_2'].isna().sum() == 0 and onlyOne['SO_2'].isna().sum() == 0):\n",
    "            full2Year = pd.concat([full2Year,onlyOne])\n",
    "            \n",
    "    '''if(full2Year.isna().sum() != 0):\n",
    "        copy = full2Year.copy()\n",
    "        newValue= stats.trim_mean(copy.dropna().values,0.05)\n",
    "        full2Year = full2Year.fillna(newValue)\n",
    "        full2 = pd.concat([full2,full2Year])\n",
    "    else:\n",
    "        full2 = pd.concat([full2,full2Year])'''\n",
    "\n",
    "    full2 = pd.concat([full2,full2Year],ignore_index=True)\n",
    "    \n",
    "\n",
    "#df2 = full2.to_frame(name='SO_2')\n",
    "display(full2.isna().sum())\n",
    "display(full2.count())\n",
    "\n",
    "display(full2.head(10))"
   ]
  },
  {
   "cell_type": "markdown",
   "metadata": {},
   "source": [
    "# Qui vado a fare le operazioni per calcolare il K migliore"
   ]
  },
  {
   "cell_type": "code",
   "execution_count": 26,
   "metadata": {},
   "outputs": [
    {
     "name": "stdout",
     "output_type": "stream",
     "text": [
      "<class 'pandas.core.frame.DataFrame'>\n",
      "RangeIndex: 226392 entries, 0 to 226391\n",
      "Data columns (total 2 columns):\n",
      " #   Column  Non-Null Count   Dtype  \n",
      "---  ------  --------------   -----  \n",
      " 0   NO_2    226392 non-null  float64\n",
      " 1   SO_2    226392 non-null  float64\n",
      "dtypes: float64(2)\n",
      "memory usage: 3.5 MB\n"
     ]
    },
    {
     "ename": "KeyboardInterrupt",
     "evalue": "",
     "output_type": "error",
     "traceback": [
      "\u001b[1;31m---------------------------------------------------------------------------\u001b[0m",
      "\u001b[1;31mKeyboardInterrupt\u001b[0m                         Traceback (most recent call last)",
      "File \u001b[1;32m<__array_function__ internals>:2\u001b[0m, in \u001b[0;36mwhere\u001b[1;34m(*args, **kwargs)\u001b[0m\n",
      "\u001b[1;31mKeyboardInterrupt\u001b[0m: "
     ]
    },
    {
     "name": "stderr",
     "output_type": "stream",
     "text": [
      "Exception ignored in: 'sklearn.cluster._k_means_common._relocate_empty_clusters_dense'\n",
      "Traceback (most recent call last):\n",
      "  File \"<__array_function__ internals>\", line 2, in where\n",
      "KeyboardInterrupt: \n"
     ]
    }
   ],
   "source": [
    "distortions = []\n",
    "#x = pd.DataFrame(data={'NO_2':df['NO_2'],'SO_2':df2['SO_2']})\n",
    "clustering1 = full2.iloc[:,[0,1]].values\n",
    "full2.info()\n",
    "\n",
    "for i in range(1, 11):\n",
    "    km = KMeans(n_clusters = i, init = 'k-means++', max_iter = 300, n_init = 10, random_state = 0)\n",
    "    km.fit(clustering1)\n",
    "    distortions.append(km.inertia_)"
   ]
  },
  {
   "cell_type": "markdown",
   "metadata": {},
   "source": [
    "# Stampo il grafico"
   ]
  },
  {
   "cell_type": "code",
   "execution_count": 21,
   "metadata": {},
   "outputs": [
    {
     "data": {
      "image/png": "[encoded data removed]",
      "text/plain": [
       "<Figure size 1500x500 with 1 Axes>"
      ]
     },
     "metadata": {},
     "output_type": "display_data"
    }
   ],
   "source": [
    "plt.figure(figsize=(15,5))\n",
    "plt.plot(range(1, 11), distortions)\n",
    "plt.title('K-Means Clustering(The Elbow Method)', fontsize = 20)\n",
    "plt.xlabel('k')\n",
    "plt.ylabel('Distortion')\n",
    "plt.show()"
   ]
  },
  {
   "cell_type": "markdown",
   "metadata": {},
   "source": [
    "# Prova di clustering"
   ]
  },
  {
   "cell_type": "code",
   "execution_count": 36,
   "metadata": {},
   "outputs": [
    {
     "name": "stdout",
     "output_type": "stream",
     "text": [
      "(50000, 2)\n"
     ]
    },
    {
     "data": {
      "image/png": "[encoded data removed]",
      "text/plain": [
       "<Figure size 1500x800 with 1 Axes>"
      ]
     },
     "metadata": {},
     "output_type": "display_data"
    }
   ],
   "source": [
    "#x = pd.DataFrame(data={'PM10':df['PM10'],'PM25':df2['PM25']}) #doppione\n",
    "import random\n",
    "list = random.sample(range(1,full2.count().max()),50000)\n",
    "display(list)\n",
    "clustering1 = full2.iloc[list,[0,1]].values\n",
    "scaler = StandardScaler()\n",
    "scaler.fit(clustering1)\n",
    "StandardScaler()\n",
    "clustering1 = scaler.transform(clustering1)\n",
    "\n",
    "print(clustering1.shape)\n",
    "from sklearn.cluster import KMeans\n",
    "\n",
    "'''wcss = []\n",
    "for i in range(1, 11):\n",
    "    km = KMeans(n_clusters = i, init = 'k-means++', max_iter = 300, n_init = 10, random_state = 0)\n",
    "    km.fit(clustering1)\n",
    "    wcss.append(km.inertia_)'''\n",
    "\n",
    "#plt.figure(figsize=(20,8))\n",
    "#plt.plot(range(1, 11), wcss)\n",
    "#plt.title('The Elbow Method', fontsize = 20)\n",
    "#plt.xlabel('No. of Clusters')\n",
    "#plt.ylabel('wcss')\n",
    "#plt.show()\n",
    "\n",
    "km = KMeans(n_clusters = 5, init = 'k-means++', max_iter = 300, n_init = 10, random_state = 0)\n",
    "y_means = km.fit_predict(clustering1)\n",
    "\n",
    "plt.figure(figsize=(15,8))\n",
    "plt.scatter(clustering1[y_means == 0, 0], clustering1[y_means == 0, 1], s = 100, c = 'pink', label = 'miser')\n",
    "plt.scatter(clustering1[y_means == 1, 0], clustering1[y_means == 1, 1], s = 100, c = 'yellow', label = 'general')\n",
    "plt.scatter(clustering1[y_means == 2, 0], clustering1[y_means == 2, 1], s = 100, c = 'cyan', label = 'target')\n",
    "plt.scatter(clustering1[y_means == 3, 0], clustering1[y_means == 3, 1], s = 100, c = 'magenta', label = 'spendthrift')\n",
    "plt.scatter(clustering1[y_means == 4, 0], clustering1[y_means == 4, 1], s = 100, c = 'red', label = 'Simone') # Aggiunto\n",
    "plt.scatter(km.cluster_centers_[:,0], km.cluster_centers_[:, 1], s = 50, c = 'blue' , label = 'centroid')\n",
    "\n",
    "plt.title('K Means Clustering', fontsize = 20)\n",
    "plt.xlabel('Annual Income')\n",
    "plt.ylabel('Spending Score')\n",
    "plt.legend()\n",
    "plt.show()"
   ]
  },
  {
   "cell_type": "markdown",
   "metadata": {},
   "source": [
    "# Clustering troncato"
   ]
  },
  {
   "cell_type": "code",
   "execution_count": 37,
   "metadata": {},
   "outputs": [
    {
     "name": "stdout",
     "output_type": "stream",
     "text": [
      "<class 'pandas.core.frame.DataFrame'>\n",
      "RangeIndex: 2190888 entries, 0 to 2190887\n",
      "Data columns (total 14 columns):\n",
      " #   Column   Dtype         \n",
      "---  ------   -----         \n",
      " 0   date     datetime64[ns]\n",
      " 1   BEN      float64       \n",
      " 2   CO       float64       \n",
      " 3   EBE      float64       \n",
      " 4   NMHC     float64       \n",
      " 5   NO       float64       \n",
      " 6   NO_2     float64       \n",
      " 7   O_3      float64       \n",
      " 8   PM10     float64       \n",
      " 9   PM25     float64       \n",
      " 10  SO_2     float64       \n",
      " 11  TCH      float64       \n",
      " 12  TOL      float64       \n",
      " 13  station  int64         \n",
      "dtypes: datetime64[ns](1), float64(12), int64(1)\n",
      "memory usage: 234.0 MB\n",
      "<class 'pandas.core.frame.DataFrame'>\n",
      "Int64Index: 1166156 entries, 0 to 2190884\n",
      "Data columns (total 14 columns):\n",
      " #   Column   Non-Null Count    Dtype         \n",
      "---  ------   --------------    -----         \n",
      " 0   date     1166156 non-null  datetime64[ns]\n",
      " 1   BEN      415872 non-null   float64       \n",
      " 2   CO       910060 non-null   float64       \n",
      " 3   EBE      415129 non-null   float64       \n",
      " 4   NMHC     293900 non-null   float64       \n",
      " 5   NO       1166151 non-null  float64       \n",
      " 6   NO_2     1166156 non-null  float64       \n",
      " 7   O_3      782663 non-null   float64       \n",
      " 8   PM10     926158 non-null   float64       \n",
      " 9   PM25     345410 non-null   float64       \n",
      " 10  SO_2     1166156 non-null  float64       \n",
      " 11  TCH      293942 non-null   float64       \n",
      " 12  TOL      414888 non-null   float64       \n",
      " 13  station  1166156 non-null  int64         \n",
      "dtypes: datetime64[ns](1), float64(12), int64(1)\n",
      "memory usage: 133.5 MB\n"
     ]
    },
    {
     "data": {
      "text/plain": [
       "None"
      ]
     },
     "metadata": {},
     "output_type": "display_data"
    },
    {
     "name": "stdout",
     "output_type": "stream",
     "text": [
      "(1166156, 2)\n"
     ]
    },
    {
     "ename": "KeyboardInterrupt",
     "evalue": "",
     "output_type": "error",
     "traceback": [
      "\u001b[1;31m---------------------------------------------------------------------------\u001b[0m",
      "\u001b[1;31mKeyboardInterrupt\u001b[0m                         Traceback (most recent call last)",
      "Cell \u001b[1;32mIn [37], line 33\u001b[0m\n\u001b[0;32m     25\u001b[0m \u001b[39m#plt.figure(figsize=(20,8))\u001b[39;00m\n\u001b[0;32m     26\u001b[0m \u001b[39m#plt.plot(range(1, 11), wcss)\u001b[39;00m\n\u001b[0;32m     27\u001b[0m \u001b[39m#plt.title('The Elbow Method', fontsize = 20)\u001b[39;00m\n\u001b[0;32m     28\u001b[0m \u001b[39m#plt.xlabel('No. of Clusters')\u001b[39;00m\n\u001b[0;32m     29\u001b[0m \u001b[39m#plt.ylabel('wcss')\u001b[39;00m\n\u001b[0;32m     30\u001b[0m \u001b[39m#plt.show()\u001b[39;00m\n\u001b[0;32m     32\u001b[0m km \u001b[39m=\u001b[39m KMeans(n_clusters \u001b[39m=\u001b[39m \u001b[39m4\u001b[39m, init \u001b[39m=\u001b[39m \u001b[39m'\u001b[39m\u001b[39mk-means++\u001b[39m\u001b[39m'\u001b[39m, max_iter \u001b[39m=\u001b[39m \u001b[39m300\u001b[39m, n_init \u001b[39m=\u001b[39m \u001b[39m10\u001b[39m, random_state \u001b[39m=\u001b[39m \u001b[39m0\u001b[39m)\n\u001b[1;32m---> 33\u001b[0m y_means \u001b[39m=\u001b[39m km\u001b[39m.\u001b[39;49mfit_predict(clusteringLeo)\n\u001b[0;32m     35\u001b[0m plt\u001b[39m.\u001b[39mfigure(figsize\u001b[39m=\u001b[39m(\u001b[39m15\u001b[39m,\u001b[39m8\u001b[39m))\n\u001b[0;32m     36\u001b[0m plt\u001b[39m.\u001b[39mscatter(clusteringLeo[y_means \u001b[39m==\u001b[39m \u001b[39m0\u001b[39m, \u001b[39m0\u001b[39m], clusteringLeo[y_means \u001b[39m==\u001b[39m \u001b[39m0\u001b[39m, \u001b[39m1\u001b[39m], s \u001b[39m=\u001b[39m \u001b[39m100\u001b[39m, c \u001b[39m=\u001b[39m \u001b[39m'\u001b[39m\u001b[39mpink\u001b[39m\u001b[39m'\u001b[39m, label \u001b[39m=\u001b[39m \u001b[39m'\u001b[39m\u001b[39mmiser\u001b[39m\u001b[39m'\u001b[39m)\n",
      "File \u001b[1;32mc:\\Users\\Leo\\AppData\\Local\\Programs\\Python\\Python38\\lib\\site-packages\\sklearn\\cluster\\_kmeans.py:1255\u001b[0m, in \u001b[0;36mKMeans.fit_predict\u001b[1;34m(self, X, y, sample_weight)\u001b[0m\n\u001b[0;32m   1232\u001b[0m \u001b[39mdef\u001b[39;00m \u001b[39mfit_predict\u001b[39m(\u001b[39mself\u001b[39m, X, y\u001b[39m=\u001b[39m\u001b[39mNone\u001b[39;00m, sample_weight\u001b[39m=\u001b[39m\u001b[39mNone\u001b[39;00m):\n\u001b[0;32m   1233\u001b[0m     \u001b[39m\"\"\"Compute cluster centers and predict cluster index for each sample.\u001b[39;00m\n\u001b[0;32m   1234\u001b[0m \n\u001b[0;32m   1235\u001b[0m \u001b[39m    Convenience method; equivalent to calling fit(X) followed by\u001b[39;00m\n\u001b[1;32m   (...)\u001b[0m\n\u001b[0;32m   1253\u001b[0m \u001b[39m        Index of the cluster each sample belongs to.\u001b[39;00m\n\u001b[0;32m   1254\u001b[0m \u001b[39m    \"\"\"\u001b[39;00m\n\u001b[1;32m-> 1255\u001b[0m     \u001b[39mreturn\u001b[39;00m \u001b[39mself\u001b[39;49m\u001b[39m.\u001b[39;49mfit(X, sample_weight\u001b[39m=\u001b[39;49msample_weight)\u001b[39m.\u001b[39mlabels_\n",
      "File \u001b[1;32mc:\\Users\\Leo\\AppData\\Local\\Programs\\Python\\Python38\\lib\\site-packages\\sklearn\\cluster\\_kmeans.py:1186\u001b[0m, in \u001b[0;36mKMeans.fit\u001b[1;34m(self, X, y, sample_weight)\u001b[0m\n\u001b[0;32m   1183\u001b[0m     \u001b[39mprint\u001b[39m(\u001b[39m\"\u001b[39m\u001b[39mInitialization complete\u001b[39m\u001b[39m\"\u001b[39m)\n\u001b[0;32m   1185\u001b[0m \u001b[39m# run a k-means once\u001b[39;00m\n\u001b[1;32m-> 1186\u001b[0m labels, inertia, centers, n_iter_ \u001b[39m=\u001b[39m kmeans_single(\n\u001b[0;32m   1187\u001b[0m     X,\n\u001b[0;32m   1188\u001b[0m     sample_weight,\n\u001b[0;32m   1189\u001b[0m     centers_init,\n\u001b[0;32m   1190\u001b[0m     max_iter\u001b[39m=\u001b[39;49m\u001b[39mself\u001b[39;49m\u001b[39m.\u001b[39;49mmax_iter,\n\u001b[0;32m   1191\u001b[0m     verbose\u001b[39m=\u001b[39;49m\u001b[39mself\u001b[39;49m\u001b[39m.\u001b[39;49mverbose,\n\u001b[0;32m   1192\u001b[0m     tol\u001b[39m=\u001b[39;49m\u001b[39mself\u001b[39;49m\u001b[39m.\u001b[39;49m_tol,\n\u001b[0;32m   1193\u001b[0m     x_squared_norms\u001b[39m=\u001b[39;49mx_squared_norms,\n\u001b[0;32m   1194\u001b[0m     n_threads\u001b[39m=\u001b[39;49m\u001b[39mself\u001b[39;49m\u001b[39m.\u001b[39;49m_n_threads,\n\u001b[0;32m   1195\u001b[0m )\n\u001b[0;32m   1197\u001b[0m \u001b[39m# determine if these results are the best so far\u001b[39;00m\n\u001b[0;32m   1198\u001b[0m \u001b[39m# we chose a new run if it has a better inertia and the clustering is\u001b[39;00m\n\u001b[0;32m   1199\u001b[0m \u001b[39m# different from the best so far (it's possible that the inertia is\u001b[39;00m\n\u001b[0;32m   1200\u001b[0m \u001b[39m# slightly better even if the clustering is the same with potentially\u001b[39;00m\n\u001b[0;32m   1201\u001b[0m \u001b[39m# permuted labels, due to rounding errors)\u001b[39;00m\n\u001b[0;32m   1202\u001b[0m \u001b[39mif\u001b[39;00m best_inertia \u001b[39mis\u001b[39;00m \u001b[39mNone\u001b[39;00m \u001b[39mor\u001b[39;00m (\n\u001b[0;32m   1203\u001b[0m     inertia \u001b[39m<\u001b[39m best_inertia\n\u001b[0;32m   1204\u001b[0m     \u001b[39mand\u001b[39;00m \u001b[39mnot\u001b[39;00m _is_same_clustering(labels, best_labels, \u001b[39mself\u001b[39m\u001b[39m.\u001b[39mn_clusters)\n\u001b[0;32m   1205\u001b[0m ):\n",
      "File \u001b[1;32mc:\\Users\\Leo\\AppData\\Local\\Programs\\Python\\Python38\\lib\\site-packages\\sklearn\\cluster\\_kmeans.py:502\u001b[0m, in \u001b[0;36m_kmeans_single_elkan\u001b[1;34m(X, sample_weight, centers_init, max_iter, verbose, x_squared_norms, tol, n_threads)\u001b[0m\n\u001b[0;32m    498\u001b[0m     \u001b[39mprint\u001b[39m(\u001b[39mf\u001b[39m\u001b[39m\"\u001b[39m\u001b[39mIteration \u001b[39m\u001b[39m{\u001b[39;00mi\u001b[39m}\u001b[39;00m\u001b[39m, inertia \u001b[39m\u001b[39m{\u001b[39;00minertia\u001b[39m}\u001b[39;00m\u001b[39m\"\u001b[39m)\n\u001b[0;32m    500\u001b[0m centers, centers_new \u001b[39m=\u001b[39m centers_new, centers\n\u001b[1;32m--> 502\u001b[0m \u001b[39mif\u001b[39;00m np\u001b[39m.\u001b[39;49marray_equal(labels, labels_old):\n\u001b[0;32m    503\u001b[0m     \u001b[39m# First check the labels for strict convergence.\u001b[39;00m\n\u001b[0;32m    504\u001b[0m     \u001b[39mif\u001b[39;00m verbose:\n\u001b[0;32m    505\u001b[0m         \u001b[39mprint\u001b[39m(\u001b[39mf\u001b[39m\u001b[39m\"\u001b[39m\u001b[39mConverged at iteration \u001b[39m\u001b[39m{\u001b[39;00mi\u001b[39m}\u001b[39;00m\u001b[39m: strict convergence.\u001b[39m\u001b[39m\"\u001b[39m)\n",
      "File \u001b[1;32m<__array_function__ internals>:5\u001b[0m, in \u001b[0;36marray_equal\u001b[1;34m(*args, **kwargs)\u001b[0m\n",
      "File \u001b[1;32mc:\\Users\\Leo\\AppData\\Local\\Programs\\Python\\Python38\\lib\\site-packages\\numpy\\core\\numeric.py:2378\u001b[0m, in \u001b[0;36marray_equal\u001b[1;34m(a1, a2, equal_nan)\u001b[0m\n\u001b[0;32m   2376\u001b[0m     \u001b[39mreturn\u001b[39;00m \u001b[39mFalse\u001b[39;00m\n\u001b[0;32m   2377\u001b[0m \u001b[39mif\u001b[39;00m \u001b[39mnot\u001b[39;00m equal_nan:\n\u001b[1;32m-> 2378\u001b[0m     \u001b[39mreturn\u001b[39;00m \u001b[39mbool\u001b[39m(asarray(a1 \u001b[39m==\u001b[39;49m a2)\u001b[39m.\u001b[39mall())\n\u001b[0;32m   2379\u001b[0m \u001b[39m# Handling NaN values if equal_nan is True\u001b[39;00m\n\u001b[0;32m   2380\u001b[0m a1nan, a2nan \u001b[39m=\u001b[39m isnan(a1), isnan(a2)\n",
      "\u001b[1;31mKeyboardInterrupt\u001b[0m: "
     ]
    }
   ],
   "source": [
    "\n",
    "dataset = pd.read_csv(\"DataSet\\out.csv\")\n",
    "dataset['date'] = pd.to_datetime(dataset['date'])\n",
    "dataset.set_index('date')\n",
    "\n",
    "#NO_2,PM10\n",
    "#\n",
    "dataset.info()\n",
    "pre_clustering1 = dataset.loc[(dataset['NO_2'].notnull()) & (dataset['SO_2'].notnull())]\n",
    "display(pre_clustering1.info())\n",
    "clusteringLeo = pre_clustering1.iloc[:,[6,10]].values\n",
    "scaler = StandardScaler()\n",
    "scaler.fit(clusteringLeo)\n",
    "StandardScaler()\n",
    "clusteringLeo = scaler.transform(clusteringLeo)\n",
    "\n",
    "print(clusteringLeo.shape)\n",
    "from sklearn.cluster import KMeans\n",
    "\n",
    "'''wcss = []\n",
    "for i in range(1, 11):\n",
    "    km = KMeans(n_clusters = i, init = 'k-means++', max_iter = 300, n_init = 10, random_state = 0)\n",
    "    km.fit(clusteringLeo)\n",
    "    wcss.append(km.inertia_)'''\n",
    "\n",
    "#plt.figure(figsize=(20,8))\n",
    "#plt.plot(range(1, 11), wcss)\n",
    "#plt.title('The Elbow Method', fontsize = 20)\n",
    "#plt.xlabel('No. of Clusters')\n",
    "#plt.ylabel('wcss')\n",
    "#plt.show()\n",
    "\n",
    "km = KMeans(n_clusters = 4, init = 'k-means++', max_iter = 300, n_init = 10, random_state = 0)\n",
    "y_means = km.fit_predict(clusteringLeo)\n",
    "\n",
    "plt.figure(figsize=(15,8))\n",
    "plt.scatter(clusteringLeo[y_means == 0, 0], clusteringLeo[y_means == 0, 1], s = 100, c = 'pink', label = 'miser')\n",
    "plt.scatter(clusteringLeo[y_means == 1, 0], clusteringLeo[y_means == 1, 1], s = 100, c = 'yellow', label = 'general')\n",
    "plt.scatter(clusteringLeo[y_means == 2, 0], clusteringLeo[y_means == 2, 1], s = 100, c = 'cyan', label = 'target')\n",
    "plt.scatter(clusteringLeo[y_means == 3, 0], clusteringLeo[y_means == 3, 1], s = 100, c = 'magenta', label = 'spendthrift')\n",
    "plt.scatter(km.cluster_centers_[:,0], km.cluster_centers_[:, 1], s = 50, c = 'blue' , label = 'centroid')\n",
    "\n",
    "plt.title('K Means Clustering', fontsize = 20)\n",
    "plt.xlabel('Annual Income')\n",
    "plt.ylabel('Spending Score')\n",
    "plt.legend()\n",
    "plt.show()\n",
    "\n",
    "#pmAverageStation = datasetStation28079055['PM10'].resample('10d').mean()\n",
    "#pmAverageStation.plot.line(x='date',y='PM25')\n",
    "#plt.show()\n",
    "#pmAverage = dataset['PM25'].resample('5d')\n",
    "#pmAverage.plot.line(x='date',y='PM25')\n",
    "#print(pmAverage)\n",
    "#dataset.plot.line(x='date',y='PM25')\n",
    "#plt.show()\n",
    "\n"
   ]
  },
  {
   "cell_type": "markdown",
   "metadata": {},
   "source": [
    "# Lancio del clustering gerachico"
   ]
  },
  {
   "cell_type": "code",
   "execution_count": 38,
   "metadata": {},
   "outputs": [],
   "source": [
    "from sklearn.cluster import AgglomerativeClustering\n",
    "\n",
    "hc = AgglomerativeClustering(n_clusters = 5, affinity = 'euclidean', linkage = 'ward')\n",
    "y_hc = hc.fit_predict(clustering1)\n",
    "\n",
    "plt.figure(figsize=(15,8))\n",
    "plt.scatter(clustering1[y_hc == 0, 0], clustering1[y_hc == 0, 1], s = 100, c = 'pink', label = 'miser')\n",
    "plt.scatter(clustering1[y_hc == 1, 0], clustering1[y_hc == 1, 1], s = 100, c = 'yellow', label = 'general')\n",
    "plt.scatter(clustering1[y_hc == 2, 0], clustering1[y_hc == 2, 1], s = 100, c = 'cyan', label = 'target')\n",
    "plt.scatter(clustering1[y_hc == 3, 0], clustering1[y_hc == 3, 1], s = 100, c = 'magenta', label = 'spendthrift')\n",
    "plt.scatter(clustering1[y_hc == 4, 0], clustering1[y_hc == 4, 1], s = 100, c = 'orange', label = 'careful')\n",
    "\n",
    "plt.title('Hierarchial Clustering', fontsize = 20)\n",
    "plt.xlabel('Annual Income')\n",
    "plt.ylabel('Spending Score')\n",
    "plt.legend()\n",
    "plt.show()"
   ]
  },
  {
   "cell_type": "markdown",
   "metadata": {},
   "source": [
    "Test"
   ]
  }
 ],
 "metadata": {
  "kernelspec": {
   "display_name": "Python 3.11.0 64-bit (microsoft store)",
   "language": "python",
   "name": "python3"
  },
  "language_info": {
   "codemirror_mode": {
    "name": "ipython",
    "version": 3
   },
   "file_extension": ".py",
   "mimetype": "text/x-python",
   "name": "python",
   "nbconvert_exporter": "python",
   "pygments_lexer": "ipython3",
   "version": "3.11.0"
  },
  "orig_nbformat": 4,
  "vscode": {
   "interpreter": {
    "hash": "919c18adca473b496926cbcc6d5129551fb55bb1642c0f0de4be834ae80622d5"
   }
  }
 },
 "nbformat": 4,
 "nbformat_minor": 2
}
