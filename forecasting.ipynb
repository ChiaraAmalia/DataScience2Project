{
 "cells": [
  {
   "cell_type": "code",
   "execution_count": 2,
   "metadata": {},
   "outputs": [],
   "source": [
    "# importare tutte le librerie necessarie\n",
    "import pandas as pd\n",
    "import numpy as np\n",
    "import datetime as dt\n",
    "from tabulate import tabulate\n",
    "import matplotlib.pyplot as plt\n",
    "path = r\".\\\\DataSet\\\\\"\n",
    "import seaborn as sns\n",
    "import statsmodels.api as sm"
   ]
  },
  {
   "cell_type": "code",
   "execution_count": 77,
   "metadata": {},
   "outputs": [
    {
     "data": {
      "text/html": [
       "<div>\n",
       "<style scoped>\n",
       "    .dataframe tbody tr th:only-of-type {\n",
       "        vertical-align: middle;\n",
       "    }\n",
       "\n",
       "    .dataframe tbody tr th {\n",
       "        vertical-align: top;\n",
       "    }\n",
       "\n",
       "    .dataframe thead th {\n",
       "        text-align: right;\n",
       "    }\n",
       "</style>\n",
       "<table border=\"1\" class=\"dataframe\">\n",
       "  <thead>\n",
       "    <tr style=\"text-align: right;\">\n",
       "      <th></th>\n",
       "      <th>date</th>\n",
       "      <th>BEN</th>\n",
       "      <th>CO</th>\n",
       "      <th>EBE</th>\n",
       "      <th>NMHC</th>\n",
       "      <th>NO</th>\n",
       "      <th>NO_2</th>\n",
       "      <th>O_3</th>\n",
       "      <th>PM10</th>\n",
       "      <th>PM25</th>\n",
       "      <th>SO_2</th>\n",
       "      <th>TCH</th>\n",
       "      <th>TOL</th>\n",
       "      <th>station</th>\n",
       "    </tr>\n",
       "  </thead>\n",
       "  <tbody>\n",
       "    <tr>\n",
       "      <th>0</th>\n",
       "      <td>2008-06-01 01:00:00</td>\n",
       "      <td>NaN</td>\n",
       "      <td>0.47</td>\n",
       "      <td>NaN</td>\n",
       "      <td>NaN</td>\n",
       "      <td>11.820078</td>\n",
       "      <td>83.089996</td>\n",
       "      <td>16.990000</td>\n",
       "      <td>16.889999</td>\n",
       "      <td>10.4</td>\n",
       "      <td>8.98</td>\n",
       "      <td>NaN</td>\n",
       "      <td>NaN</td>\n",
       "      <td>28079001</td>\n",
       "    </tr>\n",
       "    <tr>\n",
       "      <th>1</th>\n",
       "      <td>2008-06-01 01:00:00</td>\n",
       "      <td>NaN</td>\n",
       "      <td>0.59</td>\n",
       "      <td>NaN</td>\n",
       "      <td>NaN</td>\n",
       "      <td>11.820078</td>\n",
       "      <td>94.820000</td>\n",
       "      <td>17.469999</td>\n",
       "      <td>19.040001</td>\n",
       "      <td>NaN</td>\n",
       "      <td>5.85</td>\n",
       "      <td>NaN</td>\n",
       "      <td>NaN</td>\n",
       "      <td>28079003</td>\n",
       "    </tr>\n",
       "    <tr>\n",
       "      <th>2</th>\n",
       "      <td>2008-06-01 01:00:00</td>\n",
       "      <td>NaN</td>\n",
       "      <td>0.55</td>\n",
       "      <td>NaN</td>\n",
       "      <td>NaN</td>\n",
       "      <td>11.820078</td>\n",
       "      <td>75.919998</td>\n",
       "      <td>13.470000</td>\n",
       "      <td>20.270000</td>\n",
       "      <td>NaN</td>\n",
       "      <td>6.95</td>\n",
       "      <td>NaN</td>\n",
       "      <td>NaN</td>\n",
       "      <td>28079004</td>\n",
       "    </tr>\n",
       "    <tr>\n",
       "      <th>3</th>\n",
       "      <td>2008-06-01 01:00:00</td>\n",
       "      <td>NaN</td>\n",
       "      <td>0.36</td>\n",
       "      <td>NaN</td>\n",
       "      <td>NaN</td>\n",
       "      <td>11.820078</td>\n",
       "      <td>61.029999</td>\n",
       "      <td>23.110001</td>\n",
       "      <td>10.850000</td>\n",
       "      <td>NaN</td>\n",
       "      <td>5.96</td>\n",
       "      <td>NaN</td>\n",
       "      <td>NaN</td>\n",
       "      <td>28079039</td>\n",
       "    </tr>\n",
       "    <tr>\n",
       "      <th>4</th>\n",
       "      <td>2008-06-01 01:00:00</td>\n",
       "      <td>1.68</td>\n",
       "      <td>0.80</td>\n",
       "      <td>1.7</td>\n",
       "      <td>0.3</td>\n",
       "      <td>11.820078</td>\n",
       "      <td>105.199997</td>\n",
       "      <td>12.120000</td>\n",
       "      <td>37.160000</td>\n",
       "      <td>21.9</td>\n",
       "      <td>10.92</td>\n",
       "      <td>1.53</td>\n",
       "      <td>6.67</td>\n",
       "      <td>28079006</td>\n",
       "    </tr>\n",
       "    <tr>\n",
       "      <th>...</th>\n",
       "      <td>...</td>\n",
       "      <td>...</td>\n",
       "      <td>...</td>\n",
       "      <td>...</td>\n",
       "      <td>...</td>\n",
       "      <td>...</td>\n",
       "      <td>...</td>\n",
       "      <td>...</td>\n",
       "      <td>...</td>\n",
       "      <td>...</td>\n",
       "      <td>...</td>\n",
       "      <td>...</td>\n",
       "      <td>...</td>\n",
       "      <td>...</td>\n",
       "    </tr>\n",
       "    <tr>\n",
       "      <th>2190883</th>\n",
       "      <td>2018-02-01 00:00:00</td>\n",
       "      <td>NaN</td>\n",
       "      <td>0.50</td>\n",
       "      <td>NaN</td>\n",
       "      <td>NaN</td>\n",
       "      <td>66.000000</td>\n",
       "      <td>91.000000</td>\n",
       "      <td>1.000000</td>\n",
       "      <td>35.000000</td>\n",
       "      <td>22.0</td>\n",
       "      <td>NaN</td>\n",
       "      <td>NaN</td>\n",
       "      <td>NaN</td>\n",
       "      <td>28079056</td>\n",
       "    </tr>\n",
       "    <tr>\n",
       "      <th>2190884</th>\n",
       "      <td>2018-02-01 00:00:00</td>\n",
       "      <td>NaN</td>\n",
       "      <td>0.70</td>\n",
       "      <td>NaN</td>\n",
       "      <td>NaN</td>\n",
       "      <td>87.000000</td>\n",
       "      <td>107.000000</td>\n",
       "      <td>NaN</td>\n",
       "      <td>29.000000</td>\n",
       "      <td>NaN</td>\n",
       "      <td>15.00</td>\n",
       "      <td>NaN</td>\n",
       "      <td>NaN</td>\n",
       "      <td>28079057</td>\n",
       "    </tr>\n",
       "    <tr>\n",
       "      <th>2190885</th>\n",
       "      <td>2018-02-01 00:00:00</td>\n",
       "      <td>NaN</td>\n",
       "      <td>NaN</td>\n",
       "      <td>NaN</td>\n",
       "      <td>NaN</td>\n",
       "      <td>28.000000</td>\n",
       "      <td>48.000000</td>\n",
       "      <td>2.000000</td>\n",
       "      <td>NaN</td>\n",
       "      <td>NaN</td>\n",
       "      <td>NaN</td>\n",
       "      <td>NaN</td>\n",
       "      <td>NaN</td>\n",
       "      <td>28079058</td>\n",
       "    </tr>\n",
       "    <tr>\n",
       "      <th>2190886</th>\n",
       "      <td>2018-02-01 00:00:00</td>\n",
       "      <td>NaN</td>\n",
       "      <td>NaN</td>\n",
       "      <td>NaN</td>\n",
       "      <td>NaN</td>\n",
       "      <td>141.000000</td>\n",
       "      <td>103.000000</td>\n",
       "      <td>2.000000</td>\n",
       "      <td>NaN</td>\n",
       "      <td>NaN</td>\n",
       "      <td>NaN</td>\n",
       "      <td>NaN</td>\n",
       "      <td>NaN</td>\n",
       "      <td>28079059</td>\n",
       "    </tr>\n",
       "    <tr>\n",
       "      <th>2190887</th>\n",
       "      <td>2018-02-01 00:00:00</td>\n",
       "      <td>NaN</td>\n",
       "      <td>NaN</td>\n",
       "      <td>NaN</td>\n",
       "      <td>NaN</td>\n",
       "      <td>69.000000</td>\n",
       "      <td>96.000000</td>\n",
       "      <td>3.000000</td>\n",
       "      <td>26.000000</td>\n",
       "      <td>NaN</td>\n",
       "      <td>NaN</td>\n",
       "      <td>NaN</td>\n",
       "      <td>NaN</td>\n",
       "      <td>28079060</td>\n",
       "    </tr>\n",
       "  </tbody>\n",
       "</table>\n",
       "<p>2190888 rows × 14 columns</p>\n",
       "</div>"
      ],
      "text/plain": [
       "                       date   BEN    CO  EBE  NMHC          NO        NO_2  \\\n",
       "0       2008-06-01 01:00:00   NaN  0.47  NaN   NaN   11.820078   83.089996   \n",
       "1       2008-06-01 01:00:00   NaN  0.59  NaN   NaN   11.820078   94.820000   \n",
       "2       2008-06-01 01:00:00   NaN  0.55  NaN   NaN   11.820078   75.919998   \n",
       "3       2008-06-01 01:00:00   NaN  0.36  NaN   NaN   11.820078   61.029999   \n",
       "4       2008-06-01 01:00:00  1.68  0.80  1.7   0.3   11.820078  105.199997   \n",
       "...                     ...   ...   ...  ...   ...         ...         ...   \n",
       "2190883 2018-02-01 00:00:00   NaN  0.50  NaN   NaN   66.000000   91.000000   \n",
       "2190884 2018-02-01 00:00:00   NaN  0.70  NaN   NaN   87.000000  107.000000   \n",
       "2190885 2018-02-01 00:00:00   NaN   NaN  NaN   NaN   28.000000   48.000000   \n",
       "2190886 2018-02-01 00:00:00   NaN   NaN  NaN   NaN  141.000000  103.000000   \n",
       "2190887 2018-02-01 00:00:00   NaN   NaN  NaN   NaN   69.000000   96.000000   \n",
       "\n",
       "               O_3       PM10  PM25   SO_2   TCH   TOL   station  \n",
       "0        16.990000  16.889999  10.4   8.98   NaN   NaN  28079001  \n",
       "1        17.469999  19.040001   NaN   5.85   NaN   NaN  28079003  \n",
       "2        13.470000  20.270000   NaN   6.95   NaN   NaN  28079004  \n",
       "3        23.110001  10.850000   NaN   5.96   NaN   NaN  28079039  \n",
       "4        12.120000  37.160000  21.9  10.92  1.53  6.67  28079006  \n",
       "...            ...        ...   ...    ...   ...   ...       ...  \n",
       "2190883   1.000000  35.000000  22.0    NaN   NaN   NaN  28079056  \n",
       "2190884        NaN  29.000000   NaN  15.00   NaN   NaN  28079057  \n",
       "2190885   2.000000        NaN   NaN    NaN   NaN   NaN  28079058  \n",
       "2190886   2.000000        NaN   NaN    NaN   NaN   NaN  28079059  \n",
       "2190887   3.000000  26.000000   NaN    NaN   NaN   NaN  28079060  \n",
       "\n",
       "[2190888 rows x 14 columns]"
      ]
     },
     "metadata": {},
     "output_type": "display_data"
    }
   ],
   "source": [
    "allMadrid = pd.read_csv(path+\"out.csv\")\n",
    "allMadrid['date'] = pd.to_datetime(allMadrid['date'], format='%Y/%m/%d %H:%M:%S')\n",
    "display(allMadrid)"
   ]
  },
  {
   "cell_type": "code",
   "execution_count": 87,
   "metadata": {},
   "outputs": [
    {
     "data": {
      "text/plain": [
       "DatetimeIndex(['2008-06-01 01:00:00', '2008-06-01 01:00:00',\n",
       "               '2008-06-01 01:00:00', '2008-06-01 01:00:00',\n",
       "               '2008-06-01 01:00:00', '2008-06-01 01:00:00',\n",
       "               '2008-06-01 01:00:00', '2008-06-01 01:00:00',\n",
       "               '2008-06-01 01:00:00', '2008-06-01 01:00:00',\n",
       "               ...\n",
       "               '2018-02-01 00:00:00', '2018-02-01 00:00:00',\n",
       "               '2018-02-01 00:00:00', '2018-02-01 00:00:00',\n",
       "               '2018-02-01 00:00:00', '2018-02-01 00:00:00',\n",
       "               '2018-02-01 00:00:00', '2018-02-01 00:00:00',\n",
       "               '2018-02-01 00:00:00', '2018-02-01 00:00:00'],\n",
       "              dtype='datetime64[ns]', length=2190888, freq=None)"
      ]
     },
     "execution_count": 87,
     "metadata": {},
     "output_type": "execute_result"
    }
   ],
   "source": [
    "no2Tab.index"
   ]
  },
  {
   "cell_type": "code",
   "execution_count": 95,
   "metadata": {},
   "outputs": [
    {
     "name": "stdout",
     "output_type": "stream",
     "text": [
      "0         2008-06-01 01:00:00\n",
      "1         2008-06-01 01:00:00\n",
      "2         2008-06-01 01:00:00\n",
      "3         2008-06-01 01:00:00\n",
      "4         2008-06-01 01:00:00\n",
      "                  ...        \n",
      "2190883   2018-02-01 00:00:00\n",
      "2190884   2018-02-01 00:00:00\n",
      "2190885   2018-02-01 00:00:00\n",
      "2190886   2018-02-01 00:00:00\n",
      "2190887   2018-02-01 00:00:00\n",
      "Name: date, Length: 2190888, dtype: datetime64[ns]\n"
     ]
    }
   ],
   "source": [
    "print(allMadrid['date'])"
   ]
  },
  {
   "cell_type": "code",
   "execution_count": 96,
   "metadata": {},
   "outputs": [
    {
     "data": {
      "text/html": [
       "<div>\n",
       "<style scoped>\n",
       "    .dataframe tbody tr th:only-of-type {\n",
       "        vertical-align: middle;\n",
       "    }\n",
       "\n",
       "    .dataframe tbody tr th {\n",
       "        vertical-align: top;\n",
       "    }\n",
       "\n",
       "    .dataframe thead th {\n",
       "        text-align: right;\n",
       "    }\n",
       "</style>\n",
       "<table border=\"1\" class=\"dataframe\">\n",
       "  <thead>\n",
       "    <tr style=\"text-align: right;\">\n",
       "      <th></th>\n",
       "      <th>NO2</th>\n",
       "    </tr>\n",
       "    <tr>\n",
       "      <th>date</th>\n",
       "      <th></th>\n",
       "    </tr>\n",
       "  </thead>\n",
       "  <tbody>\n",
       "    <tr>\n",
       "      <th>2008-06-01 01:00:00</th>\n",
       "      <td>NaN</td>\n",
       "    </tr>\n",
       "    <tr>\n",
       "      <th>2008-06-01 01:00:00</th>\n",
       "      <td>NaN</td>\n",
       "    </tr>\n",
       "    <tr>\n",
       "      <th>2008-06-01 01:00:00</th>\n",
       "      <td>NaN</td>\n",
       "    </tr>\n",
       "    <tr>\n",
       "      <th>2008-06-01 01:00:00</th>\n",
       "      <td>NaN</td>\n",
       "    </tr>\n",
       "    <tr>\n",
       "      <th>2008-06-01 01:00:00</th>\n",
       "      <td>NaN</td>\n",
       "    </tr>\n",
       "    <tr>\n",
       "      <th>...</th>\n",
       "      <td>...</td>\n",
       "    </tr>\n",
       "    <tr>\n",
       "      <th>2018-02-01 00:00:00</th>\n",
       "      <td>NaN</td>\n",
       "    </tr>\n",
       "    <tr>\n",
       "      <th>2018-02-01 00:00:00</th>\n",
       "      <td>NaN</td>\n",
       "    </tr>\n",
       "    <tr>\n",
       "      <th>2018-02-01 00:00:00</th>\n",
       "      <td>NaN</td>\n",
       "    </tr>\n",
       "    <tr>\n",
       "      <th>2018-02-01 00:00:00</th>\n",
       "      <td>NaN</td>\n",
       "    </tr>\n",
       "    <tr>\n",
       "      <th>2018-02-01 00:00:00</th>\n",
       "      <td>NaN</td>\n",
       "    </tr>\n",
       "  </tbody>\n",
       "</table>\n",
       "<p>2190888 rows × 1 columns</p>\n",
       "</div>"
      ],
      "text/plain": [
       "                     NO2\n",
       "date                    \n",
       "2008-06-01 01:00:00  NaN\n",
       "2008-06-01 01:00:00  NaN\n",
       "2008-06-01 01:00:00  NaN\n",
       "2008-06-01 01:00:00  NaN\n",
       "2008-06-01 01:00:00  NaN\n",
       "...                  ...\n",
       "2018-02-01 00:00:00  NaN\n",
       "2018-02-01 00:00:00  NaN\n",
       "2018-02-01 00:00:00  NaN\n",
       "2018-02-01 00:00:00  NaN\n",
       "2018-02-01 00:00:00  NaN\n",
       "\n",
       "[2190888 rows x 1 columns]"
      ]
     },
     "metadata": {},
     "output_type": "display_data"
    },
    {
     "data": {
      "text/plain": [
       "<AxesSubplot: xlabel='date'>"
      ]
     },
     "execution_count": 96,
     "metadata": {},
     "output_type": "execute_result"
    },
    {
     "data": {
      "image/png": "[encoded data removed]",
      "text/plain": [
       "<Figure size 1500x200 with 1 Axes>"
      ]
     },
     "metadata": {},
     "output_type": "display_data"
    }
   ],
   "source": [
    "index = pd.DatetimeIndex(allMadrid['date'])\n",
    "no2Tab=pd.DataFrame({'NO2':allMadrid['NO_2']},index=index)\n",
    "display(no2Tab)\n",
    "forNo2 = no2Tab['NO2']\n",
    "forNo2.plot(figsize=(15, 2))"
   ]
  },
  {
   "cell_type": "markdown",
   "metadata": {},
   "source": [
    "Ora creiamo il modello per le previsioni. \n",
    "Il modello scelto è un AR(1), e lo costruiremo grazie alla classe `SARIMAX` di statsmodels.\n",
    "Poi stimiamo i suoi parametri con il metodo `fit`. \n",
    "Infine con il metodo `summary` produrremo le diverse tabelle che mostrano i risultati."
   ]
  },
  {
   "cell_type": "code",
   "execution_count": 39,
   "metadata": {},
   "outputs": [
    {
     "name": "stdout",
     "output_type": "stream",
     "text": [
      "                               SARIMAX Results                                \n",
      "==============================================================================\n",
      "Dep. Variable:                    NO2   No. Observations:                   11\n",
      "Model:               SARIMAX(1, 0, 0)   Log Likelihood                 -40.382\n",
      "Date:                Mon, 28 Nov 2022   AIC                             86.764\n",
      "Time:                        17:45:27   BIC                             87.958\n",
      "Sample:                             0   HQIC                            86.012\n",
      "                                 - 11                                         \n",
      "Covariance Type:                  opg                                         \n",
      "==============================================================================\n",
      "                 coef    std err          z      P>|z|      [0.025      0.975]\n",
      "------------------------------------------------------------------------------\n",
      "intercept     14.9604     11.783      1.270      0.204      -8.134      38.055\n",
      "ar.L1          0.1206      0.715      0.169      0.866      -1.280       1.521\n",
      "sigma2        90.2891     48.661      1.855      0.064      -5.084     185.662\n",
      "===================================================================================\n",
      "Ljung-Box (L1) (Q):                   0.03   Jarque-Bera (JB):                 6.66\n",
      "Prob(Q):                              0.86   Prob(JB):                         0.04\n",
      "Heteroskedasticity (H):               0.21   Skew:                             1.61\n",
      "Prob(H) (two-sided):                  0.16   Kurtosis:                         5.03\n",
      "===================================================================================\n",
      "\n",
      "Warnings:\n",
      "[1] Covariance matrix calculated using the outer product of gradients (complex-step).\n"
     ]
    },
    {
     "name": "stderr",
     "output_type": "stream",
     "text": [
      "d:\\Program Files\\Python311\\Lib\\site-packages\\statsmodels\\tsa\\base\\tsa_model.py:471: ValueWarning: An unsupported index was provided and will be ignored when e.g. forecasting.\n",
      "  self._init_dates(dates, freq)\n",
      "d:\\Program Files\\Python311\\Lib\\site-packages\\statsmodels\\tsa\\base\\tsa_model.py:471: ValueWarning: An unsupported index was provided and will be ignored when e.g. forecasting.\n",
      "  self._init_dates(dates, freq)\n"
     ]
    }
   ],
   "source": [
    "# Construct the model\n",
    "mod = sm.tsa.SARIMAX(forNo2, order=(1, 0, 0), trend='c')\n",
    "# Estimate the parameters\n",
    "res = mod.fit()\n",
    "\n",
    "print(res.summary())"
   ]
  },
  {
   "cell_type": "code",
   "execution_count": 46,
   "metadata": {},
   "outputs": [
    {
     "name": "stdout",
     "output_type": "stream",
     "text": [
      "NO2       mean   mean_se  mean_ci_lower  mean_ci_upper\n",
      "11   17.973752  9.502056       2.344261      33.603243\n",
      "12   17.127726  9.570885       1.385021      32.870432\n",
      "13   17.025712  9.571882       1.281366      32.770057\n",
      "14   17.013410  9.571897       1.269041      32.757780\n",
      "15   17.011927  9.571897       1.267557      32.756297\n"
     ]
    },
    {
     "name": "stderr",
     "output_type": "stream",
     "text": [
      "d:\\Program Files\\Python311\\Lib\\site-packages\\statsmodels\\tsa\\base\\tsa_model.py:834: ValueWarning: No supported index is available. Prediction results will be given with an integer index beginning at `start`.\n",
      "  return get_prediction_index(\n"
     ]
    }
   ],
   "source": [
    "# Here we construct a more complete results object.\n",
    "fcast_res1 = res.get_forecast(steps=5)\n",
    "\n",
    "# Most results are collected in the `summary_frame` attribute.\n",
    "# Here we specify that we want a confidence level of 90%\n",
    "print(fcast_res1.summary_frame(alpha=0.10))"
   ]
  },
  {
   "cell_type": "code",
   "execution_count": 74,
   "metadata": {},
   "outputs": [
    {
     "name": "stderr",
     "output_type": "stream",
     "text": [
      "d:\\Program Files\\Python311\\Lib\\site-packages\\statsmodels\\tsa\\base\\tsa_model.py:834: ValueWarning: No supported index is available. Prediction results will be given with an integer index beginning at `start`.\n",
      "  return get_prediction_index(\n"
     ]
    },
    {
     "data": {
      "text/plain": [
       "<matplotlib.collections.PolyCollection at 0x1fa586db050>"
      ]
     },
     "execution_count": 74,
     "metadata": {},
     "output_type": "execute_result"
    },
    {
     "data": {
      "image/png": "[encoded data removed]",
      "text/plain": [
       "<Figure size 1500x500 with 1 Axes>"
      ]
     },
     "metadata": {},
     "output_type": "display_data"
    }
   ],
   "source": [
    "fig, ax = plt.subplots(figsize=(15, 5))\n",
    "\n",
    "# Plot the data (here we are subsetting it to get a better look at the forecasts)\n",
    "#forNo2.reset_index()\n",
    "forNo2.loc[0:].plot(ax=ax)\n",
    "\n",
    "# Construct the forecasts\n",
    "fcast = res.get_forecast(steps=5).summary_frame()\n",
    "fcast['mean'].index=fcast['mean'].index+2008\n",
    "fcast['mean'].plot(ax=ax, style='k--')\n",
    "ax.fill_between(fcast.index+2008, fcast['mean_ci_lower'], fcast['mean_ci_upper'], color='k', alpha=0.1)"
   ]
  },
  {
   "cell_type": "code",
   "execution_count": 56,
   "metadata": {},
   "outputs": [
    {
     "data": {
      "text/plain": [
       "<AxesSubplot: >"
      ]
     },
     "execution_count": 56,
     "metadata": {},
     "output_type": "execute_result"
    },
    {
     "data": {
      "image/png": "[encoded data removed]",
      "text/plain": [
       "<Figure size 1500x500 with 1 Axes>"
      ]
     },
     "metadata": {},
     "output_type": "display_data"
    }
   ],
   "source": [
    "fig, ax = plt.subplots(figsize=(15, 5))\n",
    "fcast['mean'].plot(ax=ax, style='k--')"
   ]
  }
 ],
 "metadata": {
  "kernelspec": {
   "display_name": "Python 3.11.0 64-bit",
   "language": "python",
   "name": "python3"
  },
  "language_info": {
   "codemirror_mode": {
    "name": "ipython",
    "version": 3
   },
   "file_extension": ".py",
   "mimetype": "text/x-python",
   "name": "python",
   "nbconvert_exporter": "python",
   "pygments_lexer": "ipython3",
   "version": "3.11.0"
  },
  "orig_nbformat": 4,
  "vscode": {
   "interpreter": {
    "hash": "3b03d3ad6b1336e6e4949d619e4badd72fec28959454a0e0d6a04b545beba08a"
   }
  }
 },
 "nbformat": 4,
 "nbformat_minor": 2
}
