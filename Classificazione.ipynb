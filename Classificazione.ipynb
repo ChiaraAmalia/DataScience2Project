{
 "cells": [
  {
   "cell_type": "code",
   "execution_count": 159,
   "metadata": {},
   "outputs": [
    {
     "name": "stdout",
     "output_type": "stream",
     "text": [
      "c:\\Users\\chiar\\OneDrive\\Desktop\\Progetto2DataScience\\DataScience2Project\n"
     ]
    }
   ],
   "source": [
    "# importare tutte le librerie necessarie\n",
    "import pandas as pd\n",
    "import numpy as np\n",
    "import datetime as dt\n",
    "from tabulate import tabulate\n",
    "import matplotlib.pyplot as plt\n",
    "import seaborn as sns\n",
    "import os\n",
    "\n",
    "#Processing libraries\n",
    "from sklearn.preprocessing import StandardScaler,MinMaxScaler\n",
    "\n",
    "# Model libraries\n",
    "from sklearn.linear_model import LogisticRegression\n",
    "from sklearn.neighbors import KNeighborsClassifier\n",
    "from sklearn.svm import SVC, LinearSVC, NuSVC\n",
    "from sklearn.tree import DecisionTreeClassifier\n",
    "from sklearn.ensemble import RandomForestClassifier, AdaBoostClassifier, GradientBoostingClassifier, ExtraTreesClassifier, VotingClassifier\n",
    "from sklearn.neural_network import MLPClassifier\n",
    "from sklearn.discriminant_analysis import LinearDiscriminantAnalysis, QuadraticDiscriminantAnalysis\n",
    "from sklearn.naive_bayes import GaussianNB\n",
    "\n",
    "# Testing libraries\n",
    "from sklearn.model_selection import train_test_split, cross_val_score, StratifiedKFold, GridSearchCV, learning_curve\n",
    "from sklearn.metrics import accuracy_score, log_loss, confusion_matrix, classification_report, roc_curve, auc\n",
    "\n",
    "# Cambio della cartella attuale nella cartella in cui si trova il file .py\n",
    "path_file = os.path.abspath(os.getcwd())\n",
    "print(path_file)\n",
    "os.chdir(path_file)\n",
    "\n",
    "path_cartella = r\"\\archive\\csvs_per_year\\csvs_per_year\"\n",
    "\n",
    "path = r\".\\\\DataSet\\\\\"\n",
    "#path = path_file + path_cartella"
   ]
  },
  {
   "cell_type": "code",
   "execution_count": 160,
   "metadata": {},
   "outputs": [
    {
     "data": {
      "text/html": [
       "<div>\n",
       "<style scoped>\n",
       "    .dataframe tbody tr th:only-of-type {\n",
       "        vertical-align: middle;\n",
       "    }\n",
       "\n",
       "    .dataframe tbody tr th {\n",
       "        vertical-align: top;\n",
       "    }\n",
       "\n",
       "    .dataframe thead th {\n",
       "        text-align: right;\n",
       "    }\n",
       "</style>\n",
       "<table border=\"1\" class=\"dataframe\">\n",
       "  <thead>\n",
       "    <tr style=\"text-align: right;\">\n",
       "      <th></th>\n",
       "      <th>date</th>\n",
       "      <th>BEN</th>\n",
       "      <th>CO</th>\n",
       "      <th>EBE</th>\n",
       "      <th>NMHC</th>\n",
       "      <th>NO</th>\n",
       "      <th>NO_2</th>\n",
       "      <th>O_3</th>\n",
       "      <th>PM10</th>\n",
       "      <th>PM25</th>\n",
       "      <th>SO_2</th>\n",
       "      <th>TCH</th>\n",
       "      <th>TOL</th>\n",
       "      <th>station</th>\n",
       "    </tr>\n",
       "  </thead>\n",
       "  <tbody>\n",
       "    <tr>\n",
       "      <th>0</th>\n",
       "      <td>2008-06-01 01:00:00</td>\n",
       "      <td>NaN</td>\n",
       "      <td>0.47</td>\n",
       "      <td>NaN</td>\n",
       "      <td>NaN</td>\n",
       "      <td>11.820078</td>\n",
       "      <td>83.089996</td>\n",
       "      <td>16.990000</td>\n",
       "      <td>16.889999</td>\n",
       "      <td>10.4</td>\n",
       "      <td>8.98</td>\n",
       "      <td>NaN</td>\n",
       "      <td>NaN</td>\n",
       "      <td>28079001</td>\n",
       "    </tr>\n",
       "    <tr>\n",
       "      <th>1</th>\n",
       "      <td>2008-06-01 01:00:00</td>\n",
       "      <td>NaN</td>\n",
       "      <td>0.59</td>\n",
       "      <td>NaN</td>\n",
       "      <td>NaN</td>\n",
       "      <td>11.820078</td>\n",
       "      <td>94.820000</td>\n",
       "      <td>17.469999</td>\n",
       "      <td>19.040001</td>\n",
       "      <td>NaN</td>\n",
       "      <td>5.85</td>\n",
       "      <td>NaN</td>\n",
       "      <td>NaN</td>\n",
       "      <td>28079003</td>\n",
       "    </tr>\n",
       "    <tr>\n",
       "      <th>2</th>\n",
       "      <td>2008-06-01 01:00:00</td>\n",
       "      <td>NaN</td>\n",
       "      <td>0.55</td>\n",
       "      <td>NaN</td>\n",
       "      <td>NaN</td>\n",
       "      <td>11.820078</td>\n",
       "      <td>75.919998</td>\n",
       "      <td>13.470000</td>\n",
       "      <td>20.270000</td>\n",
       "      <td>NaN</td>\n",
       "      <td>6.95</td>\n",
       "      <td>NaN</td>\n",
       "      <td>NaN</td>\n",
       "      <td>28079004</td>\n",
       "    </tr>\n",
       "    <tr>\n",
       "      <th>3</th>\n",
       "      <td>2008-06-01 01:00:00</td>\n",
       "      <td>NaN</td>\n",
       "      <td>0.36</td>\n",
       "      <td>NaN</td>\n",
       "      <td>NaN</td>\n",
       "      <td>11.820078</td>\n",
       "      <td>61.029999</td>\n",
       "      <td>23.110001</td>\n",
       "      <td>10.850000</td>\n",
       "      <td>NaN</td>\n",
       "      <td>5.96</td>\n",
       "      <td>NaN</td>\n",
       "      <td>NaN</td>\n",
       "      <td>28079039</td>\n",
       "    </tr>\n",
       "    <tr>\n",
       "      <th>4</th>\n",
       "      <td>2008-06-01 01:00:00</td>\n",
       "      <td>1.68</td>\n",
       "      <td>0.80</td>\n",
       "      <td>1.7</td>\n",
       "      <td>0.3</td>\n",
       "      <td>11.820078</td>\n",
       "      <td>105.199997</td>\n",
       "      <td>12.120000</td>\n",
       "      <td>37.160000</td>\n",
       "      <td>21.9</td>\n",
       "      <td>10.92</td>\n",
       "      <td>1.53</td>\n",
       "      <td>6.67</td>\n",
       "      <td>28079006</td>\n",
       "    </tr>\n",
       "  </tbody>\n",
       "</table>\n",
       "</div>"
      ],
      "text/plain": [
       "                  date   BEN    CO  EBE  NMHC         NO        NO_2  \\\n",
       "0  2008-06-01 01:00:00   NaN  0.47  NaN   NaN  11.820078   83.089996   \n",
       "1  2008-06-01 01:00:00   NaN  0.59  NaN   NaN  11.820078   94.820000   \n",
       "2  2008-06-01 01:00:00   NaN  0.55  NaN   NaN  11.820078   75.919998   \n",
       "3  2008-06-01 01:00:00   NaN  0.36  NaN   NaN  11.820078   61.029999   \n",
       "4  2008-06-01 01:00:00  1.68  0.80  1.7   0.3  11.820078  105.199997   \n",
       "\n",
       "         O_3       PM10  PM25   SO_2   TCH   TOL   station  \n",
       "0  16.990000  16.889999  10.4   8.98   NaN   NaN  28079001  \n",
       "1  17.469999  19.040001   NaN   5.85   NaN   NaN  28079003  \n",
       "2  13.470000  20.270000   NaN   6.95   NaN   NaN  28079004  \n",
       "3  23.110001  10.850000   NaN   5.96   NaN   NaN  28079039  \n",
       "4  12.120000  37.160000  21.9  10.92  1.53  6.67  28079006  "
      ]
     },
     "execution_count": 160,
     "metadata": {},
     "output_type": "execute_result"
    }
   ],
   "source": [
    "allMadrid = pd.read_csv(path+\"out.csv\")\n",
    "#allMadrid = pd.read_csv(path+\"\\madrid_2008.csv\")\n",
    "allMadrid.head()"
   ]
  },
  {
   "cell_type": "code",
   "execution_count": 161,
   "metadata": {},
   "outputs": [
    {
     "name": "stdout",
     "output_type": "stream",
     "text": [
      "                       date         NO        NO_2       PM10  PM25   SO_2\n",
      "0       2008-06-01 01:00:00  11.820078   83.089996  16.889999  10.4   8.98\n",
      "1       2008-06-01 01:00:00  11.820078   94.820000  19.040001   NaN   5.85\n",
      "2       2008-06-01 01:00:00  11.820078   75.919998  20.270000   NaN   6.95\n",
      "3       2008-06-01 01:00:00  11.820078   61.029999  10.850000   NaN   5.96\n",
      "4       2008-06-01 01:00:00  11.820078  105.199997  37.160000  21.9  10.92\n",
      "...                     ...        ...         ...        ...   ...    ...\n",
      "1911667 2016-07-01 00:00:00   2.000000   29.000000        NaN   NaN    NaN\n",
      "1911668 2016-07-01 00:00:00   1.000000   29.000000  36.000000   NaN   5.00\n",
      "1911669 2016-07-01 00:00:00   1.000000   19.000000        NaN   NaN    NaN\n",
      "1911670 2016-07-01 00:00:00   6.000000   17.000000        NaN   NaN    NaN\n",
      "1911671 2016-07-01 00:00:00   2.000000   46.000000  34.000000   NaN    NaN\n",
      "\n",
      "[1911648 rows x 6 columns]\n"
     ]
    }
   ],
   "source": [
    "#allMadrid = allMadrid.drop(['date','BEN', 'CO', 'EBE', 'NMHC', 'NO', 'NO_2', 'O_3', 'SO_2', 'TCH', 'TOL', 'PM25', 'station'], axis=1)\n",
    "#allMadrid = allMadrid.drop(['date','BEN', 'CO', 'EBE', 'MXY', 'NMHC', 'OXY', 'O_3', 'PXY', 'TCH', 'TOL', 'station'], axis=1)\n",
    "allMadrid = allMadrid.drop(['BEN', 'CO', 'EBE', 'NMHC', 'O_3', 'TCH', 'TOL', 'station'], axis=1)\n",
    "allMadrid['date'] = pd.to_datetime(allMadrid['date'], errors='coerce')\n",
    "allMadrid = allMadrid[(allMadrid['date'].dt.year < 2017)]\n",
    "print(allMadrid)\n",
    "#allMadrid.head()\n"
   ]
  },
  {
   "cell_type": "code",
   "execution_count": 162,
   "metadata": {},
   "outputs": [
    {
     "name": "stdout",
     "output_type": "stream",
     "text": [
      "0         2008-06-01\n",
      "1         2008-06-01\n",
      "2         2008-06-01\n",
      "3         2008-06-01\n",
      "4         2008-06-01\n",
      "             ...    \n",
      "1911667   2016-07-01\n",
      "1911668   2016-07-01\n",
      "1911669   2016-07-01\n",
      "1911670   2016-07-01\n",
      "1911671   2016-07-01\n",
      "Name: date, Length: 1911648, dtype: datetime64[ns]\n"
     ]
    }
   ],
   "source": [
    "# Faccio un cambio di formato sul campo data passando da stringa a data\n",
    "allMadrid['date'] = pd.to_datetime(allMadrid['date'], format='%Y/%m/%d %H:%M:%S')\n",
    "#prendo la data solo in formato AAAA-MM-GG\n",
    "allMadrid['date'] = pd.to_datetime(allMadrid['date'].dt.strftime('%Y-%m-%d'))\n",
    "print(allMadrid['date'])"
   ]
  },
  {
   "cell_type": "code",
   "execution_count": 163,
   "metadata": {},
   "outputs": [
    {
     "name": "stdout",
     "output_type": "stream",
     "text": [
      "Index(['NO', 'NO_2', 'PM10', 'PM25', 'SO_2'], dtype='object')\n"
     ]
    }
   ],
   "source": [
    "#raggruppo per station\n",
    "allMadrid = allMadrid.groupby(['date']).mean()\n",
    "allMadrid = allMadrid.reset_index(drop=True)\n",
    "print(allMadrid.columns)"
   ]
  },
  {
   "cell_type": "code",
   "execution_count": null,
   "metadata": {},
   "outputs": [],
   "source": [
    "allMadrid.head()"
   ]
  },
  {
   "cell_type": "code",
   "execution_count": 164,
   "metadata": {},
   "outputs": [
    {
     "data": {
      "text/html": [
       "<div>\n",
       "<style scoped>\n",
       "    .dataframe tbody tr th:only-of-type {\n",
       "        vertical-align: middle;\n",
       "    }\n",
       "\n",
       "    .dataframe tbody tr th {\n",
       "        vertical-align: top;\n",
       "    }\n",
       "\n",
       "    .dataframe thead th {\n",
       "        text-align: right;\n",
       "    }\n",
       "</style>\n",
       "<table border=\"1\" class=\"dataframe\">\n",
       "  <thead>\n",
       "    <tr style=\"text-align: right;\">\n",
       "      <th></th>\n",
       "      <th>NO</th>\n",
       "      <th>NO_2</th>\n",
       "      <th>PM25</th>\n",
       "      <th>SO_2</th>\n",
       "    </tr>\n",
       "  </thead>\n",
       "  <tbody>\n",
       "    <tr>\n",
       "      <th>0</th>\n",
       "      <td>11.820078</td>\n",
       "      <td>67.084565</td>\n",
       "      <td>25.650870</td>\n",
       "      <td>19.815357</td>\n",
       "    </tr>\n",
       "    <tr>\n",
       "      <th>1</th>\n",
       "      <td>11.820078</td>\n",
       "      <td>66.552372</td>\n",
       "      <td>15.767895</td>\n",
       "      <td>14.897970</td>\n",
       "    </tr>\n",
       "    <tr>\n",
       "      <th>2</th>\n",
       "      <td>11.820078</td>\n",
       "      <td>50.410930</td>\n",
       "      <td>5.617396</td>\n",
       "      <td>10.923919</td>\n",
       "    </tr>\n",
       "    <tr>\n",
       "      <th>3</th>\n",
       "      <td>11.820078</td>\n",
       "      <td>58.247292</td>\n",
       "      <td>13.236000</td>\n",
       "      <td>12.875144</td>\n",
       "    </tr>\n",
       "    <tr>\n",
       "      <th>4</th>\n",
       "      <td>11.820078</td>\n",
       "      <td>47.282292</td>\n",
       "      <td>12.485729</td>\n",
       "      <td>11.804503</td>\n",
       "    </tr>\n",
       "  </tbody>\n",
       "</table>\n",
       "</div>"
      ],
      "text/plain": [
       "          NO       NO_2       PM25       SO_2\n",
       "0  11.820078  67.084565  25.650870  19.815357\n",
       "1  11.820078  66.552372  15.767895  14.897970\n",
       "2  11.820078  50.410930   5.617396  10.923919\n",
       "3  11.820078  58.247292  13.236000  12.875144\n",
       "4  11.820078  47.282292  12.485729  11.804503"
      ]
     },
     "execution_count": 164,
     "metadata": {},
     "output_type": "execute_result"
    }
   ],
   "source": [
    "allMadrid = allMadrid.dropna(subset=['PM10'])\n",
    "Livello = allMadrid['PM10']\n",
    "#allMadrid = allMadrid.dropna()\n",
    "allMadrid = allMadrid.drop(['PM10'], axis=1)\n",
    "allMadrid.head()"
   ]
  },
  {
   "cell_type": "code",
   "execution_count": null,
   "metadata": {},
   "outputs": [],
   "source": [
    "print(allMadrid)"
   ]
  },
  {
   "cell_type": "code",
   "execution_count": 165,
   "metadata": {},
   "outputs": [],
   "source": [
    "#cerco i campi NaN in PM10 e li sostituisco con la media dei valori noti\n",
    "#trovo il valor medio\n",
    "for col in allMadrid.columns:\n",
    "    if allMadrid[col].dtype != object:\n",
    "        allMadrid[col]=allMadrid[col].fillna(allMadrid[col].mean())\n",
    "\n",
    "allMadrid = allMadrid.astype(int)\n",
    "#print(allMadrid['PM10'])"
   ]
  },
  {
   "cell_type": "code",
   "execution_count": null,
   "metadata": {},
   "outputs": [],
   "source": [
    "allMadrid.head()"
   ]
  },
  {
   "cell_type": "code",
   "execution_count": 166,
   "metadata": {},
   "outputs": [
    {
     "name": "stdout",
     "output_type": "stream",
     "text": [
      "[1 1 0 ... 1 1 1]\n"
     ]
    }
   ],
   "source": [
    "condition_list = [(Livello <= 20), (Livello > 20)]\n",
    "\n",
    "choicelist = [0,1] \n",
    "\n",
    "Livello = np.select(condition_list, choicelist, default='Non Specificato')\n",
    "\n",
    "Livello = Livello.astype(int)\n",
    "\n",
    "print(Livello)"
   ]
  },
  {
   "cell_type": "code",
   "execution_count": 167,
   "metadata": {},
   "outputs": [
    {
     "data": {
      "text/html": [
       "<div>\n",
       "<style scoped>\n",
       "    .dataframe tbody tr th:only-of-type {\n",
       "        vertical-align: middle;\n",
       "    }\n",
       "\n",
       "    .dataframe tbody tr th {\n",
       "        vertical-align: top;\n",
       "    }\n",
       "\n",
       "    .dataframe thead th {\n",
       "        text-align: right;\n",
       "    }\n",
       "</style>\n",
       "<table border=\"1\" class=\"dataframe\">\n",
       "  <thead>\n",
       "    <tr style=\"text-align: right;\">\n",
       "      <th></th>\n",
       "      <th>NO</th>\n",
       "      <th>NO_2</th>\n",
       "      <th>PM25</th>\n",
       "      <th>SO_2</th>\n",
       "    </tr>\n",
       "  </thead>\n",
       "  <tbody>\n",
       "    <tr>\n",
       "      <th>0</th>\n",
       "      <td>11</td>\n",
       "      <td>67</td>\n",
       "      <td>25</td>\n",
       "      <td>19</td>\n",
       "    </tr>\n",
       "    <tr>\n",
       "      <th>1</th>\n",
       "      <td>11</td>\n",
       "      <td>66</td>\n",
       "      <td>15</td>\n",
       "      <td>14</td>\n",
       "    </tr>\n",
       "    <tr>\n",
       "      <th>2</th>\n",
       "      <td>11</td>\n",
       "      <td>50</td>\n",
       "      <td>5</td>\n",
       "      <td>10</td>\n",
       "    </tr>\n",
       "    <tr>\n",
       "      <th>3</th>\n",
       "      <td>11</td>\n",
       "      <td>58</td>\n",
       "      <td>13</td>\n",
       "      <td>12</td>\n",
       "    </tr>\n",
       "    <tr>\n",
       "      <th>4</th>\n",
       "      <td>11</td>\n",
       "      <td>47</td>\n",
       "      <td>12</td>\n",
       "      <td>11</td>\n",
       "    </tr>\n",
       "  </tbody>\n",
       "</table>\n",
       "</div>"
      ],
      "text/plain": [
       "   NO  NO_2  PM25  SO_2\n",
       "0  11    67    25    19\n",
       "1  11    66    15    14\n",
       "2  11    50     5    10\n",
       "3  11    58    13    12\n",
       "4  11    47    12    11"
      ]
     },
     "execution_count": 167,
     "metadata": {},
     "output_type": "execute_result"
    }
   ],
   "source": [
    "allMadrid = pd.get_dummies(allMadrid)\n",
    "allMadrid.head()"
   ]
  },
  {
   "cell_type": "code",
   "execution_count": 168,
   "metadata": {},
   "outputs": [
    {
     "data": {
      "text/html": [
       "<div>\n",
       "<style scoped>\n",
       "    .dataframe tbody tr th:only-of-type {\n",
       "        vertical-align: middle;\n",
       "    }\n",
       "\n",
       "    .dataframe tbody tr th {\n",
       "        vertical-align: top;\n",
       "    }\n",
       "\n",
       "    .dataframe thead th {\n",
       "        text-align: right;\n",
       "    }\n",
       "</style>\n",
       "<table border=\"1\" class=\"dataframe\">\n",
       "  <thead>\n",
       "    <tr style=\"text-align: right;\">\n",
       "      <th></th>\n",
       "      <th>NO</th>\n",
       "      <th>NO_2</th>\n",
       "      <th>PM25</th>\n",
       "      <th>SO_2</th>\n",
       "    </tr>\n",
       "  </thead>\n",
       "  <tbody>\n",
       "    <tr>\n",
       "      <th>0</th>\n",
       "      <td>0.041667</td>\n",
       "      <td>0.526316</td>\n",
       "      <td>0.403509</td>\n",
       "      <td>0.642857</td>\n",
       "    </tr>\n",
       "    <tr>\n",
       "      <th>1</th>\n",
       "      <td>0.041667</td>\n",
       "      <td>0.517544</td>\n",
       "      <td>0.228070</td>\n",
       "      <td>0.464286</td>\n",
       "    </tr>\n",
       "    <tr>\n",
       "      <th>2</th>\n",
       "      <td>0.041667</td>\n",
       "      <td>0.377193</td>\n",
       "      <td>0.052632</td>\n",
       "      <td>0.321429</td>\n",
       "    </tr>\n",
       "    <tr>\n",
       "      <th>3</th>\n",
       "      <td>0.041667</td>\n",
       "      <td>0.447368</td>\n",
       "      <td>0.192982</td>\n",
       "      <td>0.392857</td>\n",
       "    </tr>\n",
       "    <tr>\n",
       "      <th>4</th>\n",
       "      <td>0.041667</td>\n",
       "      <td>0.350877</td>\n",
       "      <td>0.175439</td>\n",
       "      <td>0.357143</td>\n",
       "    </tr>\n",
       "  </tbody>\n",
       "</table>\n",
       "</div>"
      ],
      "text/plain": [
       "         NO      NO_2      PM25      SO_2\n",
       "0  0.041667  0.526316  0.403509  0.642857\n",
       "1  0.041667  0.517544  0.228070  0.464286\n",
       "2  0.041667  0.377193  0.052632  0.321429\n",
       "3  0.041667  0.447368  0.192982  0.392857\n",
       "4  0.041667  0.350877  0.175439  0.357143"
      ]
     },
     "execution_count": 168,
     "metadata": {},
     "output_type": "execute_result"
    }
   ],
   "source": [
    "scaler = MinMaxScaler()\n",
    "scaled_d = scaler.fit_transform(allMadrid[[\"NO\", \"NO_2\", \"PM25\", \"SO_2\"]])\n",
    "allMadrid[[\"NO\", \"NO_2\", \"PM25\", \"SO_2\"]] = scaled_d\n",
    "allMadrid.head()"
   ]
  },
  {
   "cell_type": "markdown",
   "metadata": {},
   "source": [
    "CLASSIFICAZIONE"
   ]
  },
  {
   "cell_type": "code",
   "execution_count": 169,
   "metadata": {},
   "outputs": [
    {
     "data": {
      "text/html": [
       "<div>\n",
       "<style scoped>\n",
       "    .dataframe tbody tr th:only-of-type {\n",
       "        vertical-align: middle;\n",
       "    }\n",
       "\n",
       "    .dataframe tbody tr th {\n",
       "        vertical-align: top;\n",
       "    }\n",
       "\n",
       "    .dataframe thead th {\n",
       "        text-align: right;\n",
       "    }\n",
       "</style>\n",
       "<table border=\"1\" class=\"dataframe\">\n",
       "  <thead>\n",
       "    <tr style=\"text-align: right;\">\n",
       "      <th></th>\n",
       "      <th>NO</th>\n",
       "      <th>NO_2</th>\n",
       "      <th>PM25</th>\n",
       "      <th>SO_2</th>\n",
       "    </tr>\n",
       "  </thead>\n",
       "  <tbody>\n",
       "    <tr>\n",
       "      <th>0</th>\n",
       "      <td>0.041667</td>\n",
       "      <td>0.526316</td>\n",
       "      <td>0.403509</td>\n",
       "      <td>0.642857</td>\n",
       "    </tr>\n",
       "    <tr>\n",
       "      <th>1</th>\n",
       "      <td>0.041667</td>\n",
       "      <td>0.517544</td>\n",
       "      <td>0.228070</td>\n",
       "      <td>0.464286</td>\n",
       "    </tr>\n",
       "    <tr>\n",
       "      <th>2</th>\n",
       "      <td>0.041667</td>\n",
       "      <td>0.377193</td>\n",
       "      <td>0.052632</td>\n",
       "      <td>0.321429</td>\n",
       "    </tr>\n",
       "    <tr>\n",
       "      <th>3</th>\n",
       "      <td>0.041667</td>\n",
       "      <td>0.447368</td>\n",
       "      <td>0.192982</td>\n",
       "      <td>0.392857</td>\n",
       "    </tr>\n",
       "    <tr>\n",
       "      <th>4</th>\n",
       "      <td>0.041667</td>\n",
       "      <td>0.350877</td>\n",
       "      <td>0.175439</td>\n",
       "      <td>0.357143</td>\n",
       "    </tr>\n",
       "  </tbody>\n",
       "</table>\n",
       "</div>"
      ],
      "text/plain": [
       "         NO      NO_2      PM25      SO_2\n",
       "0  0.041667  0.526316  0.403509  0.642857\n",
       "1  0.041667  0.517544  0.228070  0.464286\n",
       "2  0.041667  0.377193  0.052632  0.321429\n",
       "3  0.041667  0.447368  0.192982  0.392857\n",
       "4  0.041667  0.350877  0.175439  0.357143"
      ]
     },
     "execution_count": 169,
     "metadata": {},
     "output_type": "execute_result"
    }
   ],
   "source": [
    "allMadrid.head()"
   ]
  },
  {
   "cell_type": "markdown",
   "metadata": {},
   "source": [
    "BILANCIAMENTO DEL DATASET"
   ]
  },
  {
   "cell_type": "code",
   "execution_count": 170,
   "metadata": {},
   "outputs": [
    {
     "name": "stdout",
     "output_type": "stream",
     "text": [
      "Tollerabili:  1673 Non tollerabili:  1615\n"
     ]
    }
   ],
   "source": [
    "#separazione da tollerabile a non_tollerabile\n",
    "allMadrid['Livello'] = pd.Series(Livello)\n",
    "non_tollerabile = allMadrid[allMadrid.Livello == 1]\n",
    "tollerabile = allMadrid[allMadrid.Livello == 0]\n",
    "\n",
    "print(\"Tollerabili: \", len(tollerabile), \"Non tollerabili: \", len(non_tollerabile))"
   ]
  },
  {
   "cell_type": "code",
   "execution_count": 171,
   "metadata": {},
   "outputs": [
    {
     "data": {
      "text/plain": [
       "(3230, 5)"
      ]
     },
     "execution_count": 171,
     "metadata": {},
     "output_type": "execute_result"
    }
   ],
   "source": [
    "#bilanciamento del dataset\n",
    "balanced_d = pd.concat([non_tollerabile, tollerabile.sample(len(non_tollerabile))])\n",
    "#balanced_d = pd.concat([tollerabile, non_tollerabile.sample(len(tollerabile))])\n",
    "x = balanced_d.iloc[:,:-1]\n",
    "y = balanced_d.iloc[:,-1:]\n",
    "balanced_d.shape"
   ]
  },
  {
   "cell_type": "code",
   "execution_count": 172,
   "metadata": {},
   "outputs": [
    {
     "name": "stdout",
     "output_type": "stream",
     "text": [
      "Index(['NO', 'NO_2', 'PM25', 'SO_2', 'Livello'], dtype='object')\n"
     ]
    }
   ],
   "source": [
    "allMadrid.head()\n",
    "print(allMadrid.columns)"
   ]
  },
  {
   "cell_type": "markdown",
   "metadata": {},
   "source": [
    "ANALISI DELLE CORRELAZIONI"
   ]
  },
  {
   "cell_type": "code",
   "execution_count": 173,
   "metadata": {},
   "outputs": [
    {
     "data": {
      "text/plain": [
       "<Figure size 2160x1080 with 0 Axes>"
      ]
     },
     "metadata": {},
     "output_type": "display_data"
    },
    {
     "data": {
      "image/png": "[encoded data removed]",
      "text/plain": [
       "<Figure size 2160x1080 with 2 Axes>"
      ]
     },
     "metadata": {},
     "output_type": "display_data"
    }
   ],
   "source": [
    "plt.figure(figsize=(30,15))\n",
    "\n",
    "#x = x.drop(['BEN', 'CO', 'EBE', 'NMHC', 'O_3', 'TCH', 'TOL'], axis=1)\n",
    "\n",
    "plt.figure(figsize=(30,15))\n",
    "ax = sns.heatmap(allMadrid[allMadrid.columns].corr(),cmap=\"Blues\",annot=True,annot_kws={\"size\": 18})"
   ]
  },
  {
   "cell_type": "code",
   "execution_count": 174,
   "metadata": {},
   "outputs": [
    {
     "data": {
      "text/plain": [
       "<Figure size 2160x1080 with 0 Axes>"
      ]
     },
     "metadata": {},
     "output_type": "display_data"
    },
    {
     "data": {
      "image/png": "[encoded data removed]",
      "text/plain": [
       "<Figure size 2160x1080 with 2 Axes>"
      ]
     },
     "metadata": {},
     "output_type": "display_data"
    }
   ],
   "source": [
    "plt.figure(figsize=(30,15))\n",
    "\n",
    "#x = x.drop(['BEN', 'CO', 'EBE', 'NMHC', 'O_3', 'TCH', 'TOL'], axis=1)\n",
    "\n",
    "plt.figure(figsize=(30,15))\n",
    "ax = sns.heatmap(x.corr(),cmap=\"Blues\",annot=True,annot_kws={\"size\": 18})"
   ]
  },
  {
   "cell_type": "code",
   "execution_count": 175,
   "metadata": {},
   "outputs": [
    {
     "name": "stdout",
     "output_type": "stream",
     "text": [
      "<class 'pandas.core.frame.DataFrame'>\n",
      "RangeIndex: 3288 entries, 0 to 3287\n",
      "Data columns (total 5 columns):\n",
      " #   Column   Non-Null Count  Dtype  \n",
      "---  ------   --------------  -----  \n",
      " 0   NO       3288 non-null   float64\n",
      " 1   NO_2     3288 non-null   float64\n",
      " 2   PM25     3288 non-null   float64\n",
      " 3   SO_2     3288 non-null   float64\n",
      " 4   Livello  3288 non-null   int32  \n",
      "dtypes: float64(4), int32(1)\n",
      "memory usage: 115.7 KB\n"
     ]
    },
    {
     "data": {
      "text/plain": [
       "NO         3288\n",
       "NO_2       3288\n",
       "PM25       3288\n",
       "SO_2       3288\n",
       "Livello    3288\n",
       "dtype: int64"
      ]
     },
     "execution_count": 175,
     "metadata": {},
     "output_type": "execute_result"
    }
   ],
   "source": [
    "allMadrid.head()\n",
    "allMadrid.info()\n",
    "allMadrid.count()"
   ]
  },
  {
   "cell_type": "markdown",
   "metadata": {},
   "source": [
    "CLASSIFICAZIONE BINARIA"
   ]
  },
  {
   "cell_type": "code",
   "execution_count": 176,
   "metadata": {},
   "outputs": [
    {
     "name": "stdout",
     "output_type": "stream",
     "text": [
      "(2584, 4)\n",
      "(646, 4)\n",
      "(2584, 1)\n",
      "(646, 1)\n"
     ]
    }
   ],
   "source": [
    "# Random state\n",
    "rs = 42\n",
    "\n",
    "# Split the data to check which algorithms learn better (later on we can check )\n",
    "x_train, x_test, y_train, y_test = train_test_split(x, y, test_size=0.2, random_state=rs)\n",
    "y_train = y_train.astype(int)\n",
    "y_test = y_test.astype(int)\n",
    "\n",
    "# look at the shape of the data (many problems can arise from wrong shape)\n",
    "print(x_train.shape)\n",
    "print(x_test.shape)\n",
    "print(y_train.shape)\n",
    "print(y_test.shape)"
   ]
  },
  {
   "cell_type": "markdown",
   "metadata": {},
   "source": [
    "CLASSIFICATORI"
   ]
  },
  {
   "cell_type": "code",
   "execution_count": 177,
   "metadata": {},
   "outputs": [],
   "source": [
    "# List of classifiers:\n",
    "classifiers = [\n",
    "    LogisticRegression(random_state = rs),\n",
    "    DecisionTreeClassifier(random_state=rs),\n",
    "    RandomForestClassifier(n_estimators = 10, random_state=rs),\n",
    "    GradientBoostingClassifier(random_state= rs),\n",
    "    AdaBoostClassifier(n_estimators=10, random_state= rs),\n",
    "    LinearDiscriminantAnalysis(),\n",
    "    SVC(probability=True)\n",
    "]\n",
    "\n",
    "# List of results that will occure:\n",
    "clf_name = [] # names of the classifiers\n",
    "model_results = pd.DataFrame.copy(y_test) #resulting of prediction from the models\n",
    "\n",
    "kfold = StratifiedKFold(n_splits=5) #cross-validation\n",
    "cv_results = [] # scores from cross validation\n",
    "cv_acc = [] # mean accuracy from cross validation, need to maximize\n",
    "cv_std = [] # standard deviation from cross validation, need to minimise\n",
    "\n",
    "cnfm = [] #confusion matrix\n",
    "clr = [] #classification report\n",
    "roc_auc = [] #roc curve:\n",
    "roc_tpr = []\n",
    "roc_fpr = []"
   ]
  },
  {
   "cell_type": "markdown",
   "metadata": {},
   "source": [
    "ACCURATEZZA"
   ]
  },
  {
   "cell_type": "code",
   "execution_count": 178,
   "metadata": {},
   "outputs": [
    {
     "name": "stdout",
     "output_type": "stream",
     "text": [
      "Accuracy: 0.88 \t ---> LogisticRegression \n",
      "Accuracy: 0.87 \t ---> DecisionTreeClassifier \n",
      "Accuracy: 0.9 \t ---> RandomForestClassifier \n",
      "Accuracy: 0.92 \t ---> GradientBoostingClassifier \n",
      "Accuracy: 0.89 \t ---> AdaBoostClassifier \n",
      "Accuracy: 0.87 \t ---> LinearDiscriminantAnalysis \n",
      "Accuracy: 0.9 \t ---> SVC \n"
     ]
    }
   ],
   "source": [
    "# Training the algorithms and results\n",
    "for clf in classifiers:\n",
    "    name = clf.__class__.__name__\n",
    "    clf_name.append(name)\n",
    "    \n",
    "    #fitting and predictions\n",
    "    model = clf.fit(x_train, y_train.values.ravel())\n",
    "    y_pred = model.predict(x_test)\n",
    "    model_results[name] = y_pred\n",
    "    \n",
    "    #accuracy and log loss\n",
    "    cv_results.append(cross_val_score(clf, x_train, y_train.values.ravel(), scoring = \"accuracy\",cv = kfold))\n",
    "    acc = round(accuracy_score(y_test.values.ravel(), y_pred), 2) #need to maximize\n",
    "    train_pred = clf.predict_proba(x_test)\n",
    "    print(f'Accuracy: {acc} \\t ---> {name} ')\n",
    "    \n",
    "    #confusion matrix, clasification report, roc curve\n",
    "    cnfm.append(confusion_matrix(y_test.values.ravel(), y_pred))\n",
    "    clr.append(classification_report(y_test.values.ravel(), y_pred))\n",
    "    fpr, tpr, thresholds = roc_curve(y_pred, y_test.values.ravel(), pos_label=1)\n",
    "    roc_auc.append(auc(fpr, tpr))\n",
    "    roc_tpr.append(tpr)\n",
    "    roc_fpr.append(fpr)\n",
    "    \n",
    "\n",
    "for i in cv_results:\n",
    "    cv_acc.append(i.mean())\n",
    "    cv_std.append(i.std())"
   ]
  },
  {
   "cell_type": "code",
   "execution_count": null,
   "metadata": {},
   "outputs": [],
   "source": [
    "# Cross validation accuracy results graph\n",
    "cv_res = pd.DataFrame({\"CrossValMeans\":cv_acc, \"CrossValerrors\": cv_std,\"Algorithm\":clf_name})\n",
    "\n",
    "plt.figure(figsize=(12,6))\n",
    "sns.barplot(x=\"CrossValMeans\",y=\"Algorithm\",data = cv_res, palette=\"Set2\",orient = \"h\",**{'xerr':cv_std})\n",
    "plt.xlabel(\"Mean Accuracy\")\n",
    "plt.title(\"Cross validation scores\")"
   ]
  },
  {
   "cell_type": "markdown",
   "metadata": {},
   "source": [
    "MATRICE DI CONFUSIONE"
   ]
  },
  {
   "cell_type": "code",
   "execution_count": null,
   "metadata": {},
   "outputs": [],
   "source": [
    "# Confusion matrixes (not-normalized confusion matrix)\n",
    "plt.figure(figsize=(20,15))\n",
    "sns.set(font_scale=1.4)\n",
    "for i in range(len(classifiers)):\n",
    "    plt.subplot(3,3,i+1) #adjust this acourding to the number of algorithms\n",
    "    sns.heatmap(cnfm[i], annot=True, fmt=\"d\",cmap=\"Reds\")\n",
    "    plt.subplots_adjust(hspace = 0.5)\n",
    "    plt.xlabel('Predicted')\n",
    "    plt.ylabel('Actual')\n",
    "    plt.title(clf_name[i])"
   ]
  },
  {
   "cell_type": "code",
   "execution_count": null,
   "metadata": {},
   "outputs": [],
   "source": [
    "#Classification reports\n",
    "for i in range(len(classifiers)):\n",
    "    print (f\"{clf_name[i]} Classification Report:\" )\n",
    "    print (clr[i])"
   ]
  },
  {
   "cell_type": "code",
   "execution_count": null,
   "metadata": {},
   "outputs": [],
   "source": [
    "# ROC Curve: fornisce un altro metodo per valutare il modello\n",
    "plt.figure(figsize=(15,8))\n",
    "for i in range(len(classifiers)):\n",
    "    cm = ['red', 'blue', 'orange', 'green', 'pink', 'yellow', 'lightgreen', 'black', 'purple', 'lightblue'] #add more colours for more algorithms\n",
    "    plt.plot(roc_fpr[i], roc_tpr[i], c=cm[i], lw=1, label=clf_name[i].replace(\"Classifier\", \"\") + \" (AUC = \" + str(round(roc_auc[i],2)) + \")\")\n",
    "    plt.plot([0, 1], [0, 1], color='navy', lw=1, linestyle='--')\n",
    "    plt.xlabel('False Positive Rate')\n",
    "    plt.ylabel('True Positive Rate')\n",
    "    plt.title('ROC curve: Receiver Operating Characteristic')\n",
    "    plt.legend(loc=\"lower right\")"
   ]
  },
  {
   "cell_type": "code",
   "execution_count": null,
   "metadata": {},
   "outputs": [],
   "source": [
    "# Search grid for optimal parameters\n",
    "\n",
    "DT_param = {\"max_depth\": [2,3,8,10],\n",
    "            \"max_features\": [0.3, 0.7, 1],\n",
    "            \"min_samples_split\": [2, 3, 10],\n",
    "            \"min_samples_leaf\": [1, 3, 10],\n",
    "            \"criterion\": [\"gini\"]}\n",
    "\n",
    "RF_param = {\"max_depth\": [None],\n",
    "            \"max_features\": [0.3, 0.7, 1],\n",
    "            \"min_samples_split\": [2, 3, 10],\n",
    "            \"min_samples_leaf\": [1, 3, 10],\n",
    "            \"bootstrap\": [False],\n",
    "            \"n_estimators\" :[100,300],\n",
    "            \"criterion\": [\"gini\"]}\n",
    "\n",
    "#using 4 n_jobs for faster processing\n",
    "DTgs = GridSearchCV(DecisionTreeClassifier(), param_grid=DT_param, cv=kfold, n_jobs=4, scoring=\"accuracy\", verbose = 1)\n",
    "RFgs = GridSearchCV(RandomForestClassifier(), param_grid=RF_param, cv=kfold, n_jobs=4, scoring=\"accuracy\", verbose = 1)\n",
    "\n",
    "models = [DTgs, RFgs]\n",
    "\n",
    "gs_model = []\n",
    "score = []\n",
    "\n",
    "for model in models:\n",
    "    model.fit(x_train, y_train.values.ravel())\n",
    "    gs_model.append(model.best_estimator_)\n",
    "    score.append(model.best_score_)"
   ]
  },
  {
   "cell_type": "code",
   "execution_count": null,
   "metadata": {},
   "outputs": [],
   "source": [
    "# scores without gridsearch\n",
    "print(\"score without GridSearchCV: \", round(cv_acc[1], 3), round(cv_acc[3], 3))\n",
    "# scores with gridsearch\n",
    "print(\"score with GridSearchCV: \", round(score[0], 3), round(score[1], 3))"
   ]
  },
  {
   "cell_type": "code",
   "execution_count": null,
   "metadata": {},
   "outputs": [],
   "source": [
    "# Check for correlation between models: Make a correlation graph\n",
    "plt.figure(figsize=(15,8))\n",
    "print(model_results.columns)\n",
    "sns.heatmap(model_results.drop(\"Livello\", axis=1).corr(),annot=True)\n",
    "plt.title(\"Correlation between models\")"
   ]
  },
  {
   "cell_type": "markdown",
   "metadata": {},
   "source": [
    "MODEL ENSEMBLE"
   ]
  },
  {
   "cell_type": "code",
   "execution_count": null,
   "metadata": {},
   "outputs": [],
   "source": [
    "# Do model ensembling\n",
    "best_model = VotingClassifier(estimators=[('dt', gs_model[0]), ('rf', gs_model[1])], \n",
    "                              voting='soft', n_jobs=4)\n",
    "best_model.fit(x_train,y_train.values.ravel())\n",
    "print(accuracy_score(y_test,best_model.predict(x_test)))"
   ]
  },
  {
   "cell_type": "markdown",
   "metadata": {},
   "source": [
    "TESTING DEL MODELLO"
   ]
  },
  {
   "cell_type": "code",
   "execution_count": null,
   "metadata": {},
   "outputs": [],
   "source": [
    "allMadrid_test = pd.read_csv(path+\"out.csv\")\n",
    "allMadrid_test = allMadrid_test.drop(['BEN', 'CO', 'EBE', 'NMHC', 'O_3', 'TCH', 'TOL', 'station'], axis=1)\n",
    "allMadrid_test['date'] = pd.to_datetime(allMadrid_test['date'], errors='coerce')\n",
    "allMadrid_test = allMadrid_test[(allMadrid_test['date'].dt.year > 2016)]\n",
    "\n",
    "# Faccio un cambio di formato sul campo data passando da stringa a data\n",
    "allMadrid_test['date'] = pd.to_datetime(allMadrid_test['date'], format='%Y/%m/%d %H:%M:%S')\n",
    "#prendo la data solo in formato AAAA-MM-GG\n",
    "allMadrid_test['date'] = pd.to_datetime(allMadrid_test['date'].dt.strftime('%Y-%m-%d'))\n",
    "\n",
    "#raggruppo per station\n",
    "allMadrid_test = allMadrid_test.groupby(['date']).mean()\n",
    "allMadrid_test = allMadrid_test.reset_index(drop=True)\n",
    "\n",
    "allMadrid_test = allMadrid_test.dropna(subset=['PM10'])\n",
    "Livello_test = allMadrid_test['PM10']\n",
    "#allMadrid = allMadrid.dropna()\n",
    "allMadrid_test = allMadrid_test.drop(['PM10'], axis=1)\n",
    "\n",
    "for col in allMadrid_test.columns:\n",
    "    if allMadrid_test[col].dtype != object:\n",
    "        allMadrid_test[col]=allMadrid_test[col].fillna(allMadrid_test[col].mean())\n",
    "\n",
    "allMadrid_test = allMadrid_test.astype(int)\n",
    "\n",
    "condition_list_test = [(Livello_test <= 20), (Livello_test > 20)]\n",
    "choicelist_test = [0,1] \n",
    "Livello_test = np.select(condition_list_test, choicelist_test, default='Non Specificato')\n",
    "Livello_test = Livello_test.astype(int)\n",
    "\n",
    "allMadrid_test = pd.get_dummies(allMadrid_test)\n",
    "\n",
    "scaler_test = MinMaxScaler()\n",
    "scaled_d_test = scaler_test.fit_transform(allMadrid_test[[\"NO\", \"NO_2\", \"PM25\", \"SO_2\"]])\n",
    "allMadrid_test[[\"NO\", \"NO_2\", \"PM25\", \"SO_2\"]] = scaled_d_test"
   ]
  },
  {
   "cell_type": "code",
   "execution_count": null,
   "metadata": {},
   "outputs": [],
   "source": [
    "print(allMadrid_test)"
   ]
  },
  {
   "cell_type": "code",
   "execution_count": null,
   "metadata": {},
   "outputs": [],
   "source": [
    "livello_pred = pd.Series(best_model.predict(allMadrid_test), name='Livello_test')"
   ]
  },
  {
   "cell_type": "code",
   "execution_count": null,
   "metadata": {},
   "outputs": [],
   "source": [
    "livello_pred.value_counts()"
   ]
  },
  {
   "cell_type": "markdown",
   "metadata": {},
   "source": [
    "YELLOWBRIK"
   ]
  },
  {
   "cell_type": "code",
   "execution_count": null,
   "metadata": {},
   "outputs": [],
   "source": [
    "from yellowbrick.classifier import PrecisionRecallCurve\n",
    "from yellowbrick.classifier import ROCAUC\n",
    "from yellowbrick.model_selection import LearningCurve"
   ]
  },
  {
   "cell_type": "code",
   "execution_count": null,
   "metadata": {},
   "outputs": [],
   "source": [
    "# Instantiate the visualizer with the classification model\n",
    "plt.figure(figsize=(12,8))\n",
    "visualizer = ROCAUC(best_model, classes=[\"non_tollerabile\", \"tollerabile\"], micro=False, macro=False, binary=True)\n",
    "visualizer.fit(x_train, y_train.values.ravel())        # Fit the training data to the visualizer\n",
    "visualizer.score(x_test, y_test.values.ravel())        # Evaluate the model on the test data\n",
    "visualizer.show()                       # Finalize and show the figure"
   ]
  },
  {
   "cell_type": "code",
   "execution_count": null,
   "metadata": {},
   "outputs": [],
   "source": [
    "plt.figure(figsize=(12,8))\n",
    "# Create the visualizer, fit, score, and show it\n",
    "viz = PrecisionRecallCurve(best_model)\n",
    "viz.fit(x_train, y_train)\n",
    "viz.score(x_test, y_test)\n",
    "viz.show()"
   ]
  },
  {
   "cell_type": "code",
   "execution_count": null,
   "metadata": {},
   "outputs": [],
   "source": [
    "# Create the learning curve visualizer\n",
    "cv = StratifiedKFold(n_splits=5)\n",
    "sizes = np.linspace(0.3, 1.0, 10)\n",
    "\n",
    "plt.figure(figsize=(12,8))\n",
    "visualizer = LearningCurve(\n",
    "    best_model, cv=cv, scoring='f1_weighted', train_sizes=sizes, n_jobs=4\n",
    ")\n",
    "\n",
    "visualizer.fit(x, y)        # Fit the data to the visualizer\n",
    "visualizer.show()           # Finalize and render the figure"
   ]
  }
 ],
 "metadata": {
  "kernelspec": {
   "display_name": "Python 3.10.2 64-bit",
   "language": "python",
   "name": "python3"
  },
  "language_info": {
   "codemirror_mode": {
    "name": "ipython",
    "version": 3
   },
   "file_extension": ".py",
   "mimetype": "text/x-python",
   "name": "python",
   "nbconvert_exporter": "python",
   "pygments_lexer": "ipython3",
   "version": "3.10.2"
  },
  "orig_nbformat": 4,
  "vscode": {
   "interpreter": {
    "hash": "369f2c481f4da34e4445cda3fffd2e751bd1c4d706f27375911949ba6bb62e1c"
   }
  }
 },
 "nbformat": 4,
 "nbformat_minor": 2
}
