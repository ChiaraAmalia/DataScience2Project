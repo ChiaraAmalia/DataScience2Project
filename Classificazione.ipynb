{
 "cells": [
  {
   "cell_type": "code",
   "execution_count": 3,
   "metadata": {},
   "outputs": [],
   "source": [
    "# importare tutte le librerie necessarie\n",
    "import pandas as pd\n",
    "import numpy as np\n",
    "import datetime as dt\n",
    "from tabulate import tabulate\n",
    "import matplotlib.pyplot as plt\n",
    "import seaborn as sns\n",
    "\n",
    "#Processing libraries\n",
    "from sklearn.preprocessing import StandardScaler,MinMaxScaler\n",
    "\n",
    "# Model libraries\n",
    "from sklearn.linear_model import LogisticRegression\n",
    "from sklearn.neighbors import KNeighborsClassifier\n",
    "from sklearn.svm import SVC, LinearSVC, NuSVC\n",
    "from sklearn.tree import DecisionTreeClassifier\n",
    "from sklearn.ensemble import RandomForestClassifier, AdaBoostClassifier, GradientBoostingClassifier, ExtraTreesClassifier, VotingClassifier\n",
    "from sklearn.neural_network import MLPClassifier\n",
    "from sklearn.discriminant_analysis import LinearDiscriminantAnalysis, QuadraticDiscriminantAnalysis\n",
    "from sklearn.naive_bayes import GaussianNB\n",
    "\n",
    "# Testing libraries\n",
    "from sklearn.model_selection import train_test_split, cross_val_score, StratifiedKFold, GridSearchCV, learning_curve\n",
    "from sklearn.metrics import accuracy_score, log_loss, confusion_matrix, classification_report, roc_curve, auc\n",
    "\n",
    "path = r\".\\\\DataSet\\\\\""
   ]
  },
  {
   "cell_type": "code",
   "execution_count": 4,
   "metadata": {},
   "outputs": [
    {
     "data": {
      "text/html": [
       "<div>\n",
       "<style scoped>\n",
       "    .dataframe tbody tr th:only-of-type {\n",
       "        vertical-align: middle;\n",
       "    }\n",
       "\n",
       "    .dataframe tbody tr th {\n",
       "        vertical-align: top;\n",
       "    }\n",
       "\n",
       "    .dataframe thead th {\n",
       "        text-align: right;\n",
       "    }\n",
       "</style>\n",
       "<table border=\"1\" class=\"dataframe\">\n",
       "  <thead>\n",
       "    <tr style=\"text-align: right;\">\n",
       "      <th></th>\n",
       "      <th>date</th>\n",
       "      <th>BEN</th>\n",
       "      <th>CO</th>\n",
       "      <th>EBE</th>\n",
       "      <th>NMHC</th>\n",
       "      <th>NO</th>\n",
       "      <th>NO_2</th>\n",
       "      <th>O_3</th>\n",
       "      <th>PM10</th>\n",
       "      <th>PM25</th>\n",
       "      <th>SO_2</th>\n",
       "      <th>TCH</th>\n",
       "      <th>TOL</th>\n",
       "      <th>station</th>\n",
       "    </tr>\n",
       "  </thead>\n",
       "  <tbody>\n",
       "    <tr>\n",
       "      <th>0</th>\n",
       "      <td>2008-06-01 01:00:00</td>\n",
       "      <td>NaN</td>\n",
       "      <td>0.47</td>\n",
       "      <td>NaN</td>\n",
       "      <td>NaN</td>\n",
       "      <td>11.820078</td>\n",
       "      <td>83.089996</td>\n",
       "      <td>16.990000</td>\n",
       "      <td>16.889999</td>\n",
       "      <td>10.4</td>\n",
       "      <td>8.98</td>\n",
       "      <td>NaN</td>\n",
       "      <td>NaN</td>\n",
       "      <td>28079001</td>\n",
       "    </tr>\n",
       "    <tr>\n",
       "      <th>1</th>\n",
       "      <td>2008-06-01 01:00:00</td>\n",
       "      <td>NaN</td>\n",
       "      <td>0.59</td>\n",
       "      <td>NaN</td>\n",
       "      <td>NaN</td>\n",
       "      <td>11.820078</td>\n",
       "      <td>94.820000</td>\n",
       "      <td>17.469999</td>\n",
       "      <td>19.040001</td>\n",
       "      <td>NaN</td>\n",
       "      <td>5.85</td>\n",
       "      <td>NaN</td>\n",
       "      <td>NaN</td>\n",
       "      <td>28079003</td>\n",
       "    </tr>\n",
       "    <tr>\n",
       "      <th>2</th>\n",
       "      <td>2008-06-01 01:00:00</td>\n",
       "      <td>NaN</td>\n",
       "      <td>0.55</td>\n",
       "      <td>NaN</td>\n",
       "      <td>NaN</td>\n",
       "      <td>11.820078</td>\n",
       "      <td>75.919998</td>\n",
       "      <td>13.470000</td>\n",
       "      <td>20.270000</td>\n",
       "      <td>NaN</td>\n",
       "      <td>6.95</td>\n",
       "      <td>NaN</td>\n",
       "      <td>NaN</td>\n",
       "      <td>28079004</td>\n",
       "    </tr>\n",
       "    <tr>\n",
       "      <th>3</th>\n",
       "      <td>2008-06-01 01:00:00</td>\n",
       "      <td>NaN</td>\n",
       "      <td>0.36</td>\n",
       "      <td>NaN</td>\n",
       "      <td>NaN</td>\n",
       "      <td>11.820078</td>\n",
       "      <td>61.029999</td>\n",
       "      <td>23.110001</td>\n",
       "      <td>10.850000</td>\n",
       "      <td>NaN</td>\n",
       "      <td>5.96</td>\n",
       "      <td>NaN</td>\n",
       "      <td>NaN</td>\n",
       "      <td>28079039</td>\n",
       "    </tr>\n",
       "    <tr>\n",
       "      <th>4</th>\n",
       "      <td>2008-06-01 01:00:00</td>\n",
       "      <td>1.68</td>\n",
       "      <td>0.80</td>\n",
       "      <td>1.7</td>\n",
       "      <td>0.3</td>\n",
       "      <td>11.820078</td>\n",
       "      <td>105.199997</td>\n",
       "      <td>12.120000</td>\n",
       "      <td>37.160000</td>\n",
       "      <td>21.9</td>\n",
       "      <td>10.92</td>\n",
       "      <td>1.53</td>\n",
       "      <td>6.67</td>\n",
       "      <td>28079006</td>\n",
       "    </tr>\n",
       "  </tbody>\n",
       "</table>\n",
       "</div>"
      ],
      "text/plain": [
       "                  date   BEN    CO  EBE  NMHC         NO        NO_2  \\\n",
       "0  2008-06-01 01:00:00   NaN  0.47  NaN   NaN  11.820078   83.089996   \n",
       "1  2008-06-01 01:00:00   NaN  0.59  NaN   NaN  11.820078   94.820000   \n",
       "2  2008-06-01 01:00:00   NaN  0.55  NaN   NaN  11.820078   75.919998   \n",
       "3  2008-06-01 01:00:00   NaN  0.36  NaN   NaN  11.820078   61.029999   \n",
       "4  2008-06-01 01:00:00  1.68  0.80  1.7   0.3  11.820078  105.199997   \n",
       "\n",
       "         O_3       PM10  PM25   SO_2   TCH   TOL   station  \n",
       "0  16.990000  16.889999  10.4   8.98   NaN   NaN  28079001  \n",
       "1  17.469999  19.040001   NaN   5.85   NaN   NaN  28079003  \n",
       "2  13.470000  20.270000   NaN   6.95   NaN   NaN  28079004  \n",
       "3  23.110001  10.850000   NaN   5.96   NaN   NaN  28079039  \n",
       "4  12.120000  37.160000  21.9  10.92  1.53  6.67  28079006  "
      ]
     },
     "execution_count": 4,
     "metadata": {},
     "output_type": "execute_result"
    }
   ],
   "source": [
    "allMadrid = pd.read_csv(path+\"out.csv\")\n",
    "allMadrid.head()"
   ]
  },
  {
   "cell_type": "code",
   "execution_count": 5,
   "metadata": {},
   "outputs": [
    {
     "name": "stdout",
     "output_type": "stream",
     "text": [
      "0          16.889999\n",
      "1          19.040001\n",
      "2          20.270000\n",
      "3          10.850000\n",
      "4          37.160000\n",
      "             ...    \n",
      "2190883    35.000000\n",
      "2190884    29.000000\n",
      "2190885    22.165019\n",
      "2190886    22.165019\n",
      "2190887    26.000000\n",
      "Name: PM10, Length: 2190888, dtype: float64\n"
     ]
    }
   ],
   "source": [
    "#cerco i campi NaN in PM10 e li sostituisco con la media dei valori noti\n",
    "#trovo il valor medio\n",
    "for col in allMadrid.columns:\n",
    "    if allMadrid[col].dtype != object:\n",
    "        allMadrid[col]=allMadrid[col].fillna(allMadrid[col].mean())\n",
    "\n",
    "print(allMadrid['PM10'])"
   ]
  },
  {
   "cell_type": "code",
   "execution_count": 6,
   "metadata": {},
   "outputs": [
    {
     "name": "stdout",
     "output_type": "stream",
     "text": [
      "0         2008-06-01\n",
      "1         2008-06-01\n",
      "2         2008-06-01\n",
      "3         2008-06-01\n",
      "4         2008-06-01\n",
      "             ...    \n",
      "2190883   2018-02-01\n",
      "2190884   2018-02-01\n",
      "2190885   2018-02-01\n",
      "2190886   2018-02-01\n",
      "2190887   2018-02-01\n",
      "Name: date, Length: 2190888, dtype: datetime64[ns]\n"
     ]
    }
   ],
   "source": [
    "# Faccio un cambio di formato sul campo data passando da stringa a data\n",
    "allMadrid['date'] = pd.to_datetime(allMadrid['date'], format='%Y/%m/%d %H:%M:%S')\n",
    "#prendo la data solo in formato AAAA-MM-GG\n",
    "allMadrid['date'] = pd.to_datetime(allMadrid['date'].dt.strftime('%Y-%m-%d'))\n",
    "print(allMadrid['date'])\n"
   ]
  },
  {
   "cell_type": "code",
   "execution_count": 7,
   "metadata": {},
   "outputs": [
    {
     "name": "stdout",
     "output_type": "stream",
     "text": [
      "                           BEN     CO        EBE      NMHC          NO  \\\n",
      "station  date                                                            \n",
      "28079001 2008-01-01  17.133685  17.57  18.802235  4.489307  271.861790   \n",
      "         2008-01-02  17.878628  14.35  19.619723  4.684494  283.681868   \n",
      "         2008-01-03  17.878628  11.63  19.619723  4.684494  283.681868   \n",
      "         2008-01-04  17.878628  14.22  19.619723  4.684494  283.681868   \n",
      "         2008-01-05  17.878628  10.67  19.619723  4.684494  283.681868   \n",
      "...                        ...    ...        ...       ...         ...   \n",
      "28079099 2010-12-28  41.650000  17.04  35.010000  6.590000  283.681868   \n",
      "         2010-12-29  42.280000  17.77  40.090000  6.070000  283.681868   \n",
      "         2010-12-30  33.290000  14.75  28.540000  5.530000  283.681868   \n",
      "         2010-12-31  23.240000  10.53  17.820000  4.720000  283.681868   \n",
      "         2011-01-01   1.110000   0.48   0.860000  0.230000   11.820078   \n",
      "\n",
      "                            NO_2         O_3         PM10        PM25  \\\n",
      "station  date                                                           \n",
      "28079001 2008-01-01  2243.720001  158.700000  1061.300003  779.859999   \n",
      "         2008-01-02  2072.130005  194.629999   699.550000  524.390003   \n",
      "         2008-01-03  2037.900017  368.220000   414.689998  283.869997   \n",
      "         2008-01-04  1999.250008  317.660000   733.465013  440.922586   \n",
      "         2008-01-05  1564.790009  316.050001   659.420000  457.420000   \n",
      "...                          ...         ...          ...         ...   \n",
      "28079099 2010-12-28  2071.620007  183.420000   857.919994  446.419995   \n",
      "         2010-12-29  1974.570007  232.550000   760.449995  415.059999   \n",
      "         2010-12-30  1646.589993  177.970001   623.019996  369.779996   \n",
      "         2010-12-31  1324.890003  341.170000   356.289999  248.270000   \n",
      "         2011-01-01    53.529999    6.850000    19.450001   14.540000   \n",
      "\n",
      "                           SO_2        TCH         TOL  \n",
      "station  date                                           \n",
      "28079001 2008-01-01  752.960005  32.883313   73.862455  \n",
      "         2008-01-02  542.649999  34.313022   77.073867  \n",
      "         2008-01-03  398.899997  34.313022   77.073867  \n",
      "         2008-01-04  480.059997  34.313022   77.073867  \n",
      "         2008-01-05  410.319997  34.313022   77.073867  \n",
      "...                         ...        ...         ...  \n",
      "28079099 2010-12-28  443.480000  39.270000  143.110000  \n",
      "         2010-12-29  433.219996  37.360000  162.639999  \n",
      "         2010-12-30  320.400002  36.270000  104.120000  \n",
      "         2010-12-31  246.950000  35.430000   54.430000  \n",
      "         2011-01-01   11.710000   1.660000    2.460000  \n",
      "\n",
      "[91374 rows x 12 columns]\n"
     ]
    }
   ],
   "source": [
    "#raggruppo per station\n",
    "allMadrid = allMadrid.groupby(['station','date']).sum()\n",
    "print(allMadrid)"
   ]
  },
  {
   "cell_type": "markdown",
   "metadata": {},
   "source": [
    "CLASSIFICAZIONE"
   ]
  },
  {
   "cell_type": "code",
   "execution_count": 8,
   "metadata": {},
   "outputs": [
    {
     "data": {
      "text/plain": [
       "1    91280\n",
       "0       94\n",
       "Name: Livello, dtype: int64"
      ]
     },
     "execution_count": 8,
     "metadata": {},
     "output_type": "execute_result"
    }
   ],
   "source": [
    "condition_list = [(allMadrid['PM10'] <= 50), (allMadrid['PM10'] > 50)]\n",
    "\n",
    "choicelist = [0,1] \n",
    "\n",
    "allMadrid['Livello'] = np.select(condition_list, choicelist, default='Non Specificato')\n",
    "\n",
    "allMadrid['Livello'].value_counts() "
   ]
  },
  {
   "cell_type": "code",
   "execution_count": 9,
   "metadata": {},
   "outputs": [
    {
     "data": {
      "text/html": [
       "<div>\n",
       "<style scoped>\n",
       "    .dataframe tbody tr th:only-of-type {\n",
       "        vertical-align: middle;\n",
       "    }\n",
       "\n",
       "    .dataframe tbody tr th {\n",
       "        vertical-align: top;\n",
       "    }\n",
       "\n",
       "    .dataframe thead th {\n",
       "        text-align: right;\n",
       "    }\n",
       "</style>\n",
       "<table border=\"1\" class=\"dataframe\">\n",
       "  <thead>\n",
       "    <tr style=\"text-align: right;\">\n",
       "      <th></th>\n",
       "      <th></th>\n",
       "      <th>BEN</th>\n",
       "      <th>CO</th>\n",
       "      <th>EBE</th>\n",
       "      <th>NMHC</th>\n",
       "      <th>NO</th>\n",
       "      <th>NO_2</th>\n",
       "      <th>O_3</th>\n",
       "      <th>PM10</th>\n",
       "      <th>PM25</th>\n",
       "      <th>SO_2</th>\n",
       "      <th>TCH</th>\n",
       "      <th>TOL</th>\n",
       "      <th>Livello</th>\n",
       "    </tr>\n",
       "    <tr>\n",
       "      <th>station</th>\n",
       "      <th>date</th>\n",
       "      <th></th>\n",
       "      <th></th>\n",
       "      <th></th>\n",
       "      <th></th>\n",
       "      <th></th>\n",
       "      <th></th>\n",
       "      <th></th>\n",
       "      <th></th>\n",
       "      <th></th>\n",
       "      <th></th>\n",
       "      <th></th>\n",
       "      <th></th>\n",
       "      <th></th>\n",
       "    </tr>\n",
       "  </thead>\n",
       "  <tbody>\n",
       "    <tr>\n",
       "      <th rowspan=\"5\" valign=\"top\">28079001</th>\n",
       "      <th>2008-01-01</th>\n",
       "      <td>17.133685</td>\n",
       "      <td>17.57</td>\n",
       "      <td>18.802235</td>\n",
       "      <td>4.489307</td>\n",
       "      <td>271.861790</td>\n",
       "      <td>2243.720001</td>\n",
       "      <td>158.700000</td>\n",
       "      <td>1061.300003</td>\n",
       "      <td>779.859999</td>\n",
       "      <td>752.960005</td>\n",
       "      <td>32.883313</td>\n",
       "      <td>73.862455</td>\n",
       "      <td>1</td>\n",
       "    </tr>\n",
       "    <tr>\n",
       "      <th>2008-01-02</th>\n",
       "      <td>17.878628</td>\n",
       "      <td>14.35</td>\n",
       "      <td>19.619723</td>\n",
       "      <td>4.684494</td>\n",
       "      <td>283.681868</td>\n",
       "      <td>2072.130005</td>\n",
       "      <td>194.629999</td>\n",
       "      <td>699.550000</td>\n",
       "      <td>524.390003</td>\n",
       "      <td>542.649999</td>\n",
       "      <td>34.313022</td>\n",
       "      <td>77.073867</td>\n",
       "      <td>1</td>\n",
       "    </tr>\n",
       "    <tr>\n",
       "      <th>2008-01-03</th>\n",
       "      <td>17.878628</td>\n",
       "      <td>11.63</td>\n",
       "      <td>19.619723</td>\n",
       "      <td>4.684494</td>\n",
       "      <td>283.681868</td>\n",
       "      <td>2037.900017</td>\n",
       "      <td>368.220000</td>\n",
       "      <td>414.689998</td>\n",
       "      <td>283.869997</td>\n",
       "      <td>398.899997</td>\n",
       "      <td>34.313022</td>\n",
       "      <td>77.073867</td>\n",
       "      <td>1</td>\n",
       "    </tr>\n",
       "    <tr>\n",
       "      <th>2008-01-04</th>\n",
       "      <td>17.878628</td>\n",
       "      <td>14.22</td>\n",
       "      <td>19.619723</td>\n",
       "      <td>4.684494</td>\n",
       "      <td>283.681868</td>\n",
       "      <td>1999.250008</td>\n",
       "      <td>317.660000</td>\n",
       "      <td>733.465013</td>\n",
       "      <td>440.922586</td>\n",
       "      <td>480.059997</td>\n",
       "      <td>34.313022</td>\n",
       "      <td>77.073867</td>\n",
       "      <td>1</td>\n",
       "    </tr>\n",
       "    <tr>\n",
       "      <th>2008-01-05</th>\n",
       "      <td>17.878628</td>\n",
       "      <td>10.67</td>\n",
       "      <td>19.619723</td>\n",
       "      <td>4.684494</td>\n",
       "      <td>283.681868</td>\n",
       "      <td>1564.790009</td>\n",
       "      <td>316.050001</td>\n",
       "      <td>659.420000</td>\n",
       "      <td>457.420000</td>\n",
       "      <td>410.319997</td>\n",
       "      <td>34.313022</td>\n",
       "      <td>77.073867</td>\n",
       "      <td>1</td>\n",
       "    </tr>\n",
       "  </tbody>\n",
       "</table>\n",
       "</div>"
      ],
      "text/plain": [
       "                           BEN     CO        EBE      NMHC          NO  \\\n",
       "station  date                                                            \n",
       "28079001 2008-01-01  17.133685  17.57  18.802235  4.489307  271.861790   \n",
       "         2008-01-02  17.878628  14.35  19.619723  4.684494  283.681868   \n",
       "         2008-01-03  17.878628  11.63  19.619723  4.684494  283.681868   \n",
       "         2008-01-04  17.878628  14.22  19.619723  4.684494  283.681868   \n",
       "         2008-01-05  17.878628  10.67  19.619723  4.684494  283.681868   \n",
       "\n",
       "                            NO_2         O_3         PM10        PM25  \\\n",
       "station  date                                                           \n",
       "28079001 2008-01-01  2243.720001  158.700000  1061.300003  779.859999   \n",
       "         2008-01-02  2072.130005  194.629999   699.550000  524.390003   \n",
       "         2008-01-03  2037.900017  368.220000   414.689998  283.869997   \n",
       "         2008-01-04  1999.250008  317.660000   733.465013  440.922586   \n",
       "         2008-01-05  1564.790009  316.050001   659.420000  457.420000   \n",
       "\n",
       "                           SO_2        TCH        TOL Livello  \n",
       "station  date                                                  \n",
       "28079001 2008-01-01  752.960005  32.883313  73.862455       1  \n",
       "         2008-01-02  542.649999  34.313022  77.073867       1  \n",
       "         2008-01-03  398.899997  34.313022  77.073867       1  \n",
       "         2008-01-04  480.059997  34.313022  77.073867       1  \n",
       "         2008-01-05  410.319997  34.313022  77.073867       1  "
      ]
     },
     "execution_count": 9,
     "metadata": {},
     "output_type": "execute_result"
    }
   ],
   "source": [
    "allMadrid.head()"
   ]
  },
  {
   "cell_type": "markdown",
   "metadata": {},
   "source": [
    "BILANCIAMENTO DEL DATASET"
   ]
  },
  {
   "cell_type": "code",
   "execution_count": 10,
   "metadata": {},
   "outputs": [
    {
     "name": "stdout",
     "output_type": "stream",
     "text": [
      "Tollerabili:  94 Non tollerabili:  91280\n"
     ]
    }
   ],
   "source": [
    "#separazione da tollerabile a non_tollerabile\n",
    "Livello = allMadrid['Livello']\n",
    "allMadrid['Livello'] = pd.Series(Livello)\n",
    "non_tollerabile = allMadrid[allMadrid.Livello == '1']\n",
    "tollerabile = allMadrid[allMadrid.Livello == '0']\n",
    "\n",
    "print(\"Tollerabili: \", len(tollerabile), \"Non tollerabili: \", len(non_tollerabile))"
   ]
  },
  {
   "cell_type": "code",
   "execution_count": 30,
   "metadata": {},
   "outputs": [
    {
     "data": {
      "text/plain": [
       "(188, 13)"
      ]
     },
     "execution_count": 30,
     "metadata": {},
     "output_type": "execute_result"
    }
   ],
   "source": [
    "#bilanciamento del dataset\n",
    "balanced_d = pd.concat([tollerabile, non_tollerabile.sample(len(tollerabile))])\n",
    "x = balanced_d.iloc[:,:-1]\n",
    "y = balanced_d.iloc[:,-1:]\n",
    "balanced_d.shape"
   ]
  },
  {
   "cell_type": "markdown",
   "metadata": {},
   "source": [
    "ANALISI DELLE CORRELAZIONI"
   ]
  },
  {
   "cell_type": "code",
   "execution_count": 12,
   "metadata": {},
   "outputs": [
    {
     "data": {
      "image/png": "[encoded data removed]",
      "text/plain": [
       "<Figure size 2160x1080 with 2 Axes>"
      ]
     },
     "metadata": {
      "needs_background": "light"
     },
     "output_type": "display_data"
    }
   ],
   "source": [
    "plt.figure(figsize=(30,15))\n",
    "\n",
    "no = allMadrid['NO']\n",
    "no2 = allMadrid['NO_2']\n",
    "so2 = allMadrid['SO_2']\n",
    "pm25 = allMadrid['PM25']\n",
    "pm10 = allMadrid['PM10']\n",
    "\n",
    "result = pd.concat([no,no2,so2,pm25,pm10], axis=1)\n",
    "ax = sns.heatmap(result.corr(),cmap=\"Blues\",annot=True,annot_kws={\"size\": 18})"
   ]
  },
  {
   "cell_type": "markdown",
   "metadata": {},
   "source": [
    "CLASSIFICAZIONE BINARIA"
   ]
  },
  {
   "cell_type": "code",
   "execution_count": 71,
   "metadata": {},
   "outputs": [
    {
     "name": "stdout",
     "output_type": "stream",
     "text": [
      "(150, 12)\n",
      "(38, 12)\n",
      "(150, 1)\n",
      "(38, 1)\n"
     ]
    }
   ],
   "source": [
    "# Random state\n",
    "rs = 59\n",
    "\n",
    "# Split the data to check which algorithms learn better (later on we can check )\n",
    "x_train, x_test, y_train, y_test = train_test_split(x, y, test_size=0.2, random_state=rs)\n",
    "y_train = y_train.astype(int)\n",
    "y_test = y_test.astype(int)\n",
    "\n",
    "# look at the shape of the data (many problems can arise from wrong shape)\n",
    "print(x_train.shape)\n",
    "print(x_test.shape)\n",
    "print(y_train.shape)\n",
    "print(y_test.shape)"
   ]
  },
  {
   "cell_type": "markdown",
   "metadata": {},
   "source": [
    "CLASSIFICATORI"
   ]
  },
  {
   "cell_type": "code",
   "execution_count": 72,
   "metadata": {},
   "outputs": [],
   "source": [
    "# List of classifiers:\n",
    "classifiers = [\n",
    "    LogisticRegression(random_state = rs),\n",
    "    DecisionTreeClassifier(random_state=rs),\n",
    "    SVC(probability=True),\n",
    "    RandomForestClassifier(n_estimators = 10, random_state=rs),\n",
    "    GradientBoostingClassifier(random_state= rs),\n",
    "    AdaBoostClassifier(n_estimators=10, random_state= rs),\n",
    "    LinearDiscriminantAnalysis()\n",
    "]\n",
    "\n",
    "# List of results that will occure:\n",
    "clf_name = [] # names of the classifiers\n",
    "model_results = pd.DataFrame.copy(y_test) #resulting of prediction from the models\n",
    "\n",
    "kfold = StratifiedKFold(n_splits=5) #cross-validation\n",
    "cv_results = [] # scores from cross validation\n",
    "cv_acc = [] # mean accuracy from cross validation, need to maximize\n",
    "cv_std = [] # standard deviation from cross validation, need to minimise\n",
    "\n",
    "cnfm = [] #confusion matrix\n",
    "clr = [] #classification report\n",
    "roc_auc = [] #roc curve:\n",
    "roc_tpr = []\n",
    "roc_fpr = []"
   ]
  },
  {
   "cell_type": "markdown",
   "metadata": {},
   "source": [
    "ACCURATEZZA"
   ]
  },
  {
   "cell_type": "code",
   "execution_count": 73,
   "metadata": {},
   "outputs": [
    {
     "name": "stderr",
     "output_type": "stream",
     "text": [
      "C:\\Users\\chiar\\AppData\\Roaming\\Python\\Python310\\site-packages\\sklearn\\linear_model\\_logistic.py:444: ConvergenceWarning: lbfgs failed to converge (status=1):\n",
      "STOP: TOTAL NO. of ITERATIONS REACHED LIMIT.\n",
      "\n",
      "Increase the number of iterations (max_iter) or scale the data as shown in:\n",
      "    https://scikit-learn.org/stable/modules/preprocessing.html\n",
      "Please also refer to the documentation for alternative solver options:\n",
      "    https://scikit-learn.org/stable/modules/linear_model.html#logistic-regression\n",
      "  n_iter_i = _check_optimize_result(\n",
      "C:\\Users\\chiar\\AppData\\Roaming\\Python\\Python310\\site-packages\\sklearn\\linear_model\\_logistic.py:444: ConvergenceWarning: lbfgs failed to converge (status=1):\n",
      "STOP: TOTAL NO. of ITERATIONS REACHED LIMIT.\n",
      "\n",
      "Increase the number of iterations (max_iter) or scale the data as shown in:\n",
      "    https://scikit-learn.org/stable/modules/preprocessing.html\n",
      "Please also refer to the documentation for alternative solver options:\n",
      "    https://scikit-learn.org/stable/modules/linear_model.html#logistic-regression\n",
      "  n_iter_i = _check_optimize_result(\n",
      "C:\\Users\\chiar\\AppData\\Roaming\\Python\\Python310\\site-packages\\sklearn\\linear_model\\_logistic.py:444: ConvergenceWarning: lbfgs failed to converge (status=1):\n",
      "STOP: TOTAL NO. of ITERATIONS REACHED LIMIT.\n",
      "\n",
      "Increase the number of iterations (max_iter) or scale the data as shown in:\n",
      "    https://scikit-learn.org/stable/modules/preprocessing.html\n",
      "Please also refer to the documentation for alternative solver options:\n",
      "    https://scikit-learn.org/stable/modules/linear_model.html#logistic-regression\n",
      "  n_iter_i = _check_optimize_result(\n",
      "C:\\Users\\chiar\\AppData\\Roaming\\Python\\Python310\\site-packages\\sklearn\\linear_model\\_logistic.py:444: ConvergenceWarning: lbfgs failed to converge (status=1):\n",
      "STOP: TOTAL NO. of ITERATIONS REACHED LIMIT.\n",
      "\n",
      "Increase the number of iterations (max_iter) or scale the data as shown in:\n",
      "    https://scikit-learn.org/stable/modules/preprocessing.html\n",
      "Please also refer to the documentation for alternative solver options:\n",
      "    https://scikit-learn.org/stable/modules/linear_model.html#logistic-regression\n",
      "  n_iter_i = _check_optimize_result(\n",
      "C:\\Users\\chiar\\AppData\\Roaming\\Python\\Python310\\site-packages\\sklearn\\linear_model\\_logistic.py:444: ConvergenceWarning: lbfgs failed to converge (status=1):\n",
      "STOP: TOTAL NO. of ITERATIONS REACHED LIMIT.\n",
      "\n",
      "Increase the number of iterations (max_iter) or scale the data as shown in:\n",
      "    https://scikit-learn.org/stable/modules/preprocessing.html\n",
      "Please also refer to the documentation for alternative solver options:\n",
      "    https://scikit-learn.org/stable/modules/linear_model.html#logistic-regression\n",
      "  n_iter_i = _check_optimize_result(\n",
      "C:\\Users\\chiar\\AppData\\Roaming\\Python\\Python310\\site-packages\\sklearn\\linear_model\\_logistic.py:444: ConvergenceWarning: lbfgs failed to converge (status=1):\n",
      "STOP: TOTAL NO. of ITERATIONS REACHED LIMIT.\n",
      "\n",
      "Increase the number of iterations (max_iter) or scale the data as shown in:\n",
      "    https://scikit-learn.org/stable/modules/preprocessing.html\n",
      "Please also refer to the documentation for alternative solver options:\n",
      "    https://scikit-learn.org/stable/modules/linear_model.html#logistic-regression\n",
      "  n_iter_i = _check_optimize_result(\n"
     ]
    },
    {
     "name": "stdout",
     "output_type": "stream",
     "text": [
      "Accuracy: 0.97 \t ---> LogisticRegression \n",
      "Accuracy: 1.0 \t ---> DecisionTreeClassifier \n",
      "Accuracy: 0.97 \t ---> SVC \n",
      "Accuracy: 0.97 \t ---> RandomForestClassifier \n",
      "Accuracy: 1.0 \t ---> GradientBoostingClassifier \n",
      "Accuracy: 1.0 \t ---> AdaBoostClassifier \n",
      "Accuracy: 0.97 \t ---> LinearDiscriminantAnalysis \n"
     ]
    }
   ],
   "source": [
    "# Training the algorithms and results\n",
    "for clf in classifiers:\n",
    "    name = clf.__class__.__name__\n",
    "    clf_name.append(name)\n",
    "    \n",
    "    #fitting and predictions\n",
    "    model = clf.fit(x_train, y_train.values.ravel())\n",
    "    y_pred = model.predict(x_test)\n",
    "    model_results[name] = y_pred\n",
    "    \n",
    "    #accuracy and log loss\n",
    "    cv_results.append(cross_val_score(clf, x_train, y_train.values.ravel(), scoring = \"accuracy\",cv = kfold))\n",
    "    acc = round(accuracy_score(y_test.values.ravel(), y_pred), 2) #need to maximize\n",
    "    train_pred = clf.predict_proba(x_test)\n",
    "    print(f'Accuracy: {acc} \\t ---> {name} ')\n",
    "    \n",
    "    #confusion matrix, clasification report, roc curve\n",
    "    cnfm.append(confusion_matrix(y_test.values.ravel(), y_pred))\n",
    "    clr.append(classification_report(y_test.values.ravel(), y_pred))\n",
    "    fpr, tpr, thresholds = roc_curve(y_pred, y_test.values.ravel(), pos_label=1)\n",
    "    roc_auc.append(auc(fpr, tpr))\n",
    "    roc_tpr.append(tpr)\n",
    "    roc_fpr.append(fpr)\n",
    "    \n",
    "\n",
    "for i in cv_results:\n",
    "    cv_acc.append(i.mean())\n",
    "    cv_std.append(i.std())"
   ]
  }
 ],
 "metadata": {
  "kernelspec": {
   "display_name": "Python 3.10.2 64-bit",
   "language": "python",
   "name": "python3"
  },
  "language_info": {
   "codemirror_mode": {
    "name": "ipython",
    "version": 3
   },
   "file_extension": ".py",
   "mimetype": "text/x-python",
   "name": "python",
   "nbconvert_exporter": "python",
   "pygments_lexer": "ipython3",
   "version": "3.10.2"
  },
  "orig_nbformat": 4,
  "vscode": {
   "interpreter": {
    "hash": "369f2c481f4da34e4445cda3fffd2e751bd1c4d706f27375911949ba6bb62e1c"
   }
  }
 },
 "nbformat": 4,
 "nbformat_minor": 2
}
