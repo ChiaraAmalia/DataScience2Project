{
 "cells": [
  {
   "cell_type": "code",
   "execution_count": 15,
   "metadata": {},
   "outputs": [
    {
     "name": "stdout",
     "output_type": "stream",
     "text": [
      "c:\\Users\\chiar\\OneDrive\\Desktop\\Progetto2DataScience\\DataScience2Project\n"
     ]
    }
   ],
   "source": [
    "# importare tutte le librerie necessarie\n",
    "import pandas as pd\n",
    "import numpy as np\n",
    "import datetime as dt\n",
    "from tabulate import tabulate\n",
    "import matplotlib.pyplot as plt\n",
    "import seaborn as sns\n",
    "import os\n",
    "\n",
    "#Processing libraries\n",
    "from sklearn.preprocessing import StandardScaler,MinMaxScaler\n",
    "\n",
    "# Model libraries\n",
    "from sklearn.linear_model import LogisticRegression\n",
    "from sklearn.neighbors import KNeighborsClassifier\n",
    "from sklearn.svm import SVC, LinearSVC, NuSVC\n",
    "from sklearn.tree import DecisionTreeClassifier\n",
    "from sklearn.ensemble import RandomForestClassifier, AdaBoostClassifier, GradientBoostingClassifier, ExtraTreesClassifier, VotingClassifier\n",
    "from sklearn.neural_network import MLPClassifier\n",
    "from sklearn.discriminant_analysis import LinearDiscriminantAnalysis, QuadraticDiscriminantAnalysis\n",
    "from sklearn.naive_bayes import GaussianNB\n",
    "\n",
    "# Testing libraries\n",
    "from sklearn.model_selection import train_test_split, cross_val_score, StratifiedKFold, GridSearchCV, learning_curve\n",
    "from sklearn.metrics import accuracy_score, log_loss, confusion_matrix, classification_report, roc_curve, auc\n",
    "\n",
    "# Cambio della cartella attuale nella cartella in cui si trova il file .py\n",
    "path_file = os.path.abspath(os.getcwd())\n",
    "print(path_file)\n",
    "os.chdir(path_file)\n",
    "\n",
    "path_cartella = r\"\\archive\\csvs_per_year\\csvs_per_year\"\n",
    "\n",
    "path = r\".\\\\DataSet\\\\\"\n",
    "#path = path_file + path_cartella"
   ]
  },
  {
   "cell_type": "code",
   "execution_count": 16,
   "metadata": {},
   "outputs": [
    {
     "data": {
      "text/html": [
       "<div>\n",
       "<style scoped>\n",
       "    .dataframe tbody tr th:only-of-type {\n",
       "        vertical-align: middle;\n",
       "    }\n",
       "\n",
       "    .dataframe tbody tr th {\n",
       "        vertical-align: top;\n",
       "    }\n",
       "\n",
       "    .dataframe thead th {\n",
       "        text-align: right;\n",
       "    }\n",
       "</style>\n",
       "<table border=\"1\" class=\"dataframe\">\n",
       "  <thead>\n",
       "    <tr style=\"text-align: right;\">\n",
       "      <th></th>\n",
       "      <th>date</th>\n",
       "      <th>BEN</th>\n",
       "      <th>CO</th>\n",
       "      <th>EBE</th>\n",
       "      <th>NMHC</th>\n",
       "      <th>NO</th>\n",
       "      <th>NO_2</th>\n",
       "      <th>O_3</th>\n",
       "      <th>PM10</th>\n",
       "      <th>PM25</th>\n",
       "      <th>SO_2</th>\n",
       "      <th>TCH</th>\n",
       "      <th>TOL</th>\n",
       "      <th>station</th>\n",
       "    </tr>\n",
       "  </thead>\n",
       "  <tbody>\n",
       "    <tr>\n",
       "      <th>0</th>\n",
       "      <td>2008-06-01 01:00:00</td>\n",
       "      <td>NaN</td>\n",
       "      <td>0.47</td>\n",
       "      <td>NaN</td>\n",
       "      <td>NaN</td>\n",
       "      <td>11.820078</td>\n",
       "      <td>83.089996</td>\n",
       "      <td>16.990000</td>\n",
       "      <td>16.889999</td>\n",
       "      <td>10.4</td>\n",
       "      <td>8.98</td>\n",
       "      <td>NaN</td>\n",
       "      <td>NaN</td>\n",
       "      <td>28079001</td>\n",
       "    </tr>\n",
       "    <tr>\n",
       "      <th>1</th>\n",
       "      <td>2008-06-01 01:00:00</td>\n",
       "      <td>NaN</td>\n",
       "      <td>0.59</td>\n",
       "      <td>NaN</td>\n",
       "      <td>NaN</td>\n",
       "      <td>11.820078</td>\n",
       "      <td>94.820000</td>\n",
       "      <td>17.469999</td>\n",
       "      <td>19.040001</td>\n",
       "      <td>NaN</td>\n",
       "      <td>5.85</td>\n",
       "      <td>NaN</td>\n",
       "      <td>NaN</td>\n",
       "      <td>28079003</td>\n",
       "    </tr>\n",
       "    <tr>\n",
       "      <th>2</th>\n",
       "      <td>2008-06-01 01:00:00</td>\n",
       "      <td>NaN</td>\n",
       "      <td>0.55</td>\n",
       "      <td>NaN</td>\n",
       "      <td>NaN</td>\n",
       "      <td>11.820078</td>\n",
       "      <td>75.919998</td>\n",
       "      <td>13.470000</td>\n",
       "      <td>20.270000</td>\n",
       "      <td>NaN</td>\n",
       "      <td>6.95</td>\n",
       "      <td>NaN</td>\n",
       "      <td>NaN</td>\n",
       "      <td>28079004</td>\n",
       "    </tr>\n",
       "    <tr>\n",
       "      <th>3</th>\n",
       "      <td>2008-06-01 01:00:00</td>\n",
       "      <td>NaN</td>\n",
       "      <td>0.36</td>\n",
       "      <td>NaN</td>\n",
       "      <td>NaN</td>\n",
       "      <td>11.820078</td>\n",
       "      <td>61.029999</td>\n",
       "      <td>23.110001</td>\n",
       "      <td>10.850000</td>\n",
       "      <td>NaN</td>\n",
       "      <td>5.96</td>\n",
       "      <td>NaN</td>\n",
       "      <td>NaN</td>\n",
       "      <td>28079039</td>\n",
       "    </tr>\n",
       "    <tr>\n",
       "      <th>4</th>\n",
       "      <td>2008-06-01 01:00:00</td>\n",
       "      <td>1.68</td>\n",
       "      <td>0.80</td>\n",
       "      <td>1.7</td>\n",
       "      <td>0.3</td>\n",
       "      <td>11.820078</td>\n",
       "      <td>105.199997</td>\n",
       "      <td>12.120000</td>\n",
       "      <td>37.160000</td>\n",
       "      <td>21.9</td>\n",
       "      <td>10.92</td>\n",
       "      <td>1.53</td>\n",
       "      <td>6.67</td>\n",
       "      <td>28079006</td>\n",
       "    </tr>\n",
       "  </tbody>\n",
       "</table>\n",
       "</div>"
      ],
      "text/plain": [
       "                  date   BEN    CO  EBE  NMHC         NO        NO_2  \\\n",
       "0  2008-06-01 01:00:00   NaN  0.47  NaN   NaN  11.820078   83.089996   \n",
       "1  2008-06-01 01:00:00   NaN  0.59  NaN   NaN  11.820078   94.820000   \n",
       "2  2008-06-01 01:00:00   NaN  0.55  NaN   NaN  11.820078   75.919998   \n",
       "3  2008-06-01 01:00:00   NaN  0.36  NaN   NaN  11.820078   61.029999   \n",
       "4  2008-06-01 01:00:00  1.68  0.80  1.7   0.3  11.820078  105.199997   \n",
       "\n",
       "         O_3       PM10  PM25   SO_2   TCH   TOL   station  \n",
       "0  16.990000  16.889999  10.4   8.98   NaN   NaN  28079001  \n",
       "1  17.469999  19.040001   NaN   5.85   NaN   NaN  28079003  \n",
       "2  13.470000  20.270000   NaN   6.95   NaN   NaN  28079004  \n",
       "3  23.110001  10.850000   NaN   5.96   NaN   NaN  28079039  \n",
       "4  12.120000  37.160000  21.9  10.92  1.53  6.67  28079006  "
      ]
     },
     "execution_count": 16,
     "metadata": {},
     "output_type": "execute_result"
    }
   ],
   "source": [
    "allMadrid = pd.read_csv(path+\"out.csv\")\n",
    "#allMadrid = pd.read_csv(path+\"\\madrid_2008.csv\")\n",
    "allMadrid.head()"
   ]
  },
  {
   "cell_type": "code",
   "execution_count": 17,
   "metadata": {},
   "outputs": [
    {
     "data": {
      "text/html": [
       "<div>\n",
       "<style scoped>\n",
       "    .dataframe tbody tr th:only-of-type {\n",
       "        vertical-align: middle;\n",
       "    }\n",
       "\n",
       "    .dataframe tbody tr th {\n",
       "        vertical-align: top;\n",
       "    }\n",
       "\n",
       "    .dataframe thead th {\n",
       "        text-align: right;\n",
       "    }\n",
       "</style>\n",
       "<table border=\"1\" class=\"dataframe\">\n",
       "  <thead>\n",
       "    <tr style=\"text-align: right;\">\n",
       "      <th></th>\n",
       "      <th>date</th>\n",
       "      <th>NO</th>\n",
       "      <th>NO_2</th>\n",
       "      <th>PM10</th>\n",
       "      <th>PM25</th>\n",
       "      <th>SO_2</th>\n",
       "    </tr>\n",
       "  </thead>\n",
       "  <tbody>\n",
       "    <tr>\n",
       "      <th>0</th>\n",
       "      <td>2008-06-01 01:00:00</td>\n",
       "      <td>11.820078</td>\n",
       "      <td>83.089996</td>\n",
       "      <td>16.889999</td>\n",
       "      <td>10.4</td>\n",
       "      <td>8.98</td>\n",
       "    </tr>\n",
       "    <tr>\n",
       "      <th>1</th>\n",
       "      <td>2008-06-01 01:00:00</td>\n",
       "      <td>11.820078</td>\n",
       "      <td>94.820000</td>\n",
       "      <td>19.040001</td>\n",
       "      <td>NaN</td>\n",
       "      <td>5.85</td>\n",
       "    </tr>\n",
       "    <tr>\n",
       "      <th>2</th>\n",
       "      <td>2008-06-01 01:00:00</td>\n",
       "      <td>11.820078</td>\n",
       "      <td>75.919998</td>\n",
       "      <td>20.270000</td>\n",
       "      <td>NaN</td>\n",
       "      <td>6.95</td>\n",
       "    </tr>\n",
       "    <tr>\n",
       "      <th>3</th>\n",
       "      <td>2008-06-01 01:00:00</td>\n",
       "      <td>11.820078</td>\n",
       "      <td>61.029999</td>\n",
       "      <td>10.850000</td>\n",
       "      <td>NaN</td>\n",
       "      <td>5.96</td>\n",
       "    </tr>\n",
       "    <tr>\n",
       "      <th>4</th>\n",
       "      <td>2008-06-01 01:00:00</td>\n",
       "      <td>11.820078</td>\n",
       "      <td>105.199997</td>\n",
       "      <td>37.160000</td>\n",
       "      <td>21.9</td>\n",
       "      <td>10.92</td>\n",
       "    </tr>\n",
       "  </tbody>\n",
       "</table>\n",
       "</div>"
      ],
      "text/plain": [
       "                  date         NO        NO_2       PM10  PM25   SO_2\n",
       "0  2008-06-01 01:00:00  11.820078   83.089996  16.889999  10.4   8.98\n",
       "1  2008-06-01 01:00:00  11.820078   94.820000  19.040001   NaN   5.85\n",
       "2  2008-06-01 01:00:00  11.820078   75.919998  20.270000   NaN   6.95\n",
       "3  2008-06-01 01:00:00  11.820078   61.029999  10.850000   NaN   5.96\n",
       "4  2008-06-01 01:00:00  11.820078  105.199997  37.160000  21.9  10.92"
      ]
     },
     "execution_count": 17,
     "metadata": {},
     "output_type": "execute_result"
    }
   ],
   "source": [
    "#allMadrid = allMadrid.drop(['date','BEN', 'CO', 'EBE', 'NMHC', 'NO', 'NO_2', 'O_3', 'SO_2', 'TCH', 'TOL', 'PM25', 'station'], axis=1)\n",
    "#allMadrid = allMadrid.drop(['date','BEN', 'CO', 'EBE', 'MXY', 'NMHC', 'OXY', 'O_3', 'PXY', 'TCH', 'TOL', 'station'], axis=1)\n",
    "allMadrid = allMadrid.drop(['BEN', 'CO', 'EBE', 'NMHC', 'O_3', 'TCH', 'TOL', 'station'], axis=1)\n",
    "allMadrid.head()\n"
   ]
  },
  {
   "cell_type": "code",
   "execution_count": 18,
   "metadata": {},
   "outputs": [
    {
     "name": "stdout",
     "output_type": "stream",
     "text": [
      "0         2008-06-01\n",
      "1         2008-06-01\n",
      "2         2008-06-01\n",
      "3         2008-06-01\n",
      "4         2008-06-01\n",
      "             ...    \n",
      "2190883   2018-02-01\n",
      "2190884   2018-02-01\n",
      "2190885   2018-02-01\n",
      "2190886   2018-02-01\n",
      "2190887   2018-02-01\n",
      "Name: date, Length: 2190888, dtype: datetime64[ns]\n"
     ]
    }
   ],
   "source": [
    "# Faccio un cambio di formato sul campo data passando da stringa a data\n",
    "allMadrid['date'] = pd.to_datetime(allMadrid['date'], format='%Y/%m/%d %H:%M:%S')\n",
    "#prendo la data solo in formato AAAA-MM-GG\n",
    "allMadrid['date'] = pd.to_datetime(allMadrid['date'].dt.strftime('%Y-%m-%d'))\n",
    "print(allMadrid['date'])"
   ]
  },
  {
   "cell_type": "code",
   "execution_count": 21,
   "metadata": {},
   "outputs": [
    {
     "name": "stdout",
     "output_type": "stream",
     "text": [
      "Index(['NO', 'NO_2', 'PM10', 'PM25', 'SO_2'], dtype='object')\n"
     ]
    }
   ],
   "source": [
    "#raggruppo per station\n",
    "allMadrid = allMadrid.groupby(['date']).mean()\n",
    "allMadrid = allMadrid.reset_index(drop=True)\n",
    "print(allMadrid.columns)"
   ]
  },
  {
   "cell_type": "code",
   "execution_count": 22,
   "metadata": {},
   "outputs": [
    {
     "data": {
      "text/html": [
       "<div>\n",
       "<style scoped>\n",
       "    .dataframe tbody tr th:only-of-type {\n",
       "        vertical-align: middle;\n",
       "    }\n",
       "\n",
       "    .dataframe tbody tr th {\n",
       "        vertical-align: top;\n",
       "    }\n",
       "\n",
       "    .dataframe thead th {\n",
       "        text-align: right;\n",
       "    }\n",
       "</style>\n",
       "<table border=\"1\" class=\"dataframe\">\n",
       "  <thead>\n",
       "    <tr style=\"text-align: right;\">\n",
       "      <th></th>\n",
       "      <th>NO</th>\n",
       "      <th>NO_2</th>\n",
       "      <th>PM10</th>\n",
       "      <th>PM25</th>\n",
       "      <th>SO_2</th>\n",
       "    </tr>\n",
       "  </thead>\n",
       "  <tbody>\n",
       "    <tr>\n",
       "      <th>0</th>\n",
       "      <td>11.820078</td>\n",
       "      <td>67.084565</td>\n",
       "      <td>39.855419</td>\n",
       "      <td>25.650870</td>\n",
       "      <td>19.815357</td>\n",
       "    </tr>\n",
       "    <tr>\n",
       "      <th>1</th>\n",
       "      <td>11.820078</td>\n",
       "      <td>66.552372</td>\n",
       "      <td>21.005401</td>\n",
       "      <td>15.767895</td>\n",
       "      <td>14.897970</td>\n",
       "    </tr>\n",
       "    <tr>\n",
       "      <th>2</th>\n",
       "      <td>11.820078</td>\n",
       "      <td>50.410930</td>\n",
       "      <td>9.173423</td>\n",
       "      <td>5.617396</td>\n",
       "      <td>10.923919</td>\n",
       "    </tr>\n",
       "    <tr>\n",
       "      <th>3</th>\n",
       "      <td>11.820078</td>\n",
       "      <td>58.247292</td>\n",
       "      <td>21.390939</td>\n",
       "      <td>13.236000</td>\n",
       "      <td>12.875144</td>\n",
       "    </tr>\n",
       "    <tr>\n",
       "      <th>4</th>\n",
       "      <td>11.820078</td>\n",
       "      <td>47.282292</td>\n",
       "      <td>18.745682</td>\n",
       "      <td>12.485729</td>\n",
       "      <td>11.804503</td>\n",
       "    </tr>\n",
       "  </tbody>\n",
       "</table>\n",
       "</div>"
      ],
      "text/plain": [
       "          NO       NO_2       PM10       PM25       SO_2\n",
       "0  11.820078  67.084565  39.855419  25.650870  19.815357\n",
       "1  11.820078  66.552372  21.005401  15.767895  14.897970\n",
       "2  11.820078  50.410930   9.173423   5.617396  10.923919\n",
       "3  11.820078  58.247292  21.390939  13.236000  12.875144\n",
       "4  11.820078  47.282292  18.745682  12.485729  11.804503"
      ]
     },
     "execution_count": 22,
     "metadata": {},
     "output_type": "execute_result"
    }
   ],
   "source": [
    "allMadrid.head()"
   ]
  },
  {
   "cell_type": "code",
   "execution_count": 23,
   "metadata": {},
   "outputs": [
    {
     "data": {
      "text/html": [
       "<div>\n",
       "<style scoped>\n",
       "    .dataframe tbody tr th:only-of-type {\n",
       "        vertical-align: middle;\n",
       "    }\n",
       "\n",
       "    .dataframe tbody tr th {\n",
       "        vertical-align: top;\n",
       "    }\n",
       "\n",
       "    .dataframe thead th {\n",
       "        text-align: right;\n",
       "    }\n",
       "</style>\n",
       "<table border=\"1\" class=\"dataframe\">\n",
       "  <thead>\n",
       "    <tr style=\"text-align: right;\">\n",
       "      <th></th>\n",
       "      <th>NO</th>\n",
       "      <th>NO_2</th>\n",
       "      <th>PM25</th>\n",
       "      <th>SO_2</th>\n",
       "    </tr>\n",
       "  </thead>\n",
       "  <tbody>\n",
       "    <tr>\n",
       "      <th>0</th>\n",
       "      <td>11.820078</td>\n",
       "      <td>67.084565</td>\n",
       "      <td>25.650870</td>\n",
       "      <td>19.815357</td>\n",
       "    </tr>\n",
       "    <tr>\n",
       "      <th>1</th>\n",
       "      <td>11.820078</td>\n",
       "      <td>66.552372</td>\n",
       "      <td>15.767895</td>\n",
       "      <td>14.897970</td>\n",
       "    </tr>\n",
       "    <tr>\n",
       "      <th>2</th>\n",
       "      <td>11.820078</td>\n",
       "      <td>50.410930</td>\n",
       "      <td>5.617396</td>\n",
       "      <td>10.923919</td>\n",
       "    </tr>\n",
       "    <tr>\n",
       "      <th>3</th>\n",
       "      <td>11.820078</td>\n",
       "      <td>58.247292</td>\n",
       "      <td>13.236000</td>\n",
       "      <td>12.875144</td>\n",
       "    </tr>\n",
       "    <tr>\n",
       "      <th>4</th>\n",
       "      <td>11.820078</td>\n",
       "      <td>47.282292</td>\n",
       "      <td>12.485729</td>\n",
       "      <td>11.804503</td>\n",
       "    </tr>\n",
       "  </tbody>\n",
       "</table>\n",
       "</div>"
      ],
      "text/plain": [
       "          NO       NO_2       PM25       SO_2\n",
       "0  11.820078  67.084565  25.650870  19.815357\n",
       "1  11.820078  66.552372  15.767895  14.897970\n",
       "2  11.820078  50.410930   5.617396  10.923919\n",
       "3  11.820078  58.247292  13.236000  12.875144\n",
       "4  11.820078  47.282292  12.485729  11.804503"
      ]
     },
     "execution_count": 23,
     "metadata": {},
     "output_type": "execute_result"
    }
   ],
   "source": [
    "allMadrid = allMadrid.dropna(subset=['PM10'])\n",
    "Livello = allMadrid['PM10']\n",
    "#allMadrid = allMadrid.dropna()\n",
    "allMadrid = allMadrid.drop(['PM10'], axis=1)\n",
    "allMadrid.head()"
   ]
  },
  {
   "cell_type": "code",
   "execution_count": null,
   "metadata": {},
   "outputs": [],
   "source": [
    "print(allMadrid)"
   ]
  },
  {
   "cell_type": "code",
   "execution_count": 24,
   "metadata": {},
   "outputs": [],
   "source": [
    "#cerco i campi NaN in PM10 e li sostituisco con la media dei valori noti\n",
    "#trovo il valor medio\n",
    "for col in allMadrid.columns:\n",
    "    if allMadrid[col].dtype != object:\n",
    "        allMadrid[col]=allMadrid[col].fillna(allMadrid[col].mean())\n",
    "\n",
    "allMadrid = allMadrid.astype(int)\n",
    "#print(allMadrid['PM10'])"
   ]
  },
  {
   "cell_type": "code",
   "execution_count": null,
   "metadata": {},
   "outputs": [],
   "source": [
    "allMadrid.head()"
   ]
  },
  {
   "cell_type": "code",
   "execution_count": 25,
   "metadata": {},
   "outputs": [
    {
     "name": "stdout",
     "output_type": "stream",
     "text": [
      "[1 1 0 ... 0 0 0]\n"
     ]
    }
   ],
   "source": [
    "condition_list = [(Livello <= 20), (Livello > 20)]\n",
    "\n",
    "choicelist = [0,1] \n",
    "\n",
    "Livello = np.select(condition_list, choicelist, default='Non Specificato')\n",
    "\n",
    "Livello = Livello.astype(int)\n",
    "\n",
    "print(Livello)\n",
    "\n",
    "#Livello = pd.DataFrame(Livello, columns = ['Tolleranza'])\n",
    "\n",
    "#Livello.value_counts()"
   ]
  },
  {
   "cell_type": "code",
   "execution_count": 26,
   "metadata": {},
   "outputs": [
    {
     "data": {
      "text/html": [
       "<div>\n",
       "<style scoped>\n",
       "    .dataframe tbody tr th:only-of-type {\n",
       "        vertical-align: middle;\n",
       "    }\n",
       "\n",
       "    .dataframe tbody tr th {\n",
       "        vertical-align: top;\n",
       "    }\n",
       "\n",
       "    .dataframe thead th {\n",
       "        text-align: right;\n",
       "    }\n",
       "</style>\n",
       "<table border=\"1\" class=\"dataframe\">\n",
       "  <thead>\n",
       "    <tr style=\"text-align: right;\">\n",
       "      <th></th>\n",
       "      <th>NO</th>\n",
       "      <th>NO_2</th>\n",
       "      <th>PM25</th>\n",
       "      <th>SO_2</th>\n",
       "    </tr>\n",
       "  </thead>\n",
       "  <tbody>\n",
       "    <tr>\n",
       "      <th>0</th>\n",
       "      <td>11</td>\n",
       "      <td>67</td>\n",
       "      <td>25</td>\n",
       "      <td>19</td>\n",
       "    </tr>\n",
       "    <tr>\n",
       "      <th>1</th>\n",
       "      <td>11</td>\n",
       "      <td>66</td>\n",
       "      <td>15</td>\n",
       "      <td>14</td>\n",
       "    </tr>\n",
       "    <tr>\n",
       "      <th>2</th>\n",
       "      <td>11</td>\n",
       "      <td>50</td>\n",
       "      <td>5</td>\n",
       "      <td>10</td>\n",
       "    </tr>\n",
       "    <tr>\n",
       "      <th>3</th>\n",
       "      <td>11</td>\n",
       "      <td>58</td>\n",
       "      <td>13</td>\n",
       "      <td>12</td>\n",
       "    </tr>\n",
       "    <tr>\n",
       "      <th>4</th>\n",
       "      <td>11</td>\n",
       "      <td>47</td>\n",
       "      <td>12</td>\n",
       "      <td>11</td>\n",
       "    </tr>\n",
       "  </tbody>\n",
       "</table>\n",
       "</div>"
      ],
      "text/plain": [
       "   NO  NO_2  PM25  SO_2\n",
       "0  11    67    25    19\n",
       "1  11    66    15    14\n",
       "2  11    50     5    10\n",
       "3  11    58    13    12\n",
       "4  11    47    12    11"
      ]
     },
     "execution_count": 26,
     "metadata": {},
     "output_type": "execute_result"
    }
   ],
   "source": [
    "allMadrid = pd.get_dummies(allMadrid)\n",
    "allMadrid.head()"
   ]
  },
  {
   "cell_type": "code",
   "execution_count": 27,
   "metadata": {},
   "outputs": [
    {
     "data": {
      "text/html": [
       "<div>\n",
       "<style scoped>\n",
       "    .dataframe tbody tr th:only-of-type {\n",
       "        vertical-align: middle;\n",
       "    }\n",
       "\n",
       "    .dataframe tbody tr th {\n",
       "        vertical-align: top;\n",
       "    }\n",
       "\n",
       "    .dataframe thead th {\n",
       "        text-align: right;\n",
       "    }\n",
       "</style>\n",
       "<table border=\"1\" class=\"dataframe\">\n",
       "  <thead>\n",
       "    <tr style=\"text-align: right;\">\n",
       "      <th></th>\n",
       "      <th>NO</th>\n",
       "      <th>NO_2</th>\n",
       "      <th>PM25</th>\n",
       "      <th>SO_2</th>\n",
       "    </tr>\n",
       "  </thead>\n",
       "  <tbody>\n",
       "    <tr>\n",
       "      <th>0</th>\n",
       "      <td>0.041667</td>\n",
       "      <td>0.526316</td>\n",
       "      <td>0.403509</td>\n",
       "      <td>0.642857</td>\n",
       "    </tr>\n",
       "    <tr>\n",
       "      <th>1</th>\n",
       "      <td>0.041667</td>\n",
       "      <td>0.517544</td>\n",
       "      <td>0.228070</td>\n",
       "      <td>0.464286</td>\n",
       "    </tr>\n",
       "    <tr>\n",
       "      <th>2</th>\n",
       "      <td>0.041667</td>\n",
       "      <td>0.377193</td>\n",
       "      <td>0.052632</td>\n",
       "      <td>0.321429</td>\n",
       "    </tr>\n",
       "    <tr>\n",
       "      <th>3</th>\n",
       "      <td>0.041667</td>\n",
       "      <td>0.447368</td>\n",
       "      <td>0.192982</td>\n",
       "      <td>0.392857</td>\n",
       "    </tr>\n",
       "    <tr>\n",
       "      <th>4</th>\n",
       "      <td>0.041667</td>\n",
       "      <td>0.350877</td>\n",
       "      <td>0.175439</td>\n",
       "      <td>0.357143</td>\n",
       "    </tr>\n",
       "  </tbody>\n",
       "</table>\n",
       "</div>"
      ],
      "text/plain": [
       "         NO      NO_2      PM25      SO_2\n",
       "0  0.041667  0.526316  0.403509  0.642857\n",
       "1  0.041667  0.517544  0.228070  0.464286\n",
       "2  0.041667  0.377193  0.052632  0.321429\n",
       "3  0.041667  0.447368  0.192982  0.392857\n",
       "4  0.041667  0.350877  0.175439  0.357143"
      ]
     },
     "execution_count": 27,
     "metadata": {},
     "output_type": "execute_result"
    }
   ],
   "source": [
    "scaler = MinMaxScaler()\n",
    "scaled_d = scaler.fit_transform(allMadrid[[\"NO\", \"NO_2\", \"PM25\", \"SO_2\"]])\n",
    "allMadrid[[\"NO\", \"NO_2\", \"PM25\", \"SO_2\"]] = scaled_d\n",
    "#scaled_d = scaler.fit_transform(allMadrid[[\"NOx\", \"NO_2\", \"PM25\", \"SO_2\"]])\n",
    "#allMadrid[[\"NOx\", \"NO_2\", \"PM25\", \"SO_2\"]] = scaled_d\n",
    "allMadrid.head()"
   ]
  },
  {
   "cell_type": "markdown",
   "metadata": {},
   "source": [
    "CLASSIFICAZIONE"
   ]
  },
  {
   "cell_type": "code",
   "execution_count": null,
   "metadata": {},
   "outputs": [],
   "source": [
    "allMadrid.head()"
   ]
  },
  {
   "cell_type": "markdown",
   "metadata": {},
   "source": [
    "BILANCIAMENTO DEL DATASET"
   ]
  },
  {
   "cell_type": "code",
   "execution_count": 28,
   "metadata": {},
   "outputs": [
    {
     "name": "stdout",
     "output_type": "stream",
     "text": [
      "Tollerabili:  1981 Non tollerabili:  1793\n"
     ]
    }
   ],
   "source": [
    "#separazione da tollerabile a non_tollerabile\n",
    "allMadrid['Livello'] = pd.Series(Livello)\n",
    "non_tollerabile = allMadrid[allMadrid.Livello == 1]\n",
    "tollerabile = allMadrid[allMadrid.Livello == 0]\n",
    "\n",
    "print(\"Tollerabili: \", len(tollerabile), \"Non tollerabili: \", len(non_tollerabile))"
   ]
  },
  {
   "cell_type": "code",
   "execution_count": 31,
   "metadata": {},
   "outputs": [
    {
     "data": {
      "text/plain": [
       "(3586, 5)"
      ]
     },
     "execution_count": 31,
     "metadata": {},
     "output_type": "execute_result"
    }
   ],
   "source": [
    "#bilanciamento del dataset\n",
    "balanced_d = pd.concat([non_tollerabile, tollerabile.sample(len(non_tollerabile))])\n",
    "#balanced_d = pd.concat([tollerabile, non_tollerabile.sample(len(tollerabile))])\n",
    "x = balanced_d.iloc[:,:-1]\n",
    "y = balanced_d.iloc[:,-1:]\n",
    "balanced_d.shape"
   ]
  },
  {
   "cell_type": "code",
   "execution_count": 32,
   "metadata": {},
   "outputs": [
    {
     "name": "stdout",
     "output_type": "stream",
     "text": [
      "Index(['NO', 'NO_2', 'PM25', 'SO_2', 'Livello'], dtype='object')\n"
     ]
    }
   ],
   "source": [
    "allMadrid.head()\n",
    "print(allMadrid.columns)"
   ]
  },
  {
   "cell_type": "markdown",
   "metadata": {},
   "source": [
    "ANALISI DELLE CORRELAZIONI"
   ]
  },
  {
   "cell_type": "code",
   "execution_count": 33,
   "metadata": {},
   "outputs": [
    {
     "data": {
      "text/plain": [
       "<Figure size 2160x1080 with 0 Axes>"
      ]
     },
     "metadata": {},
     "output_type": "display_data"
    },
    {
     "data": {
      "image/png": "[encoded data removed]",
      "text/plain": [
       "<Figure size 2160x1080 with 2 Axes>"
      ]
     },
     "metadata": {
      "needs_background": "light"
     },
     "output_type": "display_data"
    }
   ],
   "source": [
    "plt.figure(figsize=(30,15))\n",
    "\n",
    "#x = x.drop(['BEN', 'CO', 'EBE', 'NMHC', 'O_3', 'TCH', 'TOL'], axis=1)\n",
    "\n",
    "plt.figure(figsize=(30,15))\n",
    "ax = sns.heatmap(allMadrid[allMadrid.columns].corr(),cmap=\"Blues\",annot=True,annot_kws={\"size\": 18})"
   ]
  },
  {
   "cell_type": "code",
   "execution_count": 34,
   "metadata": {},
   "outputs": [
    {
     "data": {
      "text/plain": [
       "<Figure size 2160x1080 with 0 Axes>"
      ]
     },
     "metadata": {},
     "output_type": "display_data"
    },
    {
     "data": {
      "image/png": "[encoded data removed]",
      "text/plain": [
       "<Figure size 2160x1080 with 2 Axes>"
      ]
     },
     "metadata": {
      "needs_background": "light"
     },
     "output_type": "display_data"
    }
   ],
   "source": [
    "plt.figure(figsize=(30,15))\n",
    "\n",
    "#x = x.drop(['BEN', 'CO', 'EBE', 'NMHC', 'O_3', 'TCH', 'TOL'], axis=1)\n",
    "\n",
    "plt.figure(figsize=(30,15))\n",
    "ax = sns.heatmap(x.corr(),cmap=\"Blues\",annot=True,annot_kws={\"size\": 18})"
   ]
  },
  {
   "cell_type": "code",
   "execution_count": null,
   "metadata": {},
   "outputs": [],
   "source": [
    "allMadrid.head()\n",
    "allMadrid.info()\n",
    "allMadrid.count()"
   ]
  },
  {
   "cell_type": "markdown",
   "metadata": {},
   "source": [
    "CLASSIFICAZIONE BINARIA"
   ]
  },
  {
   "cell_type": "code",
   "execution_count": 35,
   "metadata": {},
   "outputs": [
    {
     "name": "stdout",
     "output_type": "stream",
     "text": [
      "(2868, 4)\n",
      "(718, 4)\n",
      "(2868, 1)\n",
      "(718, 1)\n"
     ]
    }
   ],
   "source": [
    "# Random state\n",
    "rs = 42\n",
    "\n",
    "# Split the data to check which algorithms learn better (later on we can check )\n",
    "x_train, x_test, y_train, y_test = train_test_split(x, y, test_size=0.2, random_state=rs)\n",
    "y_train = y_train.astype(int)\n",
    "y_test = y_test.astype(int)\n",
    "\n",
    "# look at the shape of the data (many problems can arise from wrong shape)\n",
    "print(x_train.shape)\n",
    "print(x_test.shape)\n",
    "print(y_train.shape)\n",
    "print(y_test.shape)"
   ]
  },
  {
   "cell_type": "markdown",
   "metadata": {},
   "source": [
    "CLASSIFICATORI"
   ]
  },
  {
   "cell_type": "code",
   "execution_count": 36,
   "metadata": {},
   "outputs": [],
   "source": [
    "# List of classifiers:\n",
    "classifiers = [\n",
    "    LogisticRegression(random_state = rs),\n",
    "    DecisionTreeClassifier(random_state=rs),\n",
    "    RandomForestClassifier(n_estimators = 10, random_state=rs),\n",
    "    GradientBoostingClassifier(random_state= rs),\n",
    "    AdaBoostClassifier(n_estimators=10, random_state= rs),\n",
    "    LinearDiscriminantAnalysis(),\n",
    "    SVC(probability=True)\n",
    "]\n",
    "\n",
    "# List of results that will occure:\n",
    "clf_name = [] # names of the classifiers\n",
    "model_results = pd.DataFrame.copy(y_test) #resulting of prediction from the models\n",
    "\n",
    "kfold = StratifiedKFold(n_splits=5) #cross-validation\n",
    "cv_results = [] # scores from cross validation\n",
    "cv_acc = [] # mean accuracy from cross validation, need to maximize\n",
    "cv_std = [] # standard deviation from cross validation, need to minimise\n",
    "\n",
    "cnfm = [] #confusion matrix\n",
    "clr = [] #classification report\n",
    "roc_auc = [] #roc curve:\n",
    "roc_tpr = []\n",
    "roc_fpr = []"
   ]
  },
  {
   "cell_type": "markdown",
   "metadata": {},
   "source": [
    "ACCURATEZZA"
   ]
  },
  {
   "cell_type": "code",
   "execution_count": 37,
   "metadata": {},
   "outputs": [
    {
     "name": "stdout",
     "output_type": "stream",
     "text": [
      "Accuracy: 0.86 \t ---> LogisticRegression \n",
      "Accuracy: 0.86 \t ---> DecisionTreeClassifier \n",
      "Accuracy: 0.88 \t ---> RandomForestClassifier \n",
      "Accuracy: 0.9 \t ---> GradientBoostingClassifier \n",
      "Accuracy: 0.87 \t ---> AdaBoostClassifier \n",
      "Accuracy: 0.86 \t ---> LinearDiscriminantAnalysis \n",
      "Accuracy: 0.9 \t ---> SVC \n"
     ]
    }
   ],
   "source": [
    "# Training the algorithms and results\n",
    "for clf in classifiers:\n",
    "    name = clf.__class__.__name__\n",
    "    clf_name.append(name)\n",
    "    \n",
    "    #fitting and predictions\n",
    "    model = clf.fit(x_train, y_train.values.ravel())\n",
    "    y_pred = model.predict(x_test)\n",
    "    model_results[name] = y_pred\n",
    "    \n",
    "    #accuracy and log loss\n",
    "    cv_results.append(cross_val_score(clf, x_train, y_train.values.ravel(), scoring = \"accuracy\",cv = kfold))\n",
    "    acc = round(accuracy_score(y_test.values.ravel(), y_pred), 2) #need to maximize\n",
    "    train_pred = clf.predict_proba(x_test)\n",
    "    print(f'Accuracy: {acc} \\t ---> {name} ')\n",
    "    \n",
    "    #confusion matrix, clasification report, roc curve\n",
    "    cnfm.append(confusion_matrix(y_test.values.ravel(), y_pred))\n",
    "    clr.append(classification_report(y_test.values.ravel(), y_pred))\n",
    "    fpr, tpr, thresholds = roc_curve(y_pred, y_test.values.ravel(), pos_label=1)\n",
    "    roc_auc.append(auc(fpr, tpr))\n",
    "    roc_tpr.append(tpr)\n",
    "    roc_fpr.append(fpr)\n",
    "    \n",
    "\n",
    "for i in cv_results:\n",
    "    cv_acc.append(i.mean())\n",
    "    cv_std.append(i.std())"
   ]
  },
  {
   "cell_type": "code",
   "execution_count": 40,
   "metadata": {},
   "outputs": [
    {
     "data": {
      "text/plain": [
       "Text(0.5, 1.0, 'Cross validation scores')"
      ]
     },
     "execution_count": 40,
     "metadata": {},
     "output_type": "execute_result"
    },
    {
     "data": {
      "image/png": "[encoded data removed]",
      "text/plain": [
       "<Figure size 864x432 with 1 Axes>"
      ]
     },
     "metadata": {
      "needs_background": "light"
     },
     "output_type": "display_data"
    }
   ],
   "source": [
    "# Cross validation accuracy results graph\n",
    "cv_res = pd.DataFrame({\"CrossValMeans\":cv_acc, \"CrossValerrors\": cv_std,\"Algorithm\":clf_name})\n",
    "\n",
    "plt.figure(figsize=(12,6))\n",
    "sns.barplot(x=\"CrossValMeans\",y=\"Algorithm\",data = cv_res, palette=\"Set2\",orient = \"h\",**{'xerr':cv_std})\n",
    "plt.xlabel(\"Mean Accuracy\")\n",
    "plt.title(\"Cross validation scores\")"
   ]
  }
 ],
 "metadata": {
  "kernelspec": {
   "display_name": "Python 3.10.2 64-bit",
   "language": "python",
   "name": "python3"
  },
  "language_info": {
   "codemirror_mode": {
    "name": "ipython",
    "version": 3
   },
   "file_extension": ".py",
   "mimetype": "text/x-python",
   "name": "python",
   "nbconvert_exporter": "python",
   "pygments_lexer": "ipython3",
   "version": "3.10.2"
  },
  "orig_nbformat": 4,
  "vscode": {
   "interpreter": {
    "hash": "369f2c481f4da34e4445cda3fffd2e751bd1c4d706f27375911949ba6bb62e1c"
   }
  }
 },
 "nbformat": 4,
 "nbformat_minor": 2
}
