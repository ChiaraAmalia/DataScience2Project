{
 "cells": [
  {
   "cell_type": "code",
   "execution_count": 1,
   "metadata": {},
   "outputs": [],
   "source": [
    "# importare tutte le librerie necessarie\n",
    "import pandas as pd\n",
    "import numpy as np\n",
    "import datetime as dt\n",
    "from tabulate import tabulate\n",
    "import matplotlib.pyplot as plt\n",
    "import seaborn as sns\n",
    "\n",
    "#Processing libraries\n",
    "from sklearn.preprocessing import StandardScaler,MinMaxScaler\n",
    "\n",
    "# Model libraries\n",
    "from sklearn.linear_model import LogisticRegression\n",
    "from sklearn.neighbors import KNeighborsClassifier\n",
    "from sklearn.svm import SVC, LinearSVC, NuSVC\n",
    "from sklearn.tree import DecisionTreeClassifier\n",
    "from sklearn.ensemble import RandomForestClassifier, AdaBoostClassifier, GradientBoostingClassifier, ExtraTreesClassifier, VotingClassifier\n",
    "from sklearn.neural_network import MLPClassifier\n",
    "from sklearn.discriminant_analysis import LinearDiscriminantAnalysis, QuadraticDiscriminantAnalysis\n",
    "from sklearn.naive_bayes import GaussianNB\n",
    "\n",
    "# Testing libraries\n",
    "from sklearn.model_selection import train_test_split, cross_val_score, StratifiedKFold, GridSearchCV, learning_curve\n",
    "from sklearn.metrics import accuracy_score, log_loss, confusion_matrix, classification_report, roc_curve, auc\n",
    "\n",
    "path = r\".\\\\DataSet\\\\\""
   ]
  },
  {
   "cell_type": "code",
   "execution_count": 2,
   "metadata": {},
   "outputs": [
    {
     "data": {
      "text/html": [
       "<div>\n",
       "<style scoped>\n",
       "    .dataframe tbody tr th:only-of-type {\n",
       "        vertical-align: middle;\n",
       "    }\n",
       "\n",
       "    .dataframe tbody tr th {\n",
       "        vertical-align: top;\n",
       "    }\n",
       "\n",
       "    .dataframe thead th {\n",
       "        text-align: right;\n",
       "    }\n",
       "</style>\n",
       "<table border=\"1\" class=\"dataframe\">\n",
       "  <thead>\n",
       "    <tr style=\"text-align: right;\">\n",
       "      <th></th>\n",
       "      <th>date</th>\n",
       "      <th>BEN</th>\n",
       "      <th>CO</th>\n",
       "      <th>EBE</th>\n",
       "      <th>NMHC</th>\n",
       "      <th>NO</th>\n",
       "      <th>NO_2</th>\n",
       "      <th>O_3</th>\n",
       "      <th>PM10</th>\n",
       "      <th>PM25</th>\n",
       "      <th>SO_2</th>\n",
       "      <th>TCH</th>\n",
       "      <th>TOL</th>\n",
       "      <th>station</th>\n",
       "    </tr>\n",
       "  </thead>\n",
       "  <tbody>\n",
       "    <tr>\n",
       "      <th>0</th>\n",
       "      <td>2008-06-01 01:00:00</td>\n",
       "      <td>NaN</td>\n",
       "      <td>0.47</td>\n",
       "      <td>NaN</td>\n",
       "      <td>NaN</td>\n",
       "      <td>11.820078</td>\n",
       "      <td>83.089996</td>\n",
       "      <td>16.990000</td>\n",
       "      <td>16.889999</td>\n",
       "      <td>10.4</td>\n",
       "      <td>8.98</td>\n",
       "      <td>NaN</td>\n",
       "      <td>NaN</td>\n",
       "      <td>28079001</td>\n",
       "    </tr>\n",
       "    <tr>\n",
       "      <th>1</th>\n",
       "      <td>2008-06-01 01:00:00</td>\n",
       "      <td>NaN</td>\n",
       "      <td>0.59</td>\n",
       "      <td>NaN</td>\n",
       "      <td>NaN</td>\n",
       "      <td>11.820078</td>\n",
       "      <td>94.820000</td>\n",
       "      <td>17.469999</td>\n",
       "      <td>19.040001</td>\n",
       "      <td>NaN</td>\n",
       "      <td>5.85</td>\n",
       "      <td>NaN</td>\n",
       "      <td>NaN</td>\n",
       "      <td>28079003</td>\n",
       "    </tr>\n",
       "    <tr>\n",
       "      <th>2</th>\n",
       "      <td>2008-06-01 01:00:00</td>\n",
       "      <td>NaN</td>\n",
       "      <td>0.55</td>\n",
       "      <td>NaN</td>\n",
       "      <td>NaN</td>\n",
       "      <td>11.820078</td>\n",
       "      <td>75.919998</td>\n",
       "      <td>13.470000</td>\n",
       "      <td>20.270000</td>\n",
       "      <td>NaN</td>\n",
       "      <td>6.95</td>\n",
       "      <td>NaN</td>\n",
       "      <td>NaN</td>\n",
       "      <td>28079004</td>\n",
       "    </tr>\n",
       "    <tr>\n",
       "      <th>3</th>\n",
       "      <td>2008-06-01 01:00:00</td>\n",
       "      <td>NaN</td>\n",
       "      <td>0.36</td>\n",
       "      <td>NaN</td>\n",
       "      <td>NaN</td>\n",
       "      <td>11.820078</td>\n",
       "      <td>61.029999</td>\n",
       "      <td>23.110001</td>\n",
       "      <td>10.850000</td>\n",
       "      <td>NaN</td>\n",
       "      <td>5.96</td>\n",
       "      <td>NaN</td>\n",
       "      <td>NaN</td>\n",
       "      <td>28079039</td>\n",
       "    </tr>\n",
       "    <tr>\n",
       "      <th>4</th>\n",
       "      <td>2008-06-01 01:00:00</td>\n",
       "      <td>1.68</td>\n",
       "      <td>0.80</td>\n",
       "      <td>1.7</td>\n",
       "      <td>0.3</td>\n",
       "      <td>11.820078</td>\n",
       "      <td>105.199997</td>\n",
       "      <td>12.120000</td>\n",
       "      <td>37.160000</td>\n",
       "      <td>21.9</td>\n",
       "      <td>10.92</td>\n",
       "      <td>1.53</td>\n",
       "      <td>6.67</td>\n",
       "      <td>28079006</td>\n",
       "    </tr>\n",
       "  </tbody>\n",
       "</table>\n",
       "</div>"
      ],
      "text/plain": [
       "                  date   BEN    CO  EBE  NMHC         NO        NO_2  \\\n",
       "0  2008-06-01 01:00:00   NaN  0.47  NaN   NaN  11.820078   83.089996   \n",
       "1  2008-06-01 01:00:00   NaN  0.59  NaN   NaN  11.820078   94.820000   \n",
       "2  2008-06-01 01:00:00   NaN  0.55  NaN   NaN  11.820078   75.919998   \n",
       "3  2008-06-01 01:00:00   NaN  0.36  NaN   NaN  11.820078   61.029999   \n",
       "4  2008-06-01 01:00:00  1.68  0.80  1.7   0.3  11.820078  105.199997   \n",
       "\n",
       "         O_3       PM10  PM25   SO_2   TCH   TOL   station  \n",
       "0  16.990000  16.889999  10.4   8.98   NaN   NaN  28079001  \n",
       "1  17.469999  19.040001   NaN   5.85   NaN   NaN  28079003  \n",
       "2  13.470000  20.270000   NaN   6.95   NaN   NaN  28079004  \n",
       "3  23.110001  10.850000   NaN   5.96   NaN   NaN  28079039  \n",
       "4  12.120000  37.160000  21.9  10.92  1.53  6.67  28079006  "
      ]
     },
     "execution_count": 2,
     "metadata": {},
     "output_type": "execute_result"
    }
   ],
   "source": [
    "allMadrid = pd.read_csv(path+\"out.csv\")\n",
    "allMadrid.head()"
   ]
  },
  {
   "cell_type": "code",
   "execution_count": 3,
   "metadata": {},
   "outputs": [
    {
     "name": "stdout",
     "output_type": "stream",
     "text": [
      "0          16.889999\n",
      "1          19.040001\n",
      "2          20.270000\n",
      "3          10.850000\n",
      "4          37.160000\n",
      "             ...    \n",
      "2190883    35.000000\n",
      "2190884    29.000000\n",
      "2190885    22.165019\n",
      "2190886    22.165019\n",
      "2190887    26.000000\n",
      "Name: PM10, Length: 2190888, dtype: float64\n"
     ]
    }
   ],
   "source": [
    "#cerco i campi NaN in PM10 e li sostituisco con la media dei valori noti\n",
    "#trovo il valor medio\n",
    "for col in allMadrid.columns:\n",
    "    if allMadrid[col].dtype != object:\n",
    "        allMadrid[col]=allMadrid[col].fillna(allMadrid[col].mean())\n",
    "\n",
    "print(allMadrid['PM10'])"
   ]
  },
  {
   "cell_type": "code",
   "execution_count": 4,
   "metadata": {},
   "outputs": [
    {
     "name": "stdout",
     "output_type": "stream",
     "text": [
      "0         2008-06-01\n",
      "1         2008-06-01\n",
      "2         2008-06-01\n",
      "3         2008-06-01\n",
      "4         2008-06-01\n",
      "             ...    \n",
      "2190883   2018-02-01\n",
      "2190884   2018-02-01\n",
      "2190885   2018-02-01\n",
      "2190886   2018-02-01\n",
      "2190887   2018-02-01\n",
      "Name: date, Length: 2190888, dtype: datetime64[ns]\n"
     ]
    }
   ],
   "source": [
    "# Faccio un cambio di formato sul campo data passando da stringa a data\n",
    "allMadrid['date'] = pd.to_datetime(allMadrid['date'], format='%Y/%m/%d %H:%M:%S')\n",
    "#prendo la data solo in formato AAAA-MM-GG\n",
    "allMadrid['date'] = pd.to_datetime(allMadrid['date'].dt.strftime('%Y-%m-%d'))\n",
    "print(allMadrid['date'])\n"
   ]
  },
  {
   "cell_type": "code",
   "execution_count": 6,
   "metadata": {},
   "outputs": [
    {
     "name": "stdout",
     "output_type": "stream",
     "text": [
      "                          BEN        CO       EBE      NMHC         NO  \\\n",
      "station  date                                                            \n",
      "28079001 2008-01-01  0.744943  0.763913  0.817488  0.195187  11.820078   \n",
      "         2008-01-02  0.744943  0.597917  0.817488  0.195187  11.820078   \n",
      "         2008-01-03  0.744943  0.484583  0.817488  0.195187  11.820078   \n",
      "         2008-01-04  0.744943  0.592500  0.817488  0.195187  11.820078   \n",
      "         2008-01-05  0.744943  0.444583  0.817488  0.195187  11.820078   \n",
      "...                       ...       ...       ...       ...        ...   \n",
      "28079099 2010-12-28  1.735417  0.710000  1.458750  0.274583  11.820078   \n",
      "         2010-12-29  1.761667  0.740417  1.670417  0.252917  11.820078   \n",
      "         2010-12-30  1.387083  0.614583  1.189167  0.230417  11.820078   \n",
      "         2010-12-31  0.968333  0.438750  0.742500  0.196667  11.820078   \n",
      "         2011-01-01  1.110000  0.480000  0.860000  0.230000  11.820078   \n",
      "\n",
      "                          NO_2        O_3       PM10       PM25       SO_2  \\\n",
      "station  date                                                                \n",
      "28079001 2008-01-01  97.553044   6.900000  46.143478  33.906956  32.737392   \n",
      "         2008-01-02  86.338750   8.109583  29.147917  21.849583  22.610417   \n",
      "         2008-01-03  84.912501  15.342500  17.278750  11.827917  16.620833   \n",
      "         2008-01-04  83.302084  13.235833  30.561042  18.371774  20.002500   \n",
      "         2008-01-05  65.199584  13.168750  27.475833  19.059167  17.096667   \n",
      "...                        ...        ...        ...        ...        ...   \n",
      "28079099 2010-12-28  86.317500   7.642500  35.746666  18.600833  18.478333   \n",
      "         2010-12-29  82.273750   9.689583  31.685416  17.294167  18.050833   \n",
      "         2010-12-30  68.607916   7.415417  25.959166  15.407500  13.350000   \n",
      "         2010-12-31  55.203750  14.215417  14.845417  10.344583  10.289583   \n",
      "         2011-01-01  53.529999   6.850000  19.450001  14.540000  11.710000   \n",
      "\n",
      "                          TCH       TOL  \n",
      "station  date                            \n",
      "28079001 2008-01-01  1.429709  3.211411  \n",
      "         2008-01-02  1.429709  3.211411  \n",
      "         2008-01-03  1.429709  3.211411  \n",
      "         2008-01-04  1.429709  3.211411  \n",
      "         2008-01-05  1.429709  3.211411  \n",
      "...                       ...       ...  \n",
      "28079099 2010-12-28  1.636250  5.962917  \n",
      "         2010-12-29  1.556667  6.776667  \n",
      "         2010-12-30  1.511250  4.338333  \n",
      "         2010-12-31  1.476250  2.267917  \n",
      "         2011-01-01  1.660000  2.460000  \n",
      "\n",
      "[91374 rows x 12 columns]\n"
     ]
    }
   ],
   "source": [
    "#raggruppo per station\n",
    "allMadrid = allMadrid.groupby(['station','date']).mean()\n",
    "print(allMadrid)"
   ]
  },
  {
   "cell_type": "markdown",
   "metadata": {},
   "source": [
    "CLASSIFICAZIONE"
   ]
  },
  {
   "cell_type": "code",
   "execution_count": 7,
   "metadata": {},
   "outputs": [
    {
     "data": {
      "text/plain": [
       "0    89661\n",
       "1     1713\n",
       "Name: Livello, dtype: int64"
      ]
     },
     "execution_count": 7,
     "metadata": {},
     "output_type": "execute_result"
    }
   ],
   "source": [
    "condition_list = [(allMadrid['PM10'] <= 50), (allMadrid['PM10'] > 50)]\n",
    "\n",
    "choicelist = [0,1] \n",
    "\n",
    "allMadrid['Livello'] = np.select(condition_list, choicelist, default='Non Specificato')\n",
    "\n",
    "allMadrid['Livello'].value_counts() "
   ]
  },
  {
   "cell_type": "code",
   "execution_count": 8,
   "metadata": {},
   "outputs": [
    {
     "data": {
      "text/html": [
       "<div>\n",
       "<style scoped>\n",
       "    .dataframe tbody tr th:only-of-type {\n",
       "        vertical-align: middle;\n",
       "    }\n",
       "\n",
       "    .dataframe tbody tr th {\n",
       "        vertical-align: top;\n",
       "    }\n",
       "\n",
       "    .dataframe thead th {\n",
       "        text-align: right;\n",
       "    }\n",
       "</style>\n",
       "<table border=\"1\" class=\"dataframe\">\n",
       "  <thead>\n",
       "    <tr style=\"text-align: right;\">\n",
       "      <th></th>\n",
       "      <th></th>\n",
       "      <th>BEN</th>\n",
       "      <th>CO</th>\n",
       "      <th>EBE</th>\n",
       "      <th>NMHC</th>\n",
       "      <th>NO</th>\n",
       "      <th>NO_2</th>\n",
       "      <th>O_3</th>\n",
       "      <th>PM10</th>\n",
       "      <th>PM25</th>\n",
       "      <th>SO_2</th>\n",
       "      <th>TCH</th>\n",
       "      <th>TOL</th>\n",
       "      <th>Livello</th>\n",
       "    </tr>\n",
       "    <tr>\n",
       "      <th>station</th>\n",
       "      <th>date</th>\n",
       "      <th></th>\n",
       "      <th></th>\n",
       "      <th></th>\n",
       "      <th></th>\n",
       "      <th></th>\n",
       "      <th></th>\n",
       "      <th></th>\n",
       "      <th></th>\n",
       "      <th></th>\n",
       "      <th></th>\n",
       "      <th></th>\n",
       "      <th></th>\n",
       "      <th></th>\n",
       "    </tr>\n",
       "  </thead>\n",
       "  <tbody>\n",
       "    <tr>\n",
       "      <th rowspan=\"5\" valign=\"top\">28079001</th>\n",
       "      <th>2008-01-01</th>\n",
       "      <td>0.744943</td>\n",
       "      <td>0.763913</td>\n",
       "      <td>0.817488</td>\n",
       "      <td>0.195187</td>\n",
       "      <td>11.820078</td>\n",
       "      <td>97.553044</td>\n",
       "      <td>6.900000</td>\n",
       "      <td>46.143478</td>\n",
       "      <td>33.906956</td>\n",
       "      <td>32.737392</td>\n",
       "      <td>1.429709</td>\n",
       "      <td>3.211411</td>\n",
       "      <td>0</td>\n",
       "    </tr>\n",
       "    <tr>\n",
       "      <th>2008-01-02</th>\n",
       "      <td>0.744943</td>\n",
       "      <td>0.597917</td>\n",
       "      <td>0.817488</td>\n",
       "      <td>0.195187</td>\n",
       "      <td>11.820078</td>\n",
       "      <td>86.338750</td>\n",
       "      <td>8.109583</td>\n",
       "      <td>29.147917</td>\n",
       "      <td>21.849583</td>\n",
       "      <td>22.610417</td>\n",
       "      <td>1.429709</td>\n",
       "      <td>3.211411</td>\n",
       "      <td>0</td>\n",
       "    </tr>\n",
       "    <tr>\n",
       "      <th>2008-01-03</th>\n",
       "      <td>0.744943</td>\n",
       "      <td>0.484583</td>\n",
       "      <td>0.817488</td>\n",
       "      <td>0.195187</td>\n",
       "      <td>11.820078</td>\n",
       "      <td>84.912501</td>\n",
       "      <td>15.342500</td>\n",
       "      <td>17.278750</td>\n",
       "      <td>11.827917</td>\n",
       "      <td>16.620833</td>\n",
       "      <td>1.429709</td>\n",
       "      <td>3.211411</td>\n",
       "      <td>0</td>\n",
       "    </tr>\n",
       "    <tr>\n",
       "      <th>2008-01-04</th>\n",
       "      <td>0.744943</td>\n",
       "      <td>0.592500</td>\n",
       "      <td>0.817488</td>\n",
       "      <td>0.195187</td>\n",
       "      <td>11.820078</td>\n",
       "      <td>83.302084</td>\n",
       "      <td>13.235833</td>\n",
       "      <td>30.561042</td>\n",
       "      <td>18.371774</td>\n",
       "      <td>20.002500</td>\n",
       "      <td>1.429709</td>\n",
       "      <td>3.211411</td>\n",
       "      <td>0</td>\n",
       "    </tr>\n",
       "    <tr>\n",
       "      <th>2008-01-05</th>\n",
       "      <td>0.744943</td>\n",
       "      <td>0.444583</td>\n",
       "      <td>0.817488</td>\n",
       "      <td>0.195187</td>\n",
       "      <td>11.820078</td>\n",
       "      <td>65.199584</td>\n",
       "      <td>13.168750</td>\n",
       "      <td>27.475833</td>\n",
       "      <td>19.059167</td>\n",
       "      <td>17.096667</td>\n",
       "      <td>1.429709</td>\n",
       "      <td>3.211411</td>\n",
       "      <td>0</td>\n",
       "    </tr>\n",
       "  </tbody>\n",
       "</table>\n",
       "</div>"
      ],
      "text/plain": [
       "                          BEN        CO       EBE      NMHC         NO  \\\n",
       "station  date                                                            \n",
       "28079001 2008-01-01  0.744943  0.763913  0.817488  0.195187  11.820078   \n",
       "         2008-01-02  0.744943  0.597917  0.817488  0.195187  11.820078   \n",
       "         2008-01-03  0.744943  0.484583  0.817488  0.195187  11.820078   \n",
       "         2008-01-04  0.744943  0.592500  0.817488  0.195187  11.820078   \n",
       "         2008-01-05  0.744943  0.444583  0.817488  0.195187  11.820078   \n",
       "\n",
       "                          NO_2        O_3       PM10       PM25       SO_2  \\\n",
       "station  date                                                                \n",
       "28079001 2008-01-01  97.553044   6.900000  46.143478  33.906956  32.737392   \n",
       "         2008-01-02  86.338750   8.109583  29.147917  21.849583  22.610417   \n",
       "         2008-01-03  84.912501  15.342500  17.278750  11.827917  16.620833   \n",
       "         2008-01-04  83.302084  13.235833  30.561042  18.371774  20.002500   \n",
       "         2008-01-05  65.199584  13.168750  27.475833  19.059167  17.096667   \n",
       "\n",
       "                          TCH       TOL Livello  \n",
       "station  date                                    \n",
       "28079001 2008-01-01  1.429709  3.211411       0  \n",
       "         2008-01-02  1.429709  3.211411       0  \n",
       "         2008-01-03  1.429709  3.211411       0  \n",
       "         2008-01-04  1.429709  3.211411       0  \n",
       "         2008-01-05  1.429709  3.211411       0  "
      ]
     },
     "execution_count": 8,
     "metadata": {},
     "output_type": "execute_result"
    }
   ],
   "source": [
    "allMadrid.head()"
   ]
  },
  {
   "cell_type": "markdown",
   "metadata": {},
   "source": [
    "BILANCIAMENTO DEL DATASET"
   ]
  },
  {
   "cell_type": "code",
   "execution_count": 9,
   "metadata": {},
   "outputs": [
    {
     "name": "stdout",
     "output_type": "stream",
     "text": [
      "Tollerabili:  89661 Non tollerabili:  1713\n"
     ]
    }
   ],
   "source": [
    "#separazione da tollerabile a non_tollerabile\n",
    "Livello = allMadrid['Livello']\n",
    "allMadrid['Livello'] = pd.Series(Livello)\n",
    "non_tollerabile = allMadrid[allMadrid.Livello == '1']\n",
    "tollerabile = allMadrid[allMadrid.Livello == '0']\n",
    "\n",
    "print(\"Tollerabili: \", len(tollerabile), \"Non tollerabili: \", len(non_tollerabile))"
   ]
  },
  {
   "cell_type": "code",
   "execution_count": 11,
   "metadata": {},
   "outputs": [
    {
     "data": {
      "text/plain": [
       "(3426, 13)"
      ]
     },
     "execution_count": 11,
     "metadata": {},
     "output_type": "execute_result"
    }
   ],
   "source": [
    "#bilanciamento del dataset\n",
    "balanced_d = pd.concat([non_tollerabile, tollerabile.sample(len(non_tollerabile))])\n",
    "x = balanced_d.iloc[:,:-1]\n",
    "y = balanced_d.iloc[:,-1:]\n",
    "balanced_d.shape"
   ]
  },
  {
   "cell_type": "markdown",
   "metadata": {},
   "source": [
    "ANALISI DELLE CORRELAZIONI"
   ]
  },
  {
   "cell_type": "code",
   "execution_count": 13,
   "metadata": {},
   "outputs": [
    {
     "data": {
      "image/png": "[encoded data removed]",
      "text/plain": [
       "<Figure size 2160x1080 with 2 Axes>"
      ]
     },
     "metadata": {
      "needs_background": "light"
     },
     "output_type": "display_data"
    }
   ],
   "source": [
    "plt.figure(figsize=(30,15))\n",
    "\n",
    "no = allMadrid['NO']\n",
    "no2 = allMadrid['NO_2']\n",
    "so2 = allMadrid['SO_2']\n",
    "pm25 = allMadrid['PM25']\n",
    "pm10 = allMadrid['PM10']\n",
    "\n",
    "result = pd.concat([no,no2,so2,pm25,pm10], axis=1)\n",
    "ax = sns.heatmap(result.corr(),cmap=\"Blues\",annot=True,annot_kws={\"size\": 18})"
   ]
  },
  {
   "cell_type": "markdown",
   "metadata": {},
   "source": [
    "CLASSIFICAZIONE BINARIA"
   ]
  },
  {
   "cell_type": "code",
   "execution_count": 14,
   "metadata": {},
   "outputs": [
    {
     "name": "stdout",
     "output_type": "stream",
     "text": [
      "(2740, 12)\n",
      "(686, 12)\n",
      "(2740, 1)\n",
      "(686, 1)\n"
     ]
    }
   ],
   "source": [
    "# Random state\n",
    "rs = 42\n",
    "\n",
    "# Split the data to check which algorithms learn better (later on we can check )\n",
    "x_train, x_test, y_train, y_test = train_test_split(x, y, test_size=0.2, random_state=rs)\n",
    "y_train = y_train.astype(int)\n",
    "y_test = y_test.astype(int)\n",
    "\n",
    "# look at the shape of the data (many problems can arise from wrong shape)\n",
    "print(x_train.shape)\n",
    "print(x_test.shape)\n",
    "print(y_train.shape)\n",
    "print(y_test.shape)"
   ]
  },
  {
   "cell_type": "markdown",
   "metadata": {},
   "source": [
    "CLASSIFICATORI"
   ]
  },
  {
   "cell_type": "code",
   "execution_count": 15,
   "metadata": {},
   "outputs": [],
   "source": [
    "# List of classifiers:\n",
    "classifiers = [\n",
    "    LogisticRegression(random_state = rs),\n",
    "    DecisionTreeClassifier(random_state=rs),\n",
    "    SVC(probability=True),\n",
    "    RandomForestClassifier(n_estimators = 10, random_state=rs),\n",
    "    GradientBoostingClassifier(random_state= rs),\n",
    "    AdaBoostClassifier(n_estimators=10, random_state= rs),\n",
    "    LinearDiscriminantAnalysis()\n",
    "]\n",
    "\n",
    "# List of results that will occure:\n",
    "clf_name = [] # names of the classifiers\n",
    "model_results = pd.DataFrame.copy(y_test) #resulting of prediction from the models\n",
    "\n",
    "kfold = StratifiedKFold(n_splits=5) #cross-validation\n",
    "cv_results = [] # scores from cross validation\n",
    "cv_acc = [] # mean accuracy from cross validation, need to maximize\n",
    "cv_std = [] # standard deviation from cross validation, need to minimise\n",
    "\n",
    "cnfm = [] #confusion matrix\n",
    "clr = [] #classification report\n",
    "roc_auc = [] #roc curve:\n",
    "roc_tpr = []\n",
    "roc_fpr = []"
   ]
  },
  {
   "cell_type": "markdown",
   "metadata": {},
   "source": [
    "ACCURATEZZA"
   ]
  },
  {
   "cell_type": "code",
   "execution_count": 16,
   "metadata": {},
   "outputs": [
    {
     "name": "stderr",
     "output_type": "stream",
     "text": [
      "C:\\Users\\chiar\\AppData\\Roaming\\Python\\Python310\\site-packages\\sklearn\\linear_model\\_logistic.py:444: ConvergenceWarning: lbfgs failed to converge (status=1):\n",
      "STOP: TOTAL NO. of ITERATIONS REACHED LIMIT.\n",
      "\n",
      "Increase the number of iterations (max_iter) or scale the data as shown in:\n",
      "    https://scikit-learn.org/stable/modules/preprocessing.html\n",
      "Please also refer to the documentation for alternative solver options:\n",
      "    https://scikit-learn.org/stable/modules/linear_model.html#logistic-regression\n",
      "  n_iter_i = _check_optimize_result(\n",
      "C:\\Users\\chiar\\AppData\\Roaming\\Python\\Python310\\site-packages\\sklearn\\linear_model\\_logistic.py:444: ConvergenceWarning: lbfgs failed to converge (status=1):\n",
      "STOP: TOTAL NO. of ITERATIONS REACHED LIMIT.\n",
      "\n",
      "Increase the number of iterations (max_iter) or scale the data as shown in:\n",
      "    https://scikit-learn.org/stable/modules/preprocessing.html\n",
      "Please also refer to the documentation for alternative solver options:\n",
      "    https://scikit-learn.org/stable/modules/linear_model.html#logistic-regression\n",
      "  n_iter_i = _check_optimize_result(\n",
      "C:\\Users\\chiar\\AppData\\Roaming\\Python\\Python310\\site-packages\\sklearn\\linear_model\\_logistic.py:444: ConvergenceWarning: lbfgs failed to converge (status=1):\n",
      "STOP: TOTAL NO. of ITERATIONS REACHED LIMIT.\n",
      "\n",
      "Increase the number of iterations (max_iter) or scale the data as shown in:\n",
      "    https://scikit-learn.org/stable/modules/preprocessing.html\n",
      "Please also refer to the documentation for alternative solver options:\n",
      "    https://scikit-learn.org/stable/modules/linear_model.html#logistic-regression\n",
      "  n_iter_i = _check_optimize_result(\n",
      "C:\\Users\\chiar\\AppData\\Roaming\\Python\\Python310\\site-packages\\sklearn\\linear_model\\_logistic.py:444: ConvergenceWarning: lbfgs failed to converge (status=1):\n",
      "STOP: TOTAL NO. of ITERATIONS REACHED LIMIT.\n",
      "\n",
      "Increase the number of iterations (max_iter) or scale the data as shown in:\n",
      "    https://scikit-learn.org/stable/modules/preprocessing.html\n",
      "Please also refer to the documentation for alternative solver options:\n",
      "    https://scikit-learn.org/stable/modules/linear_model.html#logistic-regression\n",
      "  n_iter_i = _check_optimize_result(\n",
      "C:\\Users\\chiar\\AppData\\Roaming\\Python\\Python310\\site-packages\\sklearn\\linear_model\\_logistic.py:444: ConvergenceWarning: lbfgs failed to converge (status=1):\n",
      "STOP: TOTAL NO. of ITERATIONS REACHED LIMIT.\n",
      "\n",
      "Increase the number of iterations (max_iter) or scale the data as shown in:\n",
      "    https://scikit-learn.org/stable/modules/preprocessing.html\n",
      "Please also refer to the documentation for alternative solver options:\n",
      "    https://scikit-learn.org/stable/modules/linear_model.html#logistic-regression\n",
      "  n_iter_i = _check_optimize_result(\n",
      "C:\\Users\\chiar\\AppData\\Roaming\\Python\\Python310\\site-packages\\sklearn\\linear_model\\_logistic.py:444: ConvergenceWarning: lbfgs failed to converge (status=1):\n",
      "STOP: TOTAL NO. of ITERATIONS REACHED LIMIT.\n",
      "\n",
      "Increase the number of iterations (max_iter) or scale the data as shown in:\n",
      "    https://scikit-learn.org/stable/modules/preprocessing.html\n",
      "Please also refer to the documentation for alternative solver options:\n",
      "    https://scikit-learn.org/stable/modules/linear_model.html#logistic-regression\n",
      "  n_iter_i = _check_optimize_result(\n"
     ]
    },
    {
     "name": "stdout",
     "output_type": "stream",
     "text": [
      "Accuracy: 1.0 \t ---> LogisticRegression \n",
      "Accuracy: 1.0 \t ---> DecisionTreeClassifier \n",
      "Accuracy: 1.0 \t ---> SVC \n",
      "Accuracy: 1.0 \t ---> RandomForestClassifier \n",
      "Accuracy: 1.0 \t ---> GradientBoostingClassifier \n",
      "Accuracy: 1.0 \t ---> AdaBoostClassifier \n",
      "Accuracy: 0.97 \t ---> LinearDiscriminantAnalysis \n"
     ]
    }
   ],
   "source": [
    "# Training the algorithms and results\n",
    "for clf in classifiers:\n",
    "    name = clf.__class__.__name__\n",
    "    clf_name.append(name)\n",
    "    \n",
    "    #fitting and predictions\n",
    "    model = clf.fit(x_train, y_train.values.ravel())\n",
    "    y_pred = model.predict(x_test)\n",
    "    model_results[name] = y_pred\n",
    "    \n",
    "    #accuracy and log loss\n",
    "    cv_results.append(cross_val_score(clf, x_train, y_train.values.ravel(), scoring = \"accuracy\",cv = kfold))\n",
    "    acc = round(accuracy_score(y_test.values.ravel(), y_pred), 2) #need to maximize\n",
    "    train_pred = clf.predict_proba(x_test)\n",
    "    print(f'Accuracy: {acc} \\t ---> {name} ')\n",
    "    \n",
    "    #confusion matrix, clasification report, roc curve\n",
    "    cnfm.append(confusion_matrix(y_test.values.ravel(), y_pred))\n",
    "    clr.append(classification_report(y_test.values.ravel(), y_pred))\n",
    "    fpr, tpr, thresholds = roc_curve(y_pred, y_test.values.ravel(), pos_label=1)\n",
    "    roc_auc.append(auc(fpr, tpr))\n",
    "    roc_tpr.append(tpr)\n",
    "    roc_fpr.append(fpr)\n",
    "    \n",
    "\n",
    "for i in cv_results:\n",
    "    cv_acc.append(i.mean())\n",
    "    cv_std.append(i.std())"
   ]
  },
  {
   "cell_type": "code",
   "execution_count": 17,
   "metadata": {},
   "outputs": [
    {
     "ename": "TypeError",
     "evalue": "barplot() got multiple values for argument 'data'",
     "output_type": "error",
     "traceback": [
      "\u001b[1;31m---------------------------------------------------------------------------\u001b[0m",
      "\u001b[1;31mTypeError\u001b[0m                                 Traceback (most recent call last)",
      "\u001b[1;32mc:\\Users\\chiar\\OneDrive\\Desktop\\Progetto2DataScience\\DataScience2Project\\Classificazione.ipynb Cella 20\u001b[0m in \u001b[0;36m<cell line: 5>\u001b[1;34m()\u001b[0m\n\u001b[0;32m      <a href='vscode-notebook-cell:/c%3A/Users/chiar/OneDrive/Desktop/Progetto2DataScience/DataScience2Project/Classificazione.ipynb#X25sZmlsZQ%3D%3D?line=1'>2</a>\u001b[0m cv_res \u001b[39m=\u001b[39m pd\u001b[39m.\u001b[39mDataFrame({\u001b[39m\"\u001b[39m\u001b[39mCrossValMeans\u001b[39m\u001b[39m\"\u001b[39m:cv_acc, \u001b[39m\"\u001b[39m\u001b[39mCrossValerrors\u001b[39m\u001b[39m\"\u001b[39m: cv_std,\u001b[39m\"\u001b[39m\u001b[39mAlgorithm\u001b[39m\u001b[39m\"\u001b[39m:clf_name})\n\u001b[0;32m      <a href='vscode-notebook-cell:/c%3A/Users/chiar/OneDrive/Desktop/Progetto2DataScience/DataScience2Project/Classificazione.ipynb#X25sZmlsZQ%3D%3D?line=3'>4</a>\u001b[0m plt\u001b[39m.\u001b[39mfigure(figsize\u001b[39m=\u001b[39m(\u001b[39m12\u001b[39m,\u001b[39m6\u001b[39m))\n\u001b[1;32m----> <a href='vscode-notebook-cell:/c%3A/Users/chiar/OneDrive/Desktop/Progetto2DataScience/DataScience2Project/Classificazione.ipynb#X25sZmlsZQ%3D%3D?line=4'>5</a>\u001b[0m sns\u001b[39m.\u001b[39mbarplot(\u001b[39m\"\u001b[39m\u001b[39mCrossValMeans\u001b[39m\u001b[39m\"\u001b[39m,\u001b[39m\"\u001b[39m\u001b[39mAlgorithm\u001b[39m\u001b[39m\"\u001b[39m,data \u001b[39m=\u001b[39m cv_res, palette\u001b[39m=\u001b[39m\u001b[39m\"\u001b[39m\u001b[39mSet2\u001b[39m\u001b[39m\"\u001b[39m,orient \u001b[39m=\u001b[39m \u001b[39m\"\u001b[39m\u001b[39mh\u001b[39m\u001b[39m\"\u001b[39m,\u001b[39m*\u001b[39m\u001b[39m*\u001b[39m{\u001b[39m'\u001b[39m\u001b[39mxerr\u001b[39m\u001b[39m'\u001b[39m:cv_std})\n\u001b[0;32m      <a href='vscode-notebook-cell:/c%3A/Users/chiar/OneDrive/Desktop/Progetto2DataScience/DataScience2Project/Classificazione.ipynb#X25sZmlsZQ%3D%3D?line=5'>6</a>\u001b[0m plt\u001b[39m.\u001b[39mxlabel(\u001b[39m\"\u001b[39m\u001b[39mMean Accuracy\u001b[39m\u001b[39m\"\u001b[39m)\n\u001b[0;32m      <a href='vscode-notebook-cell:/c%3A/Users/chiar/OneDrive/Desktop/Progetto2DataScience/DataScience2Project/Classificazione.ipynb#X25sZmlsZQ%3D%3D?line=6'>7</a>\u001b[0m plt\u001b[39m.\u001b[39mtitle(\u001b[39m\"\u001b[39m\u001b[39mCross validation scores\u001b[39m\u001b[39m\"\u001b[39m)\n",
      "\u001b[1;31mTypeError\u001b[0m: barplot() got multiple values for argument 'data'"
     ]
    },
    {
     "data": {
      "text/plain": [
       "<Figure size 864x432 with 0 Axes>"
      ]
     },
     "metadata": {},
     "output_type": "display_data"
    }
   ],
   "source": [
    "# Cross validation accuracy results graph\n",
    "cv_res = pd.DataFrame({\"CrossValMeans\":cv_acc, \"CrossValerrors\": cv_std,\"Algorithm\":clf_name})\n",
    "\n",
    "plt.figure(figsize=(12,6))\n",
    "sns.barplot(\"CrossValMeans\",\"Algorithm\",data = cv_res, palette=\"Set2\",orient = \"h\",**{'xerr':cv_std})\n",
    "plt.xlabel(\"Mean Accuracy\")\n",
    "plt.title(\"Cross validation scores\")"
   ]
  }
 ],
 "metadata": {
  "kernelspec": {
   "display_name": "Python 3.10.2 64-bit",
   "language": "python",
   "name": "python3"
  },
  "language_info": {
   "codemirror_mode": {
    "name": "ipython",
    "version": 3
   },
   "file_extension": ".py",
   "mimetype": "text/x-python",
   "name": "python",
   "nbconvert_exporter": "python",
   "pygments_lexer": "ipython3",
   "version": "3.10.2"
  },
  "orig_nbformat": 4,
  "vscode": {
   "interpreter": {
    "hash": "369f2c481f4da34e4445cda3fffd2e751bd1c4d706f27375911949ba6bb62e1c"
   }
  }
 },
 "nbformat": 4,
 "nbformat_minor": 2
}
